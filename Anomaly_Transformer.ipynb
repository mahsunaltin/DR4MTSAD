{
  "nbformat": 4,
  "nbformat_minor": 0,
  "metadata": {
    "colab": {
      "provenance": [],
      "collapsed_sections": [
        "6HAri_RYVg4r",
        "nx4QyDmTCXD-",
        "pUHuThtr5ig8",
        "qK7yIL3F5ig8",
        "5_3YLFQrCSej",
        "fmz4b5IsDjWj",
        "es7qQ-pIDnEM",
        "U-oY94rJDq_G",
        "-ieNVlyH4VeD",
        "GmV-4_l14VeP",
        "WdfF07rm4VeP",
        "D9kLgOgi4VeQ",
        "T5heGmVDVjsB",
        "SIJKnZQYj-XW",
        "0DIUce74j-Xh",
        "VKF53-qPj-Xh",
        "hoNIqrD1WaL8",
        "oF0GlogQWgUM",
        "sFEbQ8uoWi0e",
        "M4Dvhxj-e5Pd",
        "7MRp7NsiXc61",
        "Kbmtjox_Xc63",
        "feQl8hb9Xc64",
        "fIGE06Y4Xc64",
        "3yJMGva-8O5D",
        "hmzRwMJk8O5D",
        "fKWY01OP8O5D",
        "9KeonLxh8O5E",
        "UpJcrizc8O5E",
        "GPXzmfKs8O5E",
        "KAE_sjGM8O5E",
        "nC4IPRMo8O5E",
        "Sxrszrr18O5E",
        "yv2QTMYy8O5E",
        "02KDZnZ68O5E",
        "g-1dPOuN8O5E",
        "jTFPu1NI8O5F"
      ],
      "machine_shape": "hm",
      "gpuType": "T4"
    },
    "kernelspec": {
      "name": "python3",
      "display_name": "Python 3"
    },
    "language_info": {
      "name": "python"
    },
    "accelerator": "GPU"
  },
  "cells": [
    {
      "cell_type": "code",
      "source": [
        "!pip install ipython-autotime\n",
        "%load_ext autotime"
      ],
      "metadata": {
        "colab": {
          "base_uri": "https://localhost:8080/"
        },
        "id": "rgl3rKrB5L5a",
        "outputId": "e4569530-6429-4844-8ee9-475ca64434c9"
      },
      "execution_count": 3,
      "outputs": [
        {
          "output_type": "stream",
          "name": "stdout",
          "text": [
            "Collecting ipython-autotime\n",
            "  Downloading ipython_autotime-0.3.2-py2.py3-none-any.whl (7.0 kB)\n",
            "Requirement already satisfied: ipython in /usr/local/lib/python3.10/dist-packages (from ipython-autotime) (7.34.0)\n",
            "Requirement already satisfied: setuptools>=18.5 in /usr/local/lib/python3.10/dist-packages (from ipython->ipython-autotime) (67.7.2)\n",
            "Collecting jedi>=0.16 (from ipython->ipython-autotime)\n",
            "  Downloading jedi-0.19.1-py2.py3-none-any.whl (1.6 MB)\n",
            "\u001b[2K     \u001b[90m━━━━━━━━━━━━━━━━━━━━━━━━━━━━━━━━━━━━━━━━\u001b[0m \u001b[32m1.6/1.6 MB\u001b[0m \u001b[31m9.2 MB/s\u001b[0m eta \u001b[36m0:00:00\u001b[0m\n",
            "\u001b[?25hRequirement already satisfied: decorator in /usr/local/lib/python3.10/dist-packages (from ipython->ipython-autotime) (4.4.2)\n",
            "Requirement already satisfied: pickleshare in /usr/local/lib/python3.10/dist-packages (from ipython->ipython-autotime) (0.7.5)\n",
            "Requirement already satisfied: traitlets>=4.2 in /usr/local/lib/python3.10/dist-packages (from ipython->ipython-autotime) (5.7.1)\n",
            "Requirement already satisfied: prompt-toolkit!=3.0.0,!=3.0.1,<3.1.0,>=2.0.0 in /usr/local/lib/python3.10/dist-packages (from ipython->ipython-autotime) (3.0.43)\n",
            "Requirement already satisfied: pygments in /usr/local/lib/python3.10/dist-packages (from ipython->ipython-autotime) (2.16.1)\n",
            "Requirement already satisfied: backcall in /usr/local/lib/python3.10/dist-packages (from ipython->ipython-autotime) (0.2.0)\n",
            "Requirement already satisfied: matplotlib-inline in /usr/local/lib/python3.10/dist-packages (from ipython->ipython-autotime) (0.1.6)\n",
            "Requirement already satisfied: pexpect>4.3 in /usr/local/lib/python3.10/dist-packages (from ipython->ipython-autotime) (4.9.0)\n",
            "Requirement already satisfied: parso<0.9.0,>=0.8.3 in /usr/local/lib/python3.10/dist-packages (from jedi>=0.16->ipython->ipython-autotime) (0.8.3)\n",
            "Requirement already satisfied: ptyprocess>=0.5 in /usr/local/lib/python3.10/dist-packages (from pexpect>4.3->ipython->ipython-autotime) (0.7.0)\n",
            "Requirement already satisfied: wcwidth in /usr/local/lib/python3.10/dist-packages (from prompt-toolkit!=3.0.0,!=3.0.1,<3.1.0,>=2.0.0->ipython->ipython-autotime) (0.2.13)\n",
            "Installing collected packages: jedi, ipython-autotime\n",
            "Successfully installed ipython-autotime-0.3.2 jedi-0.19.1\n",
            "time: 278 µs (started: 2024-01-22 15:58:21 +00:00)\n"
          ]
        }
      ]
    },
    {
      "cell_type": "code",
      "execution_count": 1,
      "metadata": {
        "colab": {
          "base_uri": "https://localhost:8080/"
        },
        "id": "1T6v2hAw6cya",
        "outputId": "a0774425-b405-4a3b-bc1e-29ae2acfd0ee"
      },
      "outputs": [
        {
          "output_type": "stream",
          "name": "stdout",
          "text": [
            "Cloning into 'Anomaly-Transformer'...\n",
            "remote: Enumerating objects: 131, done.\u001b[K\n",
            "remote: Counting objects: 100% (58/58), done.\u001b[K\n",
            "remote: Compressing objects: 100% (32/32), done.\u001b[K\n",
            "remote: Total 131 (delta 43), reused 26 (delta 26), pack-reused 73\u001b[K\n",
            "Receiving objects: 100% (131/131), 26.66 MiB | 35.36 MiB/s, done.\n",
            "Resolving deltas: 100% (57/57), done.\n"
          ]
        }
      ],
      "source": [
        "!git clone https://github.com/thuml/Anomaly-Transformer.git"
      ]
    },
    {
      "cell_type": "code",
      "source": [
        "%cd /content/Anomaly-Transformer"
      ],
      "metadata": {
        "colab": {
          "base_uri": "https://localhost:8080/"
        },
        "id": "Xd82ao2g6jRE",
        "outputId": "cacbb047-e82f-42c8-ea97-95fa061beb15"
      },
      "execution_count": 4,
      "outputs": [
        {
          "output_type": "stream",
          "name": "stdout",
          "text": [
            "/content/Anomaly-Transformer\n",
            "time: 643 µs (started: 2024-01-22 15:58:26 +00:00)\n"
          ]
        }
      ]
    },
    {
      "cell_type": "markdown",
      "source": [
        "### SMAP"
      ],
      "metadata": {
        "id": "6HAri_RYVg4r"
      }
    },
    {
      "cell_type": "markdown",
      "source": [
        "##### Original"
      ],
      "metadata": {
        "id": "nx4QyDmTCXD-"
      }
    },
    {
      "cell_type": "code",
      "source": [
        "!export CUDA_VISIBLE_DEVICES=0\n",
        "\n",
        "!python3 main.py --anormly_ratio 1 --num_epochs 3   --batch_size 256  --mode train --dataset SMAP  --data_path ./dataset --input_c 25 --output_c 25"
      ],
      "metadata": {
        "colab": {
          "base_uri": "https://localhost:8080/"
        },
        "id": "dPlJHRgu_SSA",
        "outputId": "03bb9e4f-309e-45ca-ef7f-a7fdf554c794"
      },
      "execution_count": null,
      "outputs": [
        {
          "output_type": "stream",
          "name": "stdout",
          "text": [
            "------------ Options -------------\n",
            "anormly_ratio: 1.0\n",
            "batch_size: 256\n",
            "data_path: ./dataset\n",
            "dataset: SMAP\n",
            "input_c: 25\n",
            "k: 3\n",
            "lr: 0.0001\n",
            "mode: train\n",
            "model_save_path: checkpoints\n",
            "num_epochs: 3\n",
            "output_c: 25\n",
            "pretrained_model: None\n",
            "win_size: 100\n",
            "-------------- End ----------------\n",
            "test: (427617, 25)\n",
            "train: (135183, 25)\n",
            "test: (427617, 25)\n",
            "train: (135183, 25)\n",
            "test: (427617, 25)\n",
            "train: (135183, 25)\n",
            "test: (427617, 25)\n",
            "train: (135183, 25)\n",
            "======================TRAIN MODE======================\n",
            "\tspeed: 0.1417s/iter; left time: 210.3749s\n",
            "\tspeed: 0.1358s/iter; left time: 188.0387s\n",
            "\tspeed: 0.1357s/iter; left time: 174.3904s\n",
            "\tspeed: 0.1359s/iter; left time: 161.0914s\n",
            "\tspeed: 0.1357s/iter; left time: 147.2728s\n",
            "Epoch: 1 cost time: 73.32185411453247\n",
            "Epoch: 1, Steps: 528 | Train Loss: -44.2639274 Vali Loss: -46.1693500 \n",
            "Validation loss decreased (inf --> -46.169350).  Saving model ...\n",
            "Updating learning rate to 0.0001\n",
            "\tspeed: 0.9206s/iter; left time: 880.9898s\n",
            "\tspeed: 0.1359s/iter; left time: 116.4455s\n",
            "\tspeed: 0.1360s/iter; left time: 102.9605s\n",
            "\tspeed: 0.1359s/iter; left time: 89.2688s\n",
            "\tspeed: 0.1362s/iter; left time: 75.8385s\n",
            "Epoch: 2 cost time: 71.70059394836426\n",
            "Epoch: 2, Steps: 528 | Train Loss: -47.5746251 Vali Loss: -47.8387523 \n",
            "EarlyStopping counter: 1 out of 3\n",
            "Updating learning rate to 5e-05\n",
            "\tspeed: 0.9109s/iter; left time: 390.7778s\n",
            "\tspeed: 0.1360s/iter; left time: 44.7303s\n",
            "\tspeed: 0.1362s/iter; left time: 31.1840s\n",
            "\tspeed: 0.1361s/iter; left time: 17.5591s\n",
            "\tspeed: 0.1360s/iter; left time: 3.9429s\n",
            "Epoch: 3 cost time: 71.74682664871216\n",
            "Epoch: 3, Steps: 528 | Train Loss: -48.2198096 Vali Loss: -47.9526378 \n",
            "EarlyStopping counter: 2 out of 3\n",
            "Updating learning rate to 2.5e-05\n"
          ]
        }
      ]
    },
    {
      "cell_type": "code",
      "source": [
        "!python main.py --anormly_ratio 1  --num_epochs 10 --batch_size 256 --mode test --dataset SMAP --data_path ./dataset  --input_c 25 --output_c 25 --pretrained_model 20"
      ],
      "metadata": {
        "colab": {
          "base_uri": "https://localhost:8080/"
        },
        "id": "bkFQJ6umB57B",
        "outputId": "83bd3381-3295-4bf2-9174-e204a228dc5d"
      },
      "execution_count": null,
      "outputs": [
        {
          "output_type": "stream",
          "name": "stdout",
          "text": [
            "------------ Options -------------\n",
            "anormly_ratio: 1.0\n",
            "batch_size: 256\n",
            "data_path: ./dataset\n",
            "dataset: SMAP\n",
            "input_c: 25\n",
            "k: 3\n",
            "lr: 0.0001\n",
            "mode: test\n",
            "model_save_path: checkpoints\n",
            "num_epochs: 10\n",
            "output_c: 25\n",
            "pretrained_model: 20\n",
            "win_size: 100\n",
            "-------------- End ----------------\n",
            "test: (427617, 25)\n",
            "train: (135183, 25)\n",
            "test: (427617, 25)\n",
            "train: (135183, 25)\n",
            "test: (427617, 25)\n",
            "train: (135183, 25)\n",
            "test: (427617, 25)\n",
            "train: (135183, 25)\n",
            "======================TEST MODE======================\n",
            "/usr/local/lib/python3.10/dist-packages/torch/nn/_reduction.py:42: UserWarning: size_average and reduce args will be deprecated, please use reduction='none' instead.\n",
            "  warnings.warn(warning.format(ret))\n",
            "Threshold : 0.0007745586347300559\n",
            "pred:    (427600,)\n",
            "gt:      (427600,)\n",
            "pred:  (427600,)\n",
            "gt:    (427600,)\n",
            "Accuracy : 0.9908, Precision : 0.9381, Recall : 0.9939, F-score : 0.9652 \n"
          ]
        }
      ]
    },
    {
      "cell_type": "markdown",
      "source": [
        "##### PCA TO HALF 12"
      ],
      "metadata": {
        "id": "14NhluNb5ig8"
      }
    },
    {
      "cell_type": "code",
      "source": [
        "!export CUDA_VISIBLE_DEVICES=0\n",
        "\n",
        "!python3 main.py --anormly_ratio 1 --num_epochs 3   --batch_size 256  --mode train --dataset SMAP  --data_path ./dataset/SMAP_PCA --input_c 12 --output_c 12"
      ],
      "metadata": {
        "colab": {
          "base_uri": "https://localhost:8080/"
        },
        "outputId": "db6c0e34-e856-4939-f03e-e312cc8b09b4",
        "id": "J0Zq_JTh5ig8"
      },
      "execution_count": null,
      "outputs": [
        {
          "output_type": "stream",
          "name": "stdout",
          "text": [
            "------------ Options -------------\n",
            "anormly_ratio: 1.0\n",
            "batch_size: 256\n",
            "data_path: ./dataset/SMAP_PCA\n",
            "dataset: SMAP\n",
            "input_c: 12\n",
            "k: 3\n",
            "lr: 0.0001\n",
            "mode: train\n",
            "model_save_path: checkpoints\n",
            "num_epochs: 3\n",
            "output_c: 12\n",
            "pretrained_model: None\n",
            "win_size: 100\n",
            "-------------- End ----------------\n",
            "test: (427617, 12)\n",
            "train: (135183, 12)\n",
            "test: (427617, 12)\n",
            "train: (135183, 12)\n",
            "test: (427617, 12)\n",
            "train: (135183, 12)\n",
            "test: (427617, 12)\n",
            "train: (135183, 12)\n",
            "======================TRAIN MODE======================\n",
            "\tspeed: 0.2143s/iter; left time: 318.2367s\n",
            "\tspeed: 0.2094s/iter; left time: 290.0606s\n",
            "\tspeed: 0.2098s/iter; left time: 269.6307s\n",
            "\tspeed: 0.2101s/iter; left time: 248.9794s\n",
            "\tspeed: 0.2103s/iter; left time: 228.1765s\n",
            "Epoch: 1 cost time: 111.57552123069763\n",
            "Epoch: 1, Steps: 528 | Train Loss: -44.4766262 Vali Loss: -46.7079506 \n",
            "Validation loss decreased (inf --> -46.707951).  Saving model ...\n",
            "Updating learning rate to 0.0001\n",
            "\tspeed: 1.3650s/iter; left time: 1306.3138s\n",
            "\tspeed: 0.2106s/iter; left time: 180.4698s\n",
            "\tspeed: 0.2105s/iter; left time: 159.3499s\n",
            "\tspeed: 0.2105s/iter; left time: 138.3277s\n",
            "\tspeed: 0.2104s/iter; left time: 117.2197s\n",
            "Epoch: 2 cost time: 110.99352478981018\n",
            "Epoch: 2, Steps: 528 | Train Loss: -47.7358772 Vali Loss: -47.3327048 \n",
            "EarlyStopping counter: 1 out of 3\n",
            "Updating learning rate to 5e-05\n",
            "\tspeed: 1.3646s/iter; left time: 585.3950s\n",
            "\tspeed: 0.2106s/iter; left time: 69.2907s\n",
            "\tspeed: 0.2105s/iter; left time: 48.1994s\n",
            "\tspeed: 0.2105s/iter; left time: 27.1510s\n",
            "\tspeed: 0.2105s/iter; left time: 6.1045s\n",
            "Epoch: 3 cost time: 110.98956370353699\n",
            "Epoch: 3, Steps: 528 | Train Loss: -48.0605940 Vali Loss: -47.4250679 \n",
            "EarlyStopping counter: 2 out of 3\n",
            "Updating learning rate to 2.5e-05\n"
          ]
        }
      ]
    },
    {
      "cell_type": "code",
      "source": [
        "!python main.py --anormly_ratio 1  --num_epochs 10 --batch_size 256 --mode test --dataset SMAP --data_path ./dataset/SMAP_PCA --input_c 12 --output_c 12 --pretrained_model 20"
      ],
      "metadata": {
        "colab": {
          "base_uri": "https://localhost:8080/"
        },
        "outputId": "83d281c3-d89d-4a08-84e0-23ec108f9d2c",
        "id": "SafuBv5u5ig8"
      },
      "execution_count": null,
      "outputs": [
        {
          "output_type": "stream",
          "name": "stdout",
          "text": [
            "------------ Options -------------\n",
            "anormly_ratio: 1.0\n",
            "batch_size: 256\n",
            "data_path: ./dataset/SMAP_PCA\n",
            "dataset: SMAP\n",
            "input_c: 12\n",
            "k: 3\n",
            "lr: 0.0001\n",
            "mode: test\n",
            "model_save_path: checkpoints\n",
            "num_epochs: 10\n",
            "output_c: 12\n",
            "pretrained_model: 20\n",
            "win_size: 100\n",
            "-------------- End ----------------\n",
            "test: (427617, 12)\n",
            "train: (135183, 12)\n",
            "test: (427617, 12)\n",
            "train: (135183, 12)\n",
            "test: (427617, 12)\n",
            "train: (135183, 12)\n",
            "test: (427617, 12)\n",
            "train: (135183, 12)\n",
            "======================TEST MODE======================\n",
            "/usr/local/lib/python3.10/dist-packages/torch/nn/_reduction.py:42: UserWarning: size_average and reduce args will be deprecated, please use reduction='none' instead.\n",
            "  warnings.warn(warning.format(ret))\n",
            "Threshold : 0.00042123813182115555\n",
            "pred:    (427600,)\n",
            "gt:      (427600,)\n",
            "pred:  (427600,)\n",
            "gt:    (427600,)\n",
            "Accuracy : 0.9866, Precision : 0.9111, Recall : 0.9916, F-score : 0.9497 \n"
          ]
        }
      ]
    },
    {
      "cell_type": "markdown",
      "source": [
        "##### UMAP TO HALF 12"
      ],
      "metadata": {
        "id": "pUHuThtr5ig8"
      }
    },
    {
      "cell_type": "code",
      "source": [
        "!export CUDA_VISIBLE_DEVICES=0\n",
        "\n",
        "!python3 main.py --anormly_ratio 1 --num_epochs 3   --batch_size 256  --mode train --dataset SMAP  --data_path ./dataset/SMAP_UMAP --input_c 12 --output_c 12"
      ],
      "metadata": {
        "colab": {
          "base_uri": "https://localhost:8080/"
        },
        "outputId": "c1107287-6614-4506-c650-e6cb9c608f65",
        "id": "txxmmdRI5ig8"
      },
      "execution_count": null,
      "outputs": [
        {
          "output_type": "stream",
          "name": "stdout",
          "text": [
            "------------ Options -------------\n",
            "anormly_ratio: 1.0\n",
            "batch_size: 256\n",
            "data_path: ./dataset/SMAP_UMAP\n",
            "dataset: SMAP\n",
            "input_c: 12\n",
            "k: 3\n",
            "lr: 0.0001\n",
            "mode: train\n",
            "model_save_path: checkpoints\n",
            "num_epochs: 3\n",
            "output_c: 12\n",
            "pretrained_model: None\n",
            "win_size: 100\n",
            "-------------- End ----------------\n",
            "test: (427617, 12)\n",
            "train: (135183, 12)\n",
            "test: (427617, 12)\n",
            "train: (135183, 12)\n",
            "test: (427617, 12)\n",
            "train: (135183, 12)\n",
            "test: (427617, 12)\n",
            "train: (135183, 12)\n",
            "======================TRAIN MODE======================\n",
            "\tspeed: 0.2151s/iter; left time: 319.4005s\n",
            "\tspeed: 0.2104s/iter; left time: 291.3652s\n",
            "\tspeed: 0.2105s/iter; left time: 270.5308s\n",
            "\tspeed: 0.2105s/iter; left time: 249.4657s\n",
            "\tspeed: 0.2106s/iter; left time: 228.4530s\n",
            "Epoch: 1 cost time: 111.89741706848145\n",
            "Epoch: 1, Steps: 528 | Train Loss: -44.4143895 Vali Loss: -47.3265465 \n",
            "Validation loss decreased (inf --> -47.326546).  Saving model ...\n",
            "Updating learning rate to 0.0001\n",
            "\tspeed: 1.3586s/iter; left time: 1300.1556s\n",
            "\tspeed: 0.2105s/iter; left time: 180.3652s\n",
            "\tspeed: 0.2105s/iter; left time: 159.3332s\n",
            "\tspeed: 0.2104s/iter; left time: 138.2216s\n",
            "\tspeed: 0.2103s/iter; left time: 117.1490s\n",
            "Epoch: 2 cost time: 110.95966601371765\n",
            "Epoch: 2, Steps: 528 | Train Loss: -48.2109281 Vali Loss: -47.9978068 \n",
            "EarlyStopping counter: 1 out of 3\n",
            "Updating learning rate to 5e-05\n",
            "\tspeed: 1.3552s/iter; left time: 581.3919s\n",
            "\tspeed: 0.2102s/iter; left time: 69.1440s\n",
            "\tspeed: 0.2099s/iter; left time: 48.0727s\n",
            "\tspeed: 0.2100s/iter; left time: 27.0866s\n",
            "\tspeed: 0.2099s/iter; left time: 6.0864s\n",
            "Epoch: 3 cost time: 110.73363757133484\n",
            "Epoch: 3, Steps: 528 | Train Loss: -48.4427973 Vali Loss: -48.1512988 \n",
            "EarlyStopping counter: 2 out of 3\n",
            "Updating learning rate to 2.5e-05\n"
          ]
        }
      ]
    },
    {
      "cell_type": "code",
      "source": [
        "!python main.py --anormly_ratio 1  --num_epochs 10 --batch_size 256 --mode test --dataset SMAP --data_path ./dataset/SMAP_UMAP --input_c 12 --output_c 12 --pretrained_model 20"
      ],
      "metadata": {
        "colab": {
          "base_uri": "https://localhost:8080/"
        },
        "outputId": "5422553b-1042-46cd-a628-b9da4c8e8ec6",
        "id": "lz8a5MxO5ig8"
      },
      "execution_count": null,
      "outputs": [
        {
          "output_type": "stream",
          "name": "stdout",
          "text": [
            "------------ Options -------------\n",
            "anormly_ratio: 1.0\n",
            "batch_size: 256\n",
            "data_path: ./dataset/SMAP_UMAP\n",
            "dataset: SMAP\n",
            "input_c: 12\n",
            "k: 3\n",
            "lr: 0.0001\n",
            "mode: test\n",
            "model_save_path: checkpoints\n",
            "num_epochs: 10\n",
            "output_c: 12\n",
            "pretrained_model: 20\n",
            "win_size: 100\n",
            "-------------- End ----------------\n",
            "test: (427617, 12)\n",
            "train: (135183, 12)\n",
            "test: (427617, 12)\n",
            "train: (135183, 12)\n",
            "test: (427617, 12)\n",
            "train: (135183, 12)\n",
            "test: (427617, 12)\n",
            "train: (135183, 12)\n",
            "======================TEST MODE======================\n",
            "/usr/local/lib/python3.10/dist-packages/torch/nn/_reduction.py:42: UserWarning: size_average and reduce args will be deprecated, please use reduction='none' instead.\n",
            "  warnings.warn(warning.format(ret))\n",
            "Threshold : 0.0029222026420756613\n",
            "pred:    (427600,)\n",
            "gt:      (427600,)\n",
            "pred:  (427600,)\n",
            "gt:    (427600,)\n",
            "Accuracy : 0.9898, Precision : 0.9264, Recall : 0.9993, F-score : 0.9615 \n"
          ]
        }
      ]
    },
    {
      "cell_type": "markdown",
      "source": [
        "##### RP TO HALF 12"
      ],
      "metadata": {
        "id": "qK7yIL3F5ig8"
      }
    },
    {
      "cell_type": "code",
      "source": [
        "!export CUDA_VISIBLE_DEVICES=0\n",
        "\n",
        "!python3 main.py --anormly_ratio 1 --num_epochs 3   --batch_size 256  --mode train --dataset SMAP  --data_path ./dataset/SMAP_RP --input_c 12 --output_c 12"
      ],
      "metadata": {
        "colab": {
          "base_uri": "https://localhost:8080/"
        },
        "outputId": "3b5754c0-8181-4cae-cbb8-ce95e3ea1f78",
        "id": "BNC3W7pr5ig8"
      },
      "execution_count": null,
      "outputs": [
        {
          "output_type": "stream",
          "name": "stdout",
          "text": [
            "------------ Options -------------\n",
            "anormly_ratio: 1.0\n",
            "batch_size: 256\n",
            "data_path: ./dataset/SMAP_RP\n",
            "dataset: SMAP\n",
            "input_c: 12\n",
            "k: 3\n",
            "lr: 0.0001\n",
            "mode: train\n",
            "model_save_path: checkpoints\n",
            "num_epochs: 3\n",
            "output_c: 12\n",
            "pretrained_model: None\n",
            "win_size: 100\n",
            "-------------- End ----------------\n",
            "test: (427617, 12)\n",
            "train: (135183, 12)\n",
            "test: (427617, 12)\n",
            "train: (135183, 12)\n",
            "test: (427617, 12)\n",
            "train: (135183, 12)\n",
            "test: (427617, 12)\n",
            "train: (135183, 12)\n",
            "======================TRAIN MODE======================\n",
            "\tspeed: 0.2149s/iter; left time: 319.0872s\n",
            "\tspeed: 0.2103s/iter; left time: 291.3343s\n",
            "\tspeed: 0.2106s/iter; left time: 270.6296s\n",
            "\tspeed: 0.2107s/iter; left time: 249.6203s\n",
            "\tspeed: 0.2108s/iter; left time: 228.6901s\n",
            "Epoch: 1 cost time: 111.9322259426117\n",
            "Epoch: 1, Steps: 528 | Train Loss: -44.7667111 Vali Loss: -45.3229274 \n",
            "Validation loss decreased (inf --> -45.322927).  Saving model ...\n",
            "Updating learning rate to 0.0001\n",
            "\tspeed: 1.3720s/iter; left time: 1312.9629s\n",
            "\tspeed: 0.2110s/iter; left time: 180.8042s\n",
            "\tspeed: 0.2108s/iter; left time: 159.5949s\n",
            "\tspeed: 0.2107s/iter; left time: 138.4572s\n",
            "\tspeed: 0.2107s/iter; left time: 117.3850s\n",
            "Epoch: 2 cost time: 111.15294027328491\n",
            "Epoch: 2, Steps: 528 | Train Loss: -47.9434352 Vali Loss: -46.2436805 \n",
            "EarlyStopping counter: 1 out of 3\n",
            "Updating learning rate to 5e-05\n",
            "\tspeed: 1.3738s/iter; left time: 589.3754s\n",
            "\tspeed: 0.2105s/iter; left time: 69.2647s\n",
            "\tspeed: 0.2106s/iter; left time: 48.2191s\n",
            "\tspeed: 0.2106s/iter; left time: 27.1716s\n",
            "\tspeed: 0.2105s/iter; left time: 6.1055s\n",
            "Epoch: 3 cost time: 111.05332088470459\n",
            "Epoch: 3, Steps: 528 | Train Loss: -48.1897220 Vali Loss: -46.3757878 \n",
            "EarlyStopping counter: 2 out of 3\n",
            "Updating learning rate to 2.5e-05\n"
          ]
        }
      ]
    },
    {
      "cell_type": "code",
      "source": [
        "!python main.py --anormly_ratio 1  --num_epochs 10 --batch_size 256 --mode test --dataset SMAP --data_path ./dataset/SMAP_RP --input_c 12 --output_c 12 --pretrained_model 20"
      ],
      "metadata": {
        "colab": {
          "base_uri": "https://localhost:8080/"
        },
        "outputId": "0f50762a-7e7d-4c48-e23d-7097f9d6695f",
        "id": "jywfKqhL5ig8"
      },
      "execution_count": null,
      "outputs": [
        {
          "output_type": "stream",
          "name": "stdout",
          "text": [
            "------------ Options -------------\n",
            "anormly_ratio: 1.0\n",
            "batch_size: 256\n",
            "data_path: ./dataset/SMAP_RP\n",
            "dataset: SMAP\n",
            "input_c: 12\n",
            "k: 3\n",
            "lr: 0.0001\n",
            "mode: test\n",
            "model_save_path: checkpoints\n",
            "num_epochs: 10\n",
            "output_c: 12\n",
            "pretrained_model: 20\n",
            "win_size: 100\n",
            "-------------- End ----------------\n",
            "test: (427617, 12)\n",
            "train: (135183, 12)\n",
            "test: (427617, 12)\n",
            "train: (135183, 12)\n",
            "test: (427617, 12)\n",
            "train: (135183, 12)\n",
            "test: (427617, 12)\n",
            "train: (135183, 12)\n",
            "======================TEST MODE======================\n",
            "/usr/local/lib/python3.10/dist-packages/torch/nn/_reduction.py:42: UserWarning: size_average and reduce args will be deprecated, please use reduction='none' instead.\n",
            "  warnings.warn(warning.format(ret))\n",
            "Threshold : 0.0006351096590515072\n",
            "pred:    (427600,)\n",
            "gt:      (427600,)\n",
            "pred:  (427600,)\n",
            "gt:    (427600,)\n",
            "Accuracy : 0.9877, Precision : 0.9160, Recall : 0.9950, F-score : 0.9539 \n"
          ]
        }
      ]
    },
    {
      "cell_type": "markdown",
      "source": [
        "##### t-SNE 3"
      ],
      "metadata": {
        "id": "5_3YLFQrCSej"
      }
    },
    {
      "cell_type": "code",
      "source": [
        "!export CUDA_VISIBLE_DEVICES=0\n",
        "\n",
        "!python3 main.py --anormly_ratio 1 --num_epochs 3   --batch_size 256  --mode train --dataset SMAP  --data_path ./dataset --input_c 3 --output_c 3"
      ],
      "metadata": {
        "colab": {
          "base_uri": "https://localhost:8080/"
        },
        "id": "LE0QN9Pv6mLr",
        "outputId": "075c5afa-c6ee-4354-8dec-29e76ffe2aa9"
      },
      "execution_count": null,
      "outputs": [
        {
          "output_type": "stream",
          "name": "stdout",
          "text": [
            "------------ Options -------------\n",
            "anormly_ratio: 1.0\n",
            "batch_size: 256\n",
            "data_path: ./dataset\n",
            "dataset: SMAP\n",
            "input_c: 3\n",
            "k: 3\n",
            "lr: 0.0001\n",
            "mode: train\n",
            "model_save_path: checkpoints\n",
            "num_epochs: 3\n",
            "output_c: 3\n",
            "pretrained_model: None\n",
            "win_size: 100\n",
            "-------------- End ----------------\n",
            "test: (427617, 3)\n",
            "train: (135183, 3)\n",
            "test: (427617, 3)\n",
            "train: (135183, 3)\n",
            "test: (427617, 3)\n",
            "train: (135183, 3)\n",
            "test: (427617, 3)\n",
            "train: (135183, 3)\n",
            "======================TRAIN MODE======================\n",
            "\tspeed: 0.1555s/iter; left time: 230.9482s\n",
            "\tspeed: 0.1354s/iter; left time: 187.4617s\n",
            "\tspeed: 0.1355s/iter; left time: 174.1592s\n",
            "\tspeed: 0.1356s/iter; left time: 160.6941s\n",
            "\tspeed: 0.1355s/iter; left time: 147.0540s\n",
            "Epoch: 1 cost time: 74.59012532234192\n",
            "Epoch: 1, Steps: 528 | Train Loss: -45.0395624 Vali Loss: -47.8287572 \n",
            "Validation loss decreased (inf --> -47.828757).  Saving model ...\n",
            "Updating learning rate to 0.0001\n",
            "\tspeed: 0.8908s/iter; left time: 852.4616s\n",
            "\tspeed: 0.1357s/iter; left time: 116.3144s\n",
            "\tspeed: 0.1357s/iter; left time: 102.7328s\n",
            "\tspeed: 0.1357s/iter; left time: 89.1400s\n",
            "\tspeed: 0.1358s/iter; left time: 75.6566s\n",
            "Epoch: 2 cost time: 71.58585667610168\n",
            "Epoch: 2, Steps: 528 | Train Loss: -48.2725071 Vali Loss: -48.1677108 \n",
            "EarlyStopping counter: 1 out of 3\n",
            "Updating learning rate to 5e-05\n",
            "\tspeed: 0.8789s/iter; left time: 377.0489s\n",
            "\tspeed: 0.1358s/iter; left time: 44.6786s\n",
            "\tspeed: 0.1357s/iter; left time: 31.0640s\n",
            "\tspeed: 0.1356s/iter; left time: 17.4912s\n",
            "\tspeed: 0.1356s/iter; left time: 3.9337s\n",
            "Epoch: 3 cost time: 71.55097913742065\n",
            "Epoch: 3, Steps: 528 | Train Loss: -48.4058833 Vali Loss: -48.2220625 \n",
            "EarlyStopping counter: 2 out of 3\n",
            "Updating learning rate to 2.5e-05\n"
          ]
        }
      ]
    },
    {
      "cell_type": "code",
      "source": [
        "!python main.py --anormly_ratio 1  --num_epochs 10 --batch_size 256 --mode test --dataset SMAP --data_path ./dataset  --input_c 3 --output_c 3 --pretrained_model 20"
      ],
      "metadata": {
        "colab": {
          "base_uri": "https://localhost:8080/"
        },
        "id": "QjnfPN9j7Mmu",
        "outputId": "b013183e-1b38-4e71-9d87-90aacafae2a4"
      },
      "execution_count": null,
      "outputs": [
        {
          "output_type": "stream",
          "name": "stdout",
          "text": [
            "------------ Options -------------\n",
            "anormly_ratio: 1.0\n",
            "batch_size: 256\n",
            "data_path: ./dataset\n",
            "dataset: SMAP\n",
            "input_c: 3\n",
            "k: 3\n",
            "lr: 0.0001\n",
            "mode: test\n",
            "model_save_path: checkpoints\n",
            "num_epochs: 10\n",
            "output_c: 3\n",
            "pretrained_model: 20\n",
            "win_size: 100\n",
            "-------------- End ----------------\n",
            "test: (427617, 3)\n",
            "train: (135183, 3)\n",
            "test: (427617, 3)\n",
            "train: (135183, 3)\n",
            "test: (427617, 3)\n",
            "train: (135183, 3)\n",
            "test: (427617, 3)\n",
            "train: (135183, 3)\n",
            "======================TEST MODE======================\n",
            "/usr/local/lib/python3.10/dist-packages/torch/nn/_reduction.py:42: UserWarning: size_average and reduce args will be deprecated, please use reduction='none' instead.\n",
            "  warnings.warn(warning.format(ret))\n",
            "Threshold : 0.0002568090590648346\n",
            "pred:    (427600,)\n",
            "gt:      (427600,)\n",
            "pred:  (427600,)\n",
            "gt:    (427600,)\n",
            "Accuracy : 0.9901, Precision : 0.9310, Recall : 0.9962, F-score : 0.9625 \n"
          ]
        }
      ]
    },
    {
      "cell_type": "markdown",
      "source": [
        "##### PCA 3"
      ],
      "metadata": {
        "id": "fmz4b5IsDjWj"
      }
    },
    {
      "cell_type": "code",
      "source": [
        "!export CUDA_VISIBLE_DEVICES=0\n",
        "\n",
        "!python3 main.py --anormly_ratio 1 --num_epochs 3   --batch_size 256  --mode train --dataset SMAP  --data_path ./dataset --input_c 3 --output_c 3"
      ],
      "metadata": {
        "colab": {
          "base_uri": "https://localhost:8080/"
        },
        "id": "iN52VAcoDl-q",
        "outputId": "3856834b-429e-477f-fde8-0cb67cdd6111"
      },
      "execution_count": null,
      "outputs": [
        {
          "output_type": "stream",
          "name": "stdout",
          "text": [
            "------------ Options -------------\n",
            "anormly_ratio: 1.0\n",
            "batch_size: 256\n",
            "data_path: ./dataset\n",
            "dataset: SMAP\n",
            "input_c: 3\n",
            "k: 3\n",
            "lr: 0.0001\n",
            "mode: train\n",
            "model_save_path: checkpoints\n",
            "num_epochs: 3\n",
            "output_c: 3\n",
            "pretrained_model: None\n",
            "win_size: 100\n",
            "-------------- End ----------------\n",
            "test: (427617, 3)\n",
            "train: (135183, 3)\n",
            "test: (427617, 3)\n",
            "train: (135183, 3)\n",
            "test: (427617, 3)\n",
            "train: (135183, 3)\n",
            "test: (427617, 3)\n",
            "train: (135183, 3)\n",
            "======================TRAIN MODE======================\n",
            "\tspeed: 0.1412s/iter; left time: 209.6705s\n",
            "\tspeed: 0.1355s/iter; left time: 187.6230s\n",
            "\tspeed: 0.1355s/iter; left time: 174.1231s\n",
            "\tspeed: 0.1355s/iter; left time: 160.5486s\n",
            "\tspeed: 0.1354s/iter; left time: 146.9543s\n",
            "Epoch: 1 cost time: 73.14003729820251\n",
            "Epoch: 1, Steps: 528 | Train Loss: -45.1517287 Vali Loss: -45.6455119 \n",
            "Validation loss decreased (inf --> -45.645512).  Saving model ...\n",
            "Updating learning rate to 0.0001\n",
            "\tspeed: 0.8933s/iter; left time: 854.9302s\n",
            "\tspeed: 0.1355s/iter; left time: 116.1263s\n",
            "\tspeed: 0.1356s/iter; left time: 102.6175s\n",
            "\tspeed: 0.1356s/iter; left time: 89.0631s\n",
            "\tspeed: 0.1355s/iter; left time: 75.4953s\n",
            "Epoch: 2 cost time: 71.4753406047821\n",
            "Epoch: 2, Steps: 528 | Train Loss: -48.1079959 Vali Loss: -45.6801082 \n",
            "EarlyStopping counter: 1 out of 3\n",
            "Updating learning rate to 5e-05\n",
            "\tspeed: 0.8828s/iter; left time: 378.7419s\n",
            "\tspeed: 0.1355s/iter; left time: 44.5832s\n",
            "\tspeed: 0.1355s/iter; left time: 31.0386s\n",
            "\tspeed: 0.1356s/iter; left time: 17.4905s\n",
            "\tspeed: 0.1356s/iter; left time: 3.9313s\n",
            "Epoch: 3 cost time: 71.48928141593933\n",
            "Epoch: 3, Steps: 528 | Train Loss: -48.3110748 Vali Loss: -45.4849265 \n",
            "EarlyStopping counter: 2 out of 3\n",
            "Updating learning rate to 2.5e-05\n"
          ]
        }
      ]
    },
    {
      "cell_type": "code",
      "source": [
        "!python main.py --anormly_ratio 1  --num_epochs 10 --batch_size 256 --mode test --dataset SMAP --data_path ./dataset  --input_c 3 --output_c 3 --pretrained_model 20"
      ],
      "metadata": {
        "colab": {
          "base_uri": "https://localhost:8080/"
        },
        "id": "PU0ltkI7DwOj",
        "outputId": "5ad9de5f-78f0-49be-a150-31f0f227a899"
      },
      "execution_count": null,
      "outputs": [
        {
          "output_type": "stream",
          "name": "stdout",
          "text": [
            "------------ Options -------------\n",
            "anormly_ratio: 1.0\n",
            "batch_size: 256\n",
            "data_path: ./dataset\n",
            "dataset: SMAP\n",
            "input_c: 3\n",
            "k: 3\n",
            "lr: 0.0001\n",
            "mode: test\n",
            "model_save_path: checkpoints\n",
            "num_epochs: 10\n",
            "output_c: 3\n",
            "pretrained_model: 20\n",
            "win_size: 100\n",
            "-------------- End ----------------\n",
            "test: (427617, 3)\n",
            "train: (135183, 3)\n",
            "test: (427617, 3)\n",
            "train: (135183, 3)\n",
            "test: (427617, 3)\n",
            "train: (135183, 3)\n",
            "test: (427617, 3)\n",
            "train: (135183, 3)\n",
            "======================TEST MODE======================\n",
            "/usr/local/lib/python3.10/dist-packages/torch/nn/_reduction.py:42: UserWarning: size_average and reduce args will be deprecated, please use reduction='none' instead.\n",
            "  warnings.warn(warning.format(ret))\n",
            "Threshold : 0.0005247203132603092\n",
            "pred:    (427600,)\n",
            "gt:      (427600,)\n",
            "pred:  (427600,)\n",
            "gt:    (427600,)\n",
            "Accuracy : 0.9863, Precision : 0.9072, Recall : 0.9945, F-score : 0.9489 \n"
          ]
        }
      ]
    },
    {
      "cell_type": "markdown",
      "source": [
        "##### UMAP 3"
      ],
      "metadata": {
        "id": "es7qQ-pIDnEM"
      }
    },
    {
      "cell_type": "code",
      "source": [
        "!export CUDA_VISIBLE_DEVICES=0\n",
        "\n",
        "!python3 main.py --anormly_ratio 1 --num_epochs 3   --batch_size 256  --mode train --dataset SMAP  --data_path ./dataset --input_c 3 --output_c 3"
      ],
      "metadata": {
        "colab": {
          "base_uri": "https://localhost:8080/"
        },
        "id": "re3eRcIEDqX5",
        "outputId": "496c5521-d98b-45b4-95d5-1ea57ef4155d"
      },
      "execution_count": null,
      "outputs": [
        {
          "output_type": "stream",
          "name": "stdout",
          "text": [
            "------------ Options -------------\n",
            "anormly_ratio: 1.0\n",
            "batch_size: 256\n",
            "data_path: ./dataset\n",
            "dataset: SMAP\n",
            "input_c: 3\n",
            "k: 3\n",
            "lr: 0.0001\n",
            "mode: train\n",
            "model_save_path: checkpoints\n",
            "num_epochs: 3\n",
            "output_c: 3\n",
            "pretrained_model: None\n",
            "win_size: 100\n",
            "-------------- End ----------------\n",
            "test: (427617, 3)\n",
            "train: (135183, 3)\n",
            "test: (427617, 3)\n",
            "train: (135183, 3)\n",
            "test: (427617, 3)\n",
            "train: (135183, 3)\n",
            "test: (427617, 3)\n",
            "train: (135183, 3)\n",
            "======================TRAIN MODE======================\n",
            "\tspeed: 0.1413s/iter; left time: 209.7593s\n",
            "\tspeed: 0.1354s/iter; left time: 187.5134s\n",
            "\tspeed: 0.1356s/iter; left time: 174.1905s\n",
            "\tspeed: 0.1355s/iter; left time: 160.5488s\n",
            "\tspeed: 0.1356s/iter; left time: 147.1293s\n",
            "Epoch: 1 cost time: 73.16300868988037\n",
            "Epoch: 1, Steps: 528 | Train Loss: -44.9400874 Vali Loss: -47.7095161 \n",
            "Validation loss decreased (inf --> -47.709516).  Saving model ...\n",
            "Updating learning rate to 0.0001\n",
            "\tspeed: 0.8886s/iter; left time: 850.3822s\n",
            "\tspeed: 0.1355s/iter; left time: 116.1489s\n",
            "\tspeed: 0.1356s/iter; left time: 102.6138s\n",
            "\tspeed: 0.1355s/iter; left time: 89.0486s\n",
            "\tspeed: 0.1355s/iter; left time: 75.4602s\n",
            "Epoch: 2 cost time: 71.48266887664795\n",
            "Epoch: 2, Steps: 528 | Train Loss: -48.1423568 Vali Loss: -48.1728722 \n",
            "EarlyStopping counter: 1 out of 3\n",
            "Updating learning rate to 5e-05\n",
            "\tspeed: 0.8771s/iter; left time: 376.2959s\n",
            "\tspeed: 0.1355s/iter; left time: 44.5736s\n",
            "\tspeed: 0.1356s/iter; left time: 31.0624s\n",
            "\tspeed: 0.1355s/iter; left time: 17.4746s\n",
            "\tspeed: 0.1356s/iter; left time: 3.9317s\n",
            "Epoch: 3 cost time: 71.46983766555786\n",
            "Epoch: 3, Steps: 528 | Train Loss: -48.3217278 Vali Loss: -48.2805847 \n",
            "EarlyStopping counter: 2 out of 3\n",
            "Updating learning rate to 2.5e-05\n"
          ]
        }
      ]
    },
    {
      "cell_type": "code",
      "source": [
        "!python main.py --anormly_ratio 1  --num_epochs 10 --batch_size 256 --mode test --dataset SMAP --data_path ./dataset  --input_c 3 --output_c 3 --pretrained_model 20"
      ],
      "metadata": {
        "colab": {
          "base_uri": "https://localhost:8080/"
        },
        "id": "SFe4KfQmDyIS",
        "outputId": "f42170ef-272e-4b75-dc8d-a2456868f3ac"
      },
      "execution_count": null,
      "outputs": [
        {
          "output_type": "stream",
          "name": "stdout",
          "text": [
            "------------ Options -------------\n",
            "anormly_ratio: 1.0\n",
            "batch_size: 256\n",
            "data_path: ./dataset\n",
            "dataset: SMAP\n",
            "input_c: 3\n",
            "k: 3\n",
            "lr: 0.0001\n",
            "mode: test\n",
            "model_save_path: checkpoints\n",
            "num_epochs: 10\n",
            "output_c: 3\n",
            "pretrained_model: 20\n",
            "win_size: 100\n",
            "-------------- End ----------------\n",
            "test: (427617, 3)\n",
            "train: (135183, 3)\n",
            "test: (427617, 3)\n",
            "train: (135183, 3)\n",
            "test: (427617, 3)\n",
            "train: (135183, 3)\n",
            "test: (427617, 3)\n",
            "train: (135183, 3)\n",
            "======================TEST MODE======================\n",
            "/usr/local/lib/python3.10/dist-packages/torch/nn/_reduction.py:42: UserWarning: size_average and reduce args will be deprecated, please use reduction='none' instead.\n",
            "  warnings.warn(warning.format(ret))\n",
            "Threshold : 0.0004325361916562423\n",
            "pred:    (427600,)\n",
            "gt:      (427600,)\n",
            "pred:  (427600,)\n",
            "gt:    (427600,)\n",
            "Accuracy : 0.9897, Precision : 0.9320, Recall : 0.9915, F-score : 0.9608 \n"
          ]
        }
      ]
    },
    {
      "cell_type": "markdown",
      "source": [
        "##### RP 3"
      ],
      "metadata": {
        "id": "U-oY94rJDq_G"
      }
    },
    {
      "cell_type": "code",
      "source": [
        "!export CUDA_VISIBLE_DEVICES=0\n",
        "\n",
        "!python3 main.py --anormly_ratio 1 --num_epochs 3   --batch_size 256  --mode train --dataset SMAP  --data_path ./dataset --input_c 3 --output_c 3"
      ],
      "metadata": {
        "colab": {
          "base_uri": "https://localhost:8080/"
        },
        "id": "3noRL56cDsYO",
        "outputId": "1d23c423-267b-4e37-d295-95e0ff810e26"
      },
      "execution_count": null,
      "outputs": [
        {
          "output_type": "stream",
          "name": "stdout",
          "text": [
            "------------ Options -------------\n",
            "anormly_ratio: 1.0\n",
            "batch_size: 256\n",
            "data_path: ./dataset\n",
            "dataset: SMAP\n",
            "input_c: 3\n",
            "k: 3\n",
            "lr: 0.0001\n",
            "mode: train\n",
            "model_save_path: checkpoints\n",
            "num_epochs: 3\n",
            "output_c: 3\n",
            "pretrained_model: None\n",
            "win_size: 100\n",
            "-------------- End ----------------\n",
            "test: (427617, 3)\n",
            "train: (135183, 3)\n",
            "test: (427617, 3)\n",
            "train: (135183, 3)\n",
            "test: (427617, 3)\n",
            "train: (135183, 3)\n",
            "test: (427617, 3)\n",
            "train: (135183, 3)\n",
            "======================TRAIN MODE======================\n",
            "\tspeed: 0.1412s/iter; left time: 209.6124s\n",
            "\tspeed: 0.1354s/iter; left time: 187.5576s\n",
            "\tspeed: 0.1354s/iter; left time: 174.0191s\n",
            "\tspeed: 0.1356s/iter; left time: 160.6598s\n",
            "\tspeed: 0.1356s/iter; left time: 147.0815s\n",
            "Epoch: 1 cost time: 73.14635801315308\n",
            "Epoch: 1, Steps: 528 | Train Loss: -44.1016863 Vali Loss: -45.1567318 \n",
            "Validation loss decreased (inf --> -45.156732).  Saving model ...\n",
            "Updating learning rate to 0.0001\n",
            "\tspeed: 0.8949s/iter; left time: 856.4194s\n",
            "\tspeed: 0.1356s/iter; left time: 116.1745s\n",
            "\tspeed: 0.1357s/iter; left time: 102.7253s\n",
            "\tspeed: 0.1357s/iter; left time: 89.1427s\n",
            "\tspeed: 0.1356s/iter; left time: 75.5270s\n",
            "Epoch: 2 cost time: 71.51919150352478\n",
            "Epoch: 2, Steps: 528 | Train Loss: -46.5582609 Vali Loss: -47.1356324 \n",
            "EarlyStopping counter: 1 out of 3\n",
            "Updating learning rate to 5e-05\n",
            "\tspeed: 0.8838s/iter; left time: 379.1508s\n",
            "\tspeed: 0.1356s/iter; left time: 44.6282s\n",
            "\tspeed: 0.1356s/iter; left time: 31.0502s\n",
            "\tspeed: 0.1357s/iter; left time: 17.5070s\n",
            "\tspeed: 0.1357s/iter; left time: 3.9341s\n",
            "Epoch: 3 cost time: 71.54340052604675\n",
            "Epoch: 3, Steps: 528 | Train Loss: -48.0618527 Vali Loss: -47.5621883 \n",
            "EarlyStopping counter: 2 out of 3\n",
            "Updating learning rate to 2.5e-05\n"
          ]
        }
      ]
    },
    {
      "cell_type": "code",
      "source": [
        "!python main.py --anormly_ratio 1  --num_epochs 10 --batch_size 256 --mode test --dataset SMAP --data_path ./dataset  --input_c 3 --output_c 3 --pretrained_model 20"
      ],
      "metadata": {
        "colab": {
          "base_uri": "https://localhost:8080/"
        },
        "id": "y1yJ1OkWDyvQ",
        "outputId": "5e0f59b7-e602-41f9-9fdc-904af76531bf"
      },
      "execution_count": null,
      "outputs": [
        {
          "output_type": "stream",
          "name": "stdout",
          "text": [
            "------------ Options -------------\n",
            "anormly_ratio: 1.0\n",
            "batch_size: 256\n",
            "data_path: ./dataset\n",
            "dataset: SMAP\n",
            "input_c: 3\n",
            "k: 3\n",
            "lr: 0.0001\n",
            "mode: test\n",
            "model_save_path: checkpoints\n",
            "num_epochs: 10\n",
            "output_c: 3\n",
            "pretrained_model: 20\n",
            "win_size: 100\n",
            "-------------- End ----------------\n",
            "test: (427617, 3)\n",
            "train: (135183, 3)\n",
            "test: (427617, 3)\n",
            "train: (135183, 3)\n",
            "test: (427617, 3)\n",
            "train: (135183, 3)\n",
            "test: (427617, 3)\n",
            "train: (135183, 3)\n",
            "======================TEST MODE======================\n",
            "/usr/local/lib/python3.10/dist-packages/torch/nn/_reduction.py:42: UserWarning: size_average and reduce args will be deprecated, please use reduction='none' instead.\n",
            "  warnings.warn(warning.format(ret))\n",
            "Threshold : 0.0004638520962907668\n",
            "pred:    (427600,)\n",
            "gt:      (427600,)\n",
            "pred:  (427600,)\n",
            "gt:    (427600,)\n",
            "Accuracy : 0.9899, Precision : 0.9335, Recall : 0.9919, F-score : 0.9618 \n"
          ]
        }
      ]
    },
    {
      "cell_type": "markdown",
      "source": [
        "##### t-SNE 2"
      ],
      "metadata": {
        "id": "-ieNVlyH4VeD"
      }
    },
    {
      "cell_type": "code",
      "source": [
        "!export CUDA_VISIBLE_DEVICES=0\n",
        "\n",
        "!python3 main.py --anormly_ratio 1 --num_epochs 3   --batch_size 256  --mode train --dataset SMAP  --data_path ./dataset/SMAP_TSNE --input_c 2 --output_c 2"
      ],
      "metadata": {
        "colab": {
          "base_uri": "https://localhost:8080/"
        },
        "outputId": "3f3226b2-7b16-405f-c3b0-ae24027cb38e",
        "id": "hl75k4lH4VeP"
      },
      "execution_count": null,
      "outputs": [
        {
          "output_type": "stream",
          "name": "stdout",
          "text": [
            "------------ Options -------------\n",
            "anormly_ratio: 1.0\n",
            "batch_size: 256\n",
            "data_path: ./dataset/SMAP_TSNE\n",
            "dataset: SMAP\n",
            "input_c: 2\n",
            "k: 3\n",
            "lr: 0.0001\n",
            "mode: train\n",
            "model_save_path: checkpoints\n",
            "num_epochs: 3\n",
            "output_c: 2\n",
            "pretrained_model: None\n",
            "win_size: 100\n",
            "-------------- End ----------------\n",
            "test: (427617, 2)\n",
            "train: (135183, 2)\n",
            "test: (427617, 2)\n",
            "train: (135183, 2)\n",
            "test: (427617, 2)\n",
            "train: (135183, 2)\n",
            "test: (427617, 2)\n",
            "train: (135183, 2)\n",
            "======================TRAIN MODE======================\n",
            "\tspeed: 0.2137s/iter; left time: 317.3099s\n",
            "\tspeed: 0.2092s/iter; left time: 289.7621s\n",
            "\tspeed: 0.2098s/iter; left time: 269.5680s\n",
            "\tspeed: 0.2098s/iter; left time: 248.6350s\n",
            "\tspeed: 0.2098s/iter; left time: 227.6485s\n",
            "Epoch: 1 cost time: 111.40522646903992\n",
            "Epoch: 1, Steps: 528 | Train Loss: -45.2663779 Vali Loss: -47.9724987 \n",
            "Validation loss decreased (inf --> -47.972499).  Saving model ...\n",
            "Updating learning rate to 0.0001\n",
            "\tspeed: 1.3470s/iter; left time: 1289.0842s\n",
            "\tspeed: 0.2099s/iter; left time: 179.9260s\n",
            "\tspeed: 0.2098s/iter; left time: 158.8243s\n",
            "\tspeed: 0.2097s/iter; left time: 137.7867s\n",
            "\tspeed: 0.2096s/iter; left time: 116.7728s\n",
            "Epoch: 2 cost time: 110.63793277740479\n",
            "Epoch: 2, Steps: 528 | Train Loss: -48.3752534 Vali Loss: -48.3245919 \n",
            "EarlyStopping counter: 1 out of 3\n",
            "Updating learning rate to 5e-05\n",
            "\tspeed: 1.3420s/iter; left time: 575.7201s\n",
            "\tspeed: 0.2095s/iter; left time: 68.9267s\n",
            "\tspeed: 0.2095s/iter; left time: 47.9818s\n",
            "\tspeed: 0.2094s/iter; left time: 27.0105s\n",
            "\tspeed: 0.2094s/iter; left time: 6.0714s\n",
            "Epoch: 3 cost time: 110.46306276321411\n",
            "Epoch: 3, Steps: 528 | Train Loss: -48.5191919 Vali Loss: -48.3979786 \n",
            "EarlyStopping counter: 2 out of 3\n",
            "Updating learning rate to 2.5e-05\n"
          ]
        }
      ]
    },
    {
      "cell_type": "code",
      "source": [
        "!python main.py --anormly_ratio 1  --num_epochs 10 --batch_size 256 --mode test --dataset SMAP --data_path ./dataset/SMAP_TSNE  --input_c 2 --output_c 2 --pretrained_model 20"
      ],
      "metadata": {
        "colab": {
          "base_uri": "https://localhost:8080/"
        },
        "outputId": "093587e5-1dbd-4910-a6ed-544aa580ed4b",
        "id": "6hqF12OH4VeP"
      },
      "execution_count": null,
      "outputs": [
        {
          "output_type": "stream",
          "name": "stdout",
          "text": [
            "------------ Options -------------\n",
            "anormly_ratio: 1.0\n",
            "batch_size: 256\n",
            "data_path: ./dataset/SMAP_TSNE\n",
            "dataset: SMAP\n",
            "input_c: 2\n",
            "k: 3\n",
            "lr: 0.0001\n",
            "mode: test\n",
            "model_save_path: checkpoints\n",
            "num_epochs: 10\n",
            "output_c: 2\n",
            "pretrained_model: 20\n",
            "win_size: 100\n",
            "-------------- End ----------------\n",
            "test: (427617, 2)\n",
            "train: (135183, 2)\n",
            "test: (427617, 2)\n",
            "train: (135183, 2)\n",
            "test: (427617, 2)\n",
            "train: (135183, 2)\n",
            "test: (427617, 2)\n",
            "train: (135183, 2)\n",
            "======================TEST MODE======================\n",
            "/usr/local/lib/python3.10/dist-packages/torch/nn/_reduction.py:42: UserWarning: size_average and reduce args will be deprecated, please use reduction='none' instead.\n",
            "  warnings.warn(warning.format(ret))\n",
            "Threshold : 0.0003099027942516731\n",
            "pred:    (427600,)\n",
            "gt:      (427600,)\n",
            "pred:  (427600,)\n",
            "gt:    (427600,)\n",
            "Accuracy : 0.9909, Precision : 0.9353, Recall : 0.9977, F-score : 0.9655 \n"
          ]
        }
      ]
    },
    {
      "cell_type": "markdown",
      "source": [
        "##### PCA 2"
      ],
      "metadata": {
        "id": "GmV-4_l14VeP"
      }
    },
    {
      "cell_type": "code",
      "source": [
        "!export CUDA_VISIBLE_DEVICES=0\n",
        "\n",
        "!python3 main.py --anormly_ratio 1 --num_epochs 3   --batch_size 256  --mode train --dataset SMAP  --data_path ./dataset/SMAP_PCA --input_c 2 --output_c 2"
      ],
      "metadata": {
        "colab": {
          "base_uri": "https://localhost:8080/"
        },
        "outputId": "41fb71fb-8bbd-4613-f423-c0109b38f446",
        "id": "SDgeTl5e4VeP"
      },
      "execution_count": null,
      "outputs": [
        {
          "output_type": "stream",
          "name": "stdout",
          "text": [
            "------------ Options -------------\n",
            "anormly_ratio: 1.0\n",
            "batch_size: 256\n",
            "data_path: ./dataset/SMAP_PCA\n",
            "dataset: SMAP\n",
            "input_c: 2\n",
            "k: 3\n",
            "lr: 0.0001\n",
            "mode: train\n",
            "model_save_path: checkpoints\n",
            "num_epochs: 3\n",
            "output_c: 2\n",
            "pretrained_model: None\n",
            "win_size: 100\n",
            "-------------- End ----------------\n",
            "test: (427617, 2)\n",
            "train: (135183, 2)\n",
            "test: (427617, 2)\n",
            "train: (135183, 2)\n",
            "test: (427617, 2)\n",
            "train: (135183, 2)\n",
            "test: (427617, 2)\n",
            "train: (135183, 2)\n",
            "======================TRAIN MODE======================\n",
            "\tspeed: 0.2145s/iter; left time: 318.5217s\n",
            "\tspeed: 0.2100s/iter; left time: 290.8826s\n",
            "\tspeed: 0.2102s/iter; left time: 270.0430s\n",
            "\tspeed: 0.2102s/iter; left time: 249.0876s\n",
            "\tspeed: 0.2102s/iter; left time: 228.0877s\n",
            "Epoch: 1 cost time: 111.67968964576721\n",
            "Epoch: 1, Steps: 528 | Train Loss: -45.2253443 Vali Loss: -45.4338783 \n",
            "Validation loss decreased (inf --> -45.433878).  Saving model ...\n",
            "Updating learning rate to 0.0001\n",
            "\tspeed: 1.3523s/iter; left time: 1294.1962s\n",
            "\tspeed: 0.2103s/iter; left time: 180.1873s\n",
            "\tspeed: 0.2101s/iter; left time: 159.0635s\n",
            "\tspeed: 0.2101s/iter; left time: 138.0430s\n",
            "\tspeed: 0.2102s/iter; left time: 117.0787s\n",
            "Epoch: 2 cost time: 110.81724286079407\n",
            "Epoch: 2, Steps: 528 | Train Loss: -48.0104849 Vali Loss: -46.3444153 \n",
            "EarlyStopping counter: 1 out of 3\n",
            "Updating learning rate to 5e-05\n",
            "\tspeed: 1.3503s/iter; left time: 579.2915s\n",
            "\tspeed: 0.2101s/iter; left time: 69.1126s\n",
            "\tspeed: 0.2101s/iter; left time: 48.1140s\n",
            "\tspeed: 0.2103s/iter; left time: 27.1277s\n",
            "\tspeed: 0.2102s/iter; left time: 6.0951s\n",
            "Epoch: 3 cost time: 110.81793856620789\n",
            "Epoch: 3, Steps: 528 | Train Loss: -48.1596874 Vali Loss: -46.7941096 \n",
            "EarlyStopping counter: 2 out of 3\n",
            "Updating learning rate to 2.5e-05\n"
          ]
        }
      ]
    },
    {
      "cell_type": "code",
      "source": [
        "!python main.py --anormly_ratio 1  --num_epochs 10 --batch_size 256 --mode test --dataset SMAP --data_path ./dataset/SMAP_PCA  --input_c 2 --output_c 2 --pretrained_model 20"
      ],
      "metadata": {
        "colab": {
          "base_uri": "https://localhost:8080/"
        },
        "outputId": "d25f07e5-78a8-4b09-9c89-a61069686dff",
        "id": "5kIK8-Be4VeP"
      },
      "execution_count": null,
      "outputs": [
        {
          "output_type": "stream",
          "name": "stdout",
          "text": [
            "------------ Options -------------\n",
            "anormly_ratio: 1.0\n",
            "batch_size: 256\n",
            "data_path: ./dataset/SMAP_PCA\n",
            "dataset: SMAP\n",
            "input_c: 2\n",
            "k: 3\n",
            "lr: 0.0001\n",
            "mode: test\n",
            "model_save_path: checkpoints\n",
            "num_epochs: 10\n",
            "output_c: 2\n",
            "pretrained_model: 20\n",
            "win_size: 100\n",
            "-------------- End ----------------\n",
            "test: (427617, 2)\n",
            "train: (135183, 2)\n",
            "test: (427617, 2)\n",
            "train: (135183, 2)\n",
            "test: (427617, 2)\n",
            "train: (135183, 2)\n",
            "test: (427617, 2)\n",
            "train: (135183, 2)\n",
            "======================TEST MODE======================\n",
            "/usr/local/lib/python3.10/dist-packages/torch/nn/_reduction.py:42: UserWarning: size_average and reduce args will be deprecated, please use reduction='none' instead.\n",
            "  warnings.warn(warning.format(ret))\n",
            "Threshold : 0.00035360671201487736\n",
            "pred:    (427600,)\n",
            "gt:      (427600,)\n",
            "pred:  (427600,)\n",
            "gt:    (427600,)\n",
            "Accuracy : 0.9861, Precision : 0.9070, Recall : 0.9930, F-score : 0.9481 \n"
          ]
        }
      ]
    },
    {
      "cell_type": "markdown",
      "source": [
        "##### UMAP 2"
      ],
      "metadata": {
        "id": "WdfF07rm4VeP"
      }
    },
    {
      "cell_type": "code",
      "source": [
        "!export CUDA_VISIBLE_DEVICES=0\n",
        "\n",
        "!python3 main.py --anormly_ratio 1 --num_epochs 3   --batch_size 256  --mode train --dataset SMAP  --data_path ./dataset/SMAP_UMAP --input_c 2 --output_c 2"
      ],
      "metadata": {
        "colab": {
          "base_uri": "https://localhost:8080/"
        },
        "outputId": "5c5c6c27-e334-464c-dee2-2c300ac60390",
        "id": "xjwx_93p4VeQ"
      },
      "execution_count": null,
      "outputs": [
        {
          "output_type": "stream",
          "name": "stdout",
          "text": [
            "------------ Options -------------\n",
            "anormly_ratio: 1.0\n",
            "batch_size: 256\n",
            "data_path: ./dataset/SMAP_UMAP\n",
            "dataset: SMAP\n",
            "input_c: 2\n",
            "k: 3\n",
            "lr: 0.0001\n",
            "mode: train\n",
            "model_save_path: checkpoints\n",
            "num_epochs: 3\n",
            "output_c: 2\n",
            "pretrained_model: None\n",
            "win_size: 100\n",
            "-------------- End ----------------\n",
            "test: (427617, 2)\n",
            "train: (135183, 2)\n",
            "test: (427617, 2)\n",
            "train: (135183, 2)\n",
            "test: (427617, 2)\n",
            "train: (135183, 2)\n",
            "test: (427617, 2)\n",
            "train: (135183, 2)\n",
            "======================TRAIN MODE======================\n",
            "\tspeed: 0.2149s/iter; left time: 319.1373s\n",
            "\tspeed: 0.2100s/iter; left time: 290.8683s\n",
            "\tspeed: 0.2100s/iter; left time: 269.8348s\n",
            "\tspeed: 0.2101s/iter; left time: 248.9442s\n",
            "\tspeed: 0.2102s/iter; left time: 228.0267s\n",
            "Epoch: 1 cost time: 111.69915533065796\n",
            "Epoch: 1, Steps: 528 | Train Loss: -45.4755634 Vali Loss: -48.0799974 \n",
            "Validation loss decreased (inf --> -48.079997).  Saving model ...\n",
            "Updating learning rate to 0.0001\n",
            "\tspeed: 1.3488s/iter; left time: 1290.8012s\n",
            "\tspeed: 0.2100s/iter; left time: 179.9479s\n",
            "\tspeed: 0.2100s/iter; left time: 158.9966s\n",
            "\tspeed: 0.2102s/iter; left time: 138.1004s\n",
            "\tspeed: 0.2101s/iter; left time: 117.0195s\n",
            "Epoch: 2 cost time: 110.75679564476013\n",
            "Epoch: 2, Steps: 528 | Train Loss: -48.2831873 Vali Loss: -48.3362751 \n",
            "EarlyStopping counter: 1 out of 3\n",
            "Updating learning rate to 5e-05\n",
            "\tspeed: 1.3416s/iter; left time: 575.5591s\n",
            "\tspeed: 0.2100s/iter; left time: 69.0968s\n",
            "\tspeed: 0.2101s/iter; left time: 48.1153s\n",
            "\tspeed: 0.2101s/iter; left time: 27.0991s\n",
            "\tspeed: 0.2100s/iter; left time: 6.0901s\n",
            "Epoch: 3 cost time: 110.75204610824585\n",
            "Epoch: 3, Steps: 528 | Train Loss: -48.4479798 Vali Loss: -48.4753662 \n",
            "EarlyStopping counter: 2 out of 3\n",
            "Updating learning rate to 2.5e-05\n"
          ]
        }
      ]
    },
    {
      "cell_type": "code",
      "source": [
        "!python main.py --anormly_ratio 1  --num_epochs 10 --batch_size 256 --mode test --dataset SMAP --data_path ./dataset/SMAP_UMAP  --input_c 2 --output_c 2 --pretrained_model 20"
      ],
      "metadata": {
        "colab": {
          "base_uri": "https://localhost:8080/"
        },
        "outputId": "bcce795e-4096-4dc2-faa5-c2a3502d7b41",
        "id": "uDPZenF94VeQ"
      },
      "execution_count": null,
      "outputs": [
        {
          "output_type": "stream",
          "name": "stdout",
          "text": [
            "------------ Options -------------\n",
            "anormly_ratio: 1.0\n",
            "batch_size: 256\n",
            "data_path: ./dataset/SMAP_UMAP\n",
            "dataset: SMAP\n",
            "input_c: 2\n",
            "k: 3\n",
            "lr: 0.0001\n",
            "mode: test\n",
            "model_save_path: checkpoints\n",
            "num_epochs: 10\n",
            "output_c: 2\n",
            "pretrained_model: 20\n",
            "win_size: 100\n",
            "-------------- End ----------------\n",
            "test: (427617, 2)\n",
            "train: (135183, 2)\n",
            "test: (427617, 2)\n",
            "train: (135183, 2)\n",
            "test: (427617, 2)\n",
            "train: (135183, 2)\n",
            "test: (427617, 2)\n",
            "train: (135183, 2)\n",
            "======================TEST MODE======================\n",
            "/usr/local/lib/python3.10/dist-packages/torch/nn/_reduction.py:42: UserWarning: size_average and reduce args will be deprecated, please use reduction='none' instead.\n",
            "  warnings.warn(warning.format(ret))\n",
            "Threshold : 0.00013099116607918066\n",
            "pred:    (427600,)\n",
            "gt:      (427600,)\n",
            "pred:  (427600,)\n",
            "gt:    (427600,)\n",
            "Accuracy : 0.9902, Precision : 0.9330, Recall : 0.9945, F-score : 0.9628 \n"
          ]
        }
      ]
    },
    {
      "cell_type": "markdown",
      "source": [
        "##### RP 2"
      ],
      "metadata": {
        "id": "D9kLgOgi4VeQ"
      }
    },
    {
      "cell_type": "code",
      "source": [
        "!export CUDA_VISIBLE_DEVICES=0\n",
        "\n",
        "!python3 main.py --anormly_ratio 1 --num_epochs 3   --batch_size 256  --mode train --dataset SMAP  --data_path ./dataset/SMAP_RP --input_c 2 --output_c 2"
      ],
      "metadata": {
        "colab": {
          "base_uri": "https://localhost:8080/"
        },
        "outputId": "62fa51da-5462-4eb8-e798-466fb5cc31f2",
        "id": "sbZexVKD4VeQ"
      },
      "execution_count": null,
      "outputs": [
        {
          "output_type": "stream",
          "name": "stdout",
          "text": [
            "------------ Options -------------\n",
            "anormly_ratio: 1.0\n",
            "batch_size: 256\n",
            "data_path: ./dataset/SMAP_RP\n",
            "dataset: SMAP\n",
            "input_c: 2\n",
            "k: 3\n",
            "lr: 0.0001\n",
            "mode: train\n",
            "model_save_path: checkpoints\n",
            "num_epochs: 3\n",
            "output_c: 2\n",
            "pretrained_model: None\n",
            "win_size: 100\n",
            "-------------- End ----------------\n",
            "test: (427617, 2)\n",
            "train: (135183, 2)\n",
            "test: (427617, 2)\n",
            "train: (135183, 2)\n",
            "test: (427617, 2)\n",
            "train: (135183, 2)\n",
            "test: (427617, 2)\n",
            "train: (135183, 2)\n",
            "======================TRAIN MODE======================\n",
            "\tspeed: 0.2145s/iter; left time: 318.4732s\n",
            "\tspeed: 0.2100s/iter; left time: 290.8605s\n",
            "\tspeed: 0.2100s/iter; left time: 269.8853s\n",
            "\tspeed: 0.2101s/iter; left time: 248.9845s\n",
            "\tspeed: 0.2100s/iter; left time: 227.8818s\n",
            "Epoch: 1 cost time: 111.6370837688446\n",
            "Epoch: 1, Steps: 528 | Train Loss: -44.5920650 Vali Loss: -46.6170500 \n",
            "Validation loss decreased (inf --> -46.617050).  Saving model ...\n",
            "Updating learning rate to 0.0001\n",
            "\tspeed: 1.3512s/iter; left time: 1293.1432s\n",
            "\tspeed: 0.2100s/iter; left time: 179.9868s\n",
            "\tspeed: 0.2100s/iter; left time: 158.9615s\n",
            "\tspeed: 0.2101s/iter; left time: 138.0179s\n",
            "\tspeed: 0.2101s/iter; left time: 117.0001s\n",
            "Epoch: 2 cost time: 110.75895500183105\n",
            "Epoch: 2, Steps: 528 | Train Loss: -47.8500090 Vali Loss: -47.4075145 \n",
            "EarlyStopping counter: 1 out of 3\n",
            "Updating learning rate to 5e-05\n",
            "\tspeed: 1.3482s/iter; left time: 578.3798s\n",
            "\tspeed: 0.2100s/iter; left time: 69.0839s\n",
            "\tspeed: 0.2100s/iter; left time: 48.0901s\n",
            "\tspeed: 0.2099s/iter; left time: 27.0756s\n",
            "\tspeed: 0.2099s/iter; left time: 6.0879s\n",
            "Epoch: 3 cost time: 110.6947705745697\n",
            "Epoch: 3, Steps: 528 | Train Loss: -48.0592063 Vali Loss: -47.5410140 \n",
            "EarlyStopping counter: 2 out of 3\n",
            "Updating learning rate to 2.5e-05\n"
          ]
        }
      ]
    },
    {
      "cell_type": "code",
      "source": [
        "!python main.py --anormly_ratio 1  --num_epochs 10 --batch_size 256 --mode test --dataset SMAP --data_path ./dataset/SMAP_RP  --input_c 2 --output_c 2 --pretrained_model 20"
      ],
      "metadata": {
        "colab": {
          "base_uri": "https://localhost:8080/"
        },
        "outputId": "32af62ad-f978-4cf7-c652-35f9469d5e8f",
        "id": "8rOB0xrJ4VeQ"
      },
      "execution_count": null,
      "outputs": [
        {
          "output_type": "stream",
          "name": "stdout",
          "text": [
            "------------ Options -------------\n",
            "anormly_ratio: 1.0\n",
            "batch_size: 256\n",
            "data_path: ./dataset/SMAP_RP\n",
            "dataset: SMAP\n",
            "input_c: 2\n",
            "k: 3\n",
            "lr: 0.0001\n",
            "mode: test\n",
            "model_save_path: checkpoints\n",
            "num_epochs: 10\n",
            "output_c: 2\n",
            "pretrained_model: 20\n",
            "win_size: 100\n",
            "-------------- End ----------------\n",
            "test: (427617, 2)\n",
            "train: (135183, 2)\n",
            "test: (427617, 2)\n",
            "train: (135183, 2)\n",
            "test: (427617, 2)\n",
            "train: (135183, 2)\n",
            "test: (427617, 2)\n",
            "train: (135183, 2)\n",
            "======================TEST MODE======================\n",
            "/usr/local/lib/python3.10/dist-packages/torch/nn/_reduction.py:42: UserWarning: size_average and reduce args will be deprecated, please use reduction='none' instead.\n",
            "  warnings.warn(warning.format(ret))\n",
            "Threshold : 0.00013882073108106852\n",
            "pred:    (427600,)\n",
            "gt:      (427600,)\n",
            "pred:  (427600,)\n",
            "gt:    (427600,)\n",
            "Accuracy : 0.9865, Precision : 0.9429, Recall : 0.9524, F-score : 0.9476 \n"
          ]
        }
      ]
    },
    {
      "cell_type": "markdown",
      "source": [
        "### MSL"
      ],
      "metadata": {
        "id": "T5heGmVDVjsB"
      }
    },
    {
      "cell_type": "markdown",
      "source": [
        "##### Original"
      ],
      "metadata": {
        "id": "pK6QmYnlVXOV"
      }
    },
    {
      "cell_type": "code",
      "source": [
        "!export CUDA_VISIBLE_DEVICES=0\n",
        "\n",
        "!python3 main.py --anormly_ratio 1 --num_epochs 3 --batch_size 256 --mode train --dataset MSL --data_path ./dataset/MSL --input_c 55 --output_c 55"
      ],
      "metadata": {
        "colab": {
          "base_uri": "https://localhost:8080/"
        },
        "id": "L_zb21VPQoc0",
        "outputId": "ec7b5684-1835-40f7-983a-25d11b3875a5"
      },
      "execution_count": null,
      "outputs": [
        {
          "output_type": "stream",
          "name": "stdout",
          "text": [
            "------------ Options -------------\n",
            "anormly_ratio: 1.0\n",
            "batch_size: 256\n",
            "data_path: ./dataset/MSL\n",
            "dataset: MSL\n",
            "input_c: 55\n",
            "k: 3\n",
            "lr: 0.0001\n",
            "mode: train\n",
            "model_save_path: checkpoints\n",
            "num_epochs: 3\n",
            "output_c: 55\n",
            "pretrained_model: None\n",
            "win_size: 100\n",
            "-------------- End ----------------\n",
            "test: (73729, 55)\n",
            "train: (58317, 55)\n",
            "test: (73729, 55)\n",
            "train: (58317, 55)\n",
            "test: (73729, 55)\n",
            "train: (58317, 55)\n",
            "test: (73729, 55)\n",
            "train: (58317, 55)\n",
            "======================TRAIN MODE======================\n",
            "\tspeed: 0.2273s/iter; left time: 132.9539s\n",
            "\tspeed: 0.2107s/iter; left time: 102.1779s\n",
            "Epoch: 1 cost time: 50.104286909103394\n",
            "Epoch: 1, Steps: 228 | Train Loss: -42.2328082 Vali Loss: -45.6669457 \n",
            "Validation loss decreased (inf --> -45.666946).  Saving model ...\n",
            "Updating learning rate to 0.0001\n",
            "\tspeed: 0.4735s/iter; left time: 169.0324s\n",
            "\tspeed: 0.2109s/iter; left time: 54.2105s\n",
            "Epoch: 2 cost time: 47.947112798690796\n",
            "Epoch: 2, Steps: 228 | Train Loss: -47.6921885 Vali Loss: -46.2253146 \n",
            "EarlyStopping counter: 1 out of 3\n",
            "Updating learning rate to 5e-05\n",
            "\tspeed: 0.4665s/iter; left time: 60.1823s\n",
            "\tspeed: 0.2109s/iter; left time: 6.1156s\n",
            "Epoch: 3 cost time: 47.92559552192688\n",
            "Epoch: 3, Steps: 228 | Train Loss: -47.9649940 Vali Loss: -46.4000915 \n",
            "EarlyStopping counter: 2 out of 3\n",
            "Updating learning rate to 2.5e-05\n"
          ]
        }
      ]
    },
    {
      "cell_type": "code",
      "source": [
        "!python3 main.py --anormly_ratio 1 --num_epochs 10 --batch_size 256 --mode test --dataset MSL --data_path ./dataset/MSL --input_c 55 --output_c 55 --pretrained_model 20"
      ],
      "metadata": {
        "colab": {
          "base_uri": "https://localhost:8080/"
        },
        "id": "p6gkOXJ7QofE",
        "outputId": "ad371437-8f1b-4ae2-c3a7-ef6c92e5a4ca"
      },
      "execution_count": null,
      "outputs": [
        {
          "output_type": "stream",
          "name": "stdout",
          "text": [
            "------------ Options -------------\n",
            "anormly_ratio: 1.0\n",
            "batch_size: 256\n",
            "data_path: ./dataset/MSL\n",
            "dataset: MSL\n",
            "input_c: 55\n",
            "k: 3\n",
            "lr: 0.0001\n",
            "mode: test\n",
            "model_save_path: checkpoints\n",
            "num_epochs: 10\n",
            "output_c: 55\n",
            "pretrained_model: 20\n",
            "win_size: 100\n",
            "-------------- End ----------------\n",
            "test: (73729, 55)\n",
            "train: (58317, 55)\n",
            "test: (73729, 55)\n",
            "train: (58317, 55)\n",
            "test: (73729, 55)\n",
            "train: (58317, 55)\n",
            "test: (73729, 55)\n",
            "train: (58317, 55)\n",
            "======================TEST MODE======================\n",
            "/usr/local/lib/python3.10/dist-packages/torch/nn/_reduction.py:42: UserWarning: size_average and reduce args will be deprecated, please use reduction='none' instead.\n",
            "  warnings.warn(warning.format(ret))\n",
            "Threshold : 0.003724273082334527\n",
            "pred:    (73700,)\n",
            "gt:      (73700,)\n",
            "pred:  (73700,)\n",
            "gt:    (73700,)\n",
            "Accuracy : 0.9856, Precision : 0.9188, Recall : 0.9473, F-score : 0.9329 \n"
          ]
        }
      ]
    },
    {
      "cell_type": "markdown",
      "source": [
        "##### PCA TO HALF 27"
      ],
      "metadata": {
        "id": "SIJKnZQYj-XW"
      }
    },
    {
      "cell_type": "code",
      "source": [
        "!export CUDA_VISIBLE_DEVICES=0\n",
        "\n",
        "!python3 main.py --anormly_ratio 1 --num_epochs 3 --batch_size 256 --mode train --dataset MSL --data_path ./dataset/MSL_PCA --input_c 27 --output_c 27"
      ],
      "metadata": {
        "colab": {
          "base_uri": "https://localhost:8080/"
        },
        "outputId": "13bab480-0d61-4036-d2f0-1087bec93e88",
        "id": "l3IxUlClj-Xh"
      },
      "execution_count": null,
      "outputs": [
        {
          "output_type": "stream",
          "name": "stdout",
          "text": [
            "------------ Options -------------\n",
            "anormly_ratio: 1.0\n",
            "batch_size: 256\n",
            "data_path: ./dataset/MSL_PCA\n",
            "dataset: MSL\n",
            "input_c: 27\n",
            "k: 3\n",
            "lr: 0.0001\n",
            "mode: train\n",
            "model_save_path: checkpoints\n",
            "num_epochs: 3\n",
            "output_c: 27\n",
            "pretrained_model: None\n",
            "win_size: 100\n",
            "-------------- End ----------------\n",
            "test: (73729, 27)\n",
            "train: (58317, 27)\n",
            "test: (73729, 27)\n",
            "train: (58317, 27)\n",
            "test: (73729, 27)\n",
            "train: (58317, 27)\n",
            "test: (73729, 27)\n",
            "train: (58317, 27)\n",
            "======================TRAIN MODE======================\n",
            "\tspeed: 0.2148s/iter; left time: 125.6827s\n",
            "\tspeed: 0.2103s/iter; left time: 101.9919s\n",
            "Epoch: 1 cost time: 48.78590154647827\n",
            "Epoch: 1, Steps: 228 | Train Loss: -41.5354647 Vali Loss: -45.3203978 \n",
            "Validation loss decreased (inf --> -45.320398).  Saving model ...\n",
            "Updating learning rate to 0.0001\n",
            "\tspeed: 0.4678s/iter; left time: 167.0049s\n",
            "\tspeed: 0.2109s/iter; left time: 54.1930s\n",
            "Epoch: 2 cost time: 47.929173946380615\n",
            "Epoch: 2, Steps: 228 | Train Loss: -46.8124826 Vali Loss: -47.1544972 \n",
            "EarlyStopping counter: 1 out of 3\n",
            "Updating learning rate to 5e-05\n",
            "\tspeed: 0.4618s/iter; left time: 59.5767s\n",
            "\tspeed: 0.2111s/iter; left time: 6.1205s\n",
            "Epoch: 3 cost time: 47.95470905303955\n",
            "Epoch: 3, Steps: 228 | Train Loss: -47.5641402 Vali Loss: -47.3454451 \n",
            "EarlyStopping counter: 2 out of 3\n",
            "Updating learning rate to 2.5e-05\n"
          ]
        }
      ]
    },
    {
      "cell_type": "code",
      "source": [
        "!python3 main.py --anormly_ratio 1 --num_epochs 10 --batch_size 256 --mode test --dataset MSL --data_path ./dataset/MSL_PCA --input_c 27 --output_c 27  --pretrained_model 20"
      ],
      "metadata": {
        "colab": {
          "base_uri": "https://localhost:8080/"
        },
        "outputId": "9b99fdf6-ac11-4d1a-aa5c-939c9987f3c7",
        "id": "eXk2OC7Sj-Xh"
      },
      "execution_count": null,
      "outputs": [
        {
          "output_type": "stream",
          "name": "stdout",
          "text": [
            "------------ Options -------------\n",
            "anormly_ratio: 1.0\n",
            "batch_size: 256\n",
            "data_path: ./dataset/MSL_PCA\n",
            "dataset: MSL\n",
            "input_c: 27\n",
            "k: 3\n",
            "lr: 0.0001\n",
            "mode: test\n",
            "model_save_path: checkpoints\n",
            "num_epochs: 10\n",
            "output_c: 27\n",
            "pretrained_model: 20\n",
            "win_size: 100\n",
            "-------------- End ----------------\n",
            "test: (73729, 27)\n",
            "train: (58317, 27)\n",
            "test: (73729, 27)\n",
            "train: (58317, 27)\n",
            "test: (73729, 27)\n",
            "train: (58317, 27)\n",
            "test: (73729, 27)\n",
            "train: (58317, 27)\n",
            "======================TEST MODE======================\n",
            "/usr/local/lib/python3.10/dist-packages/torch/nn/_reduction.py:42: UserWarning: size_average and reduce args will be deprecated, please use reduction='none' instead.\n",
            "  warnings.warn(warning.format(ret))\n",
            "Threshold : 0.006365016768686344\n",
            "pred:    (73700,)\n",
            "gt:      (73700,)\n",
            "pred:  (73700,)\n",
            "gt:    (73700,)\n",
            "Accuracy : 0.9848, Precision : 0.9146, Recall : 0.9436, F-score : 0.9289 \n"
          ]
        }
      ]
    },
    {
      "cell_type": "markdown",
      "source": [
        "##### UMAP TO HALF 27"
      ],
      "metadata": {
        "id": "0DIUce74j-Xh"
      }
    },
    {
      "cell_type": "code",
      "source": [
        "!export CUDA_VISIBLE_DEVICES=0\n",
        "\n",
        "!python3 main.py --anormly_ratio 1 --num_epochs 3 --batch_size 256 --mode train --dataset MSL --data_path ./dataset/MSL_UMAP --input_c 27 --output_c 27"
      ],
      "metadata": {
        "colab": {
          "base_uri": "https://localhost:8080/"
        },
        "outputId": "75682945-a97b-4556-cb89-a2a421b7079f",
        "id": "9Nqe4DIzj-Xh"
      },
      "execution_count": null,
      "outputs": [
        {
          "output_type": "stream",
          "name": "stdout",
          "text": [
            "------------ Options -------------\n",
            "anormly_ratio: 1.0\n",
            "batch_size: 256\n",
            "data_path: ./dataset/MSL_UMAP\n",
            "dataset: MSL\n",
            "input_c: 27\n",
            "k: 3\n",
            "lr: 0.0001\n",
            "mode: train\n",
            "model_save_path: checkpoints\n",
            "num_epochs: 3\n",
            "output_c: 27\n",
            "pretrained_model: None\n",
            "win_size: 100\n",
            "-------------- End ----------------\n",
            "test: (73729, 27)\n",
            "train: (58317, 27)\n",
            "test: (73729, 27)\n",
            "train: (58317, 27)\n",
            "test: (73729, 27)\n",
            "train: (58317, 27)\n",
            "test: (73729, 27)\n",
            "train: (58317, 27)\n",
            "======================TRAIN MODE======================\n",
            "\tspeed: 0.2152s/iter; left time: 125.9202s\n",
            "\tspeed: 0.2108s/iter; left time: 102.2324s\n",
            "Epoch: 1 cost time: 48.880847692489624\n",
            "Epoch: 1, Steps: 228 | Train Loss: -41.0470151 Vali Loss: -46.1356183 \n",
            "Validation loss decreased (inf --> -46.135618).  Saving model ...\n",
            "Updating learning rate to 0.0001\n",
            "\tspeed: 0.4654s/iter; left time: 166.1358s\n",
            "\tspeed: 0.2112s/iter; left time: 54.2892s\n",
            "Epoch: 2 cost time: 47.994996309280396\n",
            "Epoch: 2, Steps: 228 | Train Loss: -47.7829534 Vali Loss: -47.9573349 \n",
            "EarlyStopping counter: 1 out of 3\n",
            "Updating learning rate to 5e-05\n",
            "\tspeed: 0.4589s/iter; left time: 59.2026s\n",
            "\tspeed: 0.2111s/iter; left time: 6.1207s\n",
            "Epoch: 3 cost time: 47.96750450134277\n",
            "Epoch: 3, Steps: 228 | Train Loss: -48.2557967 Vali Loss: -48.2152535 \n",
            "EarlyStopping counter: 2 out of 3\n",
            "Updating learning rate to 2.5e-05\n"
          ]
        }
      ]
    },
    {
      "cell_type": "code",
      "source": [
        "!python3 main.py --anormly_ratio 1 --num_epochs 10 --batch_size 256 --mode test --dataset MSL --data_path ./dataset/MSL_UMAP --input_c 27 --output_c 27  --pretrained_model 20"
      ],
      "metadata": {
        "colab": {
          "base_uri": "https://localhost:8080/"
        },
        "outputId": "5c75a7c3-48c5-4937-c77e-f68c08e2654d",
        "id": "lGhd6dMjj-Xh"
      },
      "execution_count": null,
      "outputs": [
        {
          "output_type": "stream",
          "name": "stdout",
          "text": [
            "------------ Options -------------\n",
            "anormly_ratio: 1.0\n",
            "batch_size: 256\n",
            "data_path: ./dataset/MSL_UMAP\n",
            "dataset: MSL\n",
            "input_c: 27\n",
            "k: 3\n",
            "lr: 0.0001\n",
            "mode: test\n",
            "model_save_path: checkpoints\n",
            "num_epochs: 10\n",
            "output_c: 27\n",
            "pretrained_model: 20\n",
            "win_size: 100\n",
            "-------------- End ----------------\n",
            "test: (73729, 27)\n",
            "train: (58317, 27)\n",
            "test: (73729, 27)\n",
            "train: (58317, 27)\n",
            "test: (73729, 27)\n",
            "train: (58317, 27)\n",
            "test: (73729, 27)\n",
            "train: (58317, 27)\n",
            "======================TEST MODE======================\n",
            "/usr/local/lib/python3.10/dist-packages/torch/nn/_reduction.py:42: UserWarning: size_average and reduce args will be deprecated, please use reduction='none' instead.\n",
            "  warnings.warn(warning.format(ret))\n",
            "Threshold : 0.011539184693246909\n",
            "pred:    (73700,)\n",
            "gt:      (73700,)\n",
            "pred:  (73700,)\n",
            "gt:    (73700,)\n",
            "Accuracy : 0.9880, Precision : 0.9178, Recall : 0.9735, F-score : 0.9448 \n"
          ]
        }
      ]
    },
    {
      "cell_type": "markdown",
      "source": [
        "##### RP TO HALF 27"
      ],
      "metadata": {
        "id": "VKF53-qPj-Xh"
      }
    },
    {
      "cell_type": "code",
      "source": [
        "!export CUDA_VISIBLE_DEVICES=0\n",
        "\n",
        "!python3 main.py --anormly_ratio 1 --num_epochs 3 --batch_size 256 --mode train --dataset MSL --data_path ./dataset/MSL_RP --input_c 27 --output_c 27"
      ],
      "metadata": {
        "colab": {
          "base_uri": "https://localhost:8080/"
        },
        "outputId": "c7669a79-457e-40b8-f831-4af9423cf8f0",
        "id": "y9uQJNokj-Xh"
      },
      "execution_count": null,
      "outputs": [
        {
          "output_type": "stream",
          "name": "stdout",
          "text": [
            "------------ Options -------------\n",
            "anormly_ratio: 1.0\n",
            "batch_size: 256\n",
            "data_path: ./dataset/MSL_RP\n",
            "dataset: MSL\n",
            "input_c: 27\n",
            "k: 3\n",
            "lr: 0.0001\n",
            "mode: train\n",
            "model_save_path: checkpoints\n",
            "num_epochs: 3\n",
            "output_c: 27\n",
            "pretrained_model: None\n",
            "win_size: 100\n",
            "-------------- End ----------------\n",
            "test: (73729, 27)\n",
            "train: (58317, 27)\n",
            "test: (73729, 27)\n",
            "train: (58317, 27)\n",
            "test: (73729, 27)\n",
            "train: (58317, 27)\n",
            "test: (73729, 27)\n",
            "train: (58317, 27)\n",
            "======================TRAIN MODE======================\n",
            "\tspeed: 0.2152s/iter; left time: 125.9177s\n",
            "\tspeed: 0.2108s/iter; left time: 102.2608s\n",
            "Epoch: 1 cost time: 48.892279386520386\n",
            "Epoch: 1, Steps: 228 | Train Loss: -41.8680529 Vali Loss: -44.3141427 \n",
            "Validation loss decreased (inf --> -44.314143).  Saving model ...\n",
            "Updating learning rate to 0.0001\n",
            "\tspeed: 0.4681s/iter; left time: 167.0943s\n",
            "\tspeed: 0.2110s/iter; left time: 54.2178s\n",
            "Epoch: 2 cost time: 47.93861651420593\n",
            "Epoch: 2, Steps: 228 | Train Loss: -46.0757396 Vali Loss: -46.0815579 \n",
            "EarlyStopping counter: 1 out of 3\n",
            "Updating learning rate to 5e-05\n",
            "\tspeed: 0.4603s/iter; left time: 59.3814s\n",
            "\tspeed: 0.2111s/iter; left time: 6.1216s\n",
            "Epoch: 3 cost time: 47.966001749038696\n",
            "Epoch: 3, Steps: 228 | Train Loss: -47.3283862 Vali Loss: -46.5868181 \n",
            "EarlyStopping counter: 2 out of 3\n",
            "Updating learning rate to 2.5e-05\n"
          ]
        }
      ]
    },
    {
      "cell_type": "code",
      "source": [
        "!python3 main.py --anormly_ratio 1 --num_epochs 10 --batch_size 256 --mode test --dataset MSL --data_path ./dataset/MSL_RP --input_c 27 --output_c 27  --pretrained_model 20"
      ],
      "metadata": {
        "colab": {
          "base_uri": "https://localhost:8080/"
        },
        "outputId": "c443753a-1df8-49fd-fcb6-4d98ff521605",
        "id": "9yOjGGwlj-Xh"
      },
      "execution_count": null,
      "outputs": [
        {
          "output_type": "stream",
          "name": "stdout",
          "text": [
            "------------ Options -------------\n",
            "anormly_ratio: 1.0\n",
            "batch_size: 256\n",
            "data_path: ./dataset/MSL_RP\n",
            "dataset: MSL\n",
            "input_c: 27\n",
            "k: 3\n",
            "lr: 0.0001\n",
            "mode: test\n",
            "model_save_path: checkpoints\n",
            "num_epochs: 10\n",
            "output_c: 27\n",
            "pretrained_model: 20\n",
            "win_size: 100\n",
            "-------------- End ----------------\n",
            "test: (73729, 27)\n",
            "train: (58317, 27)\n",
            "test: (73729, 27)\n",
            "train: (58317, 27)\n",
            "test: (73729, 27)\n",
            "train: (58317, 27)\n",
            "test: (73729, 27)\n",
            "train: (58317, 27)\n",
            "======================TEST MODE======================\n",
            "/usr/local/lib/python3.10/dist-packages/torch/nn/_reduction.py:42: UserWarning: size_average and reduce args will be deprecated, please use reduction='none' instead.\n",
            "  warnings.warn(warning.format(ret))\n",
            "Threshold : 0.008176216296851314\n",
            "pred:    (73700,)\n",
            "gt:      (73700,)\n",
            "pred:  (73700,)\n",
            "gt:    (73700,)\n",
            "Accuracy : 0.9885, Precision : 0.9191, Recall : 0.9773, F-score : 0.9473 \n"
          ]
        }
      ]
    },
    {
      "cell_type": "markdown",
      "source": [
        "##### PCA 3"
      ],
      "metadata": {
        "id": "hoNIqrD1WaL8"
      }
    },
    {
      "cell_type": "code",
      "source": [
        "!export CUDA_VISIBLE_DEVICES=0\n",
        "\n",
        "!python3 main.py --anormly_ratio 1 --num_epochs 3 --batch_size 256 --mode train --dataset MSL --data_path ./dataset/MSL_PCA --input_c 3 --output_c 3"
      ],
      "metadata": {
        "colab": {
          "base_uri": "https://localhost:8080/"
        },
        "id": "Lqyadm1JPwE-",
        "outputId": "c98ea1a3-ce7d-42fa-abd6-d2af3154ba2f"
      },
      "execution_count": null,
      "outputs": [
        {
          "output_type": "stream",
          "name": "stdout",
          "text": [
            "------------ Options -------------\n",
            "anormly_ratio: 1.0\n",
            "batch_size: 256\n",
            "data_path: ./dataset/MSL_PCA\n",
            "dataset: MSL\n",
            "input_c: 3\n",
            "k: 3\n",
            "lr: 0.0001\n",
            "mode: train\n",
            "model_save_path: checkpoints\n",
            "num_epochs: 3\n",
            "output_c: 3\n",
            "pretrained_model: None\n",
            "win_size: 100\n",
            "-------------- End ----------------\n",
            "test: (73729, 3)\n",
            "train: (58317, 3)\n",
            "test: (73729, 3)\n",
            "train: (58317, 3)\n",
            "test: (73729, 3)\n",
            "train: (58317, 3)\n",
            "test: (73729, 3)\n",
            "train: (58317, 3)\n",
            "======================TRAIN MODE======================\n",
            "\tspeed: 0.2129s/iter; left time: 124.5631s\n",
            "\tspeed: 0.2084s/iter; left time: 101.0617s\n",
            "Epoch: 1 cost time: 48.33294868469238\n",
            "Epoch: 1, Steps: 228 | Train Loss: -41.9742002 Vali Loss: -45.3107629 \n",
            "Validation loss decreased (inf --> -45.310763).  Saving model ...\n",
            "Updating learning rate to 0.0001\n",
            "\tspeed: 0.4598s/iter; left time: 164.1420s\n",
            "\tspeed: 0.2085s/iter; left time: 53.5931s\n",
            "Epoch: 2 cost time: 47.38398337364197\n",
            "Epoch: 2, Steps: 228 | Train Loss: -47.0853403 Vali Loss: -47.2767792 \n",
            "EarlyStopping counter: 1 out of 3\n",
            "Updating learning rate to 5e-05\n",
            "\tspeed: 0.4537s/iter; left time: 58.5217s\n",
            "\tspeed: 0.2085s/iter; left time: 6.0453s\n",
            "Epoch: 3 cost time: 47.365551233291626\n",
            "Epoch: 3, Steps: 228 | Train Loss: -47.8866377 Vali Loss: -47.6149105 \n",
            "EarlyStopping counter: 2 out of 3\n",
            "Updating learning rate to 2.5e-05\n"
          ]
        }
      ]
    },
    {
      "cell_type": "code",
      "source": [
        "!python3 main.py --anormly_ratio 1 --num_epochs 10 --batch_size 256 --mode test --dataset MSL --data_path ./dataset/MSL_PCA --input_c 3 --output_c 3  --pretrained_model 20"
      ],
      "metadata": {
        "colab": {
          "base_uri": "https://localhost:8080/"
        },
        "id": "kifdFJwaWf5N",
        "outputId": "30025d31-e935-46c9-b25a-4ebf1f1d6aaa"
      },
      "execution_count": null,
      "outputs": [
        {
          "output_type": "stream",
          "name": "stdout",
          "text": [
            "------------ Options -------------\n",
            "anormly_ratio: 1.0\n",
            "batch_size: 256\n",
            "data_path: ./dataset/MSL_PCA\n",
            "dataset: MSL\n",
            "input_c: 3\n",
            "k: 3\n",
            "lr: 0.0001\n",
            "mode: test\n",
            "model_save_path: checkpoints\n",
            "num_epochs: 10\n",
            "output_c: 3\n",
            "pretrained_model: 20\n",
            "win_size: 100\n",
            "-------------- End ----------------\n",
            "test: (73729, 3)\n",
            "train: (58317, 3)\n",
            "test: (73729, 3)\n",
            "train: (58317, 3)\n",
            "test: (73729, 3)\n",
            "train: (58317, 3)\n",
            "test: (73729, 3)\n",
            "train: (58317, 3)\n",
            "======================TEST MODE======================\n",
            "/usr/local/lib/python3.10/dist-packages/torch/nn/_reduction.py:42: UserWarning: size_average and reduce args will be deprecated, please use reduction='none' instead.\n",
            "  warnings.warn(warning.format(ret))\n",
            "Threshold : 0.0006746547453803821\n",
            "pred:    (73700,)\n",
            "gt:      (73700,)\n",
            "pred:  (73700,)\n",
            "gt:    (73700,)\n",
            "Accuracy : 0.9874, Precision : 0.9172, Recall : 0.9676, F-score : 0.9417 \n"
          ]
        }
      ]
    },
    {
      "cell_type": "markdown",
      "source": [
        "##### UMAP 3"
      ],
      "metadata": {
        "id": "oF0GlogQWgUM"
      }
    },
    {
      "cell_type": "code",
      "source": [
        "!export CUDA_VISIBLE_DEVICES=0\n",
        "\n",
        "!python3 main.py --anormly_ratio 1 --num_epochs 3 --batch_size 256 --mode train --dataset MSL --data_path ./dataset/MSL_UMAP --input_c 3 --output_c 3"
      ],
      "metadata": {
        "colab": {
          "base_uri": "https://localhost:8080/"
        },
        "id": "nvgSttvxWie_",
        "outputId": "3805cdff-1141-4b7b-d8b7-6787947f0b49"
      },
      "execution_count": null,
      "outputs": [
        {
          "output_type": "stream",
          "name": "stdout",
          "text": [
            "------------ Options -------------\n",
            "anormly_ratio: 1.0\n",
            "batch_size: 256\n",
            "data_path: ./dataset/MSL_UMAP\n",
            "dataset: MSL\n",
            "input_c: 3\n",
            "k: 3\n",
            "lr: 0.0001\n",
            "mode: train\n",
            "model_save_path: checkpoints\n",
            "num_epochs: 3\n",
            "output_c: 3\n",
            "pretrained_model: None\n",
            "win_size: 100\n",
            "-------------- End ----------------\n",
            "test: (73729, 3)\n",
            "train: (58317, 3)\n",
            "test: (73729, 3)\n",
            "train: (58317, 3)\n",
            "test: (73729, 3)\n",
            "train: (58317, 3)\n",
            "test: (73729, 3)\n",
            "train: (58317, 3)\n",
            "======================TRAIN MODE======================\n",
            "\tspeed: 0.2131s/iter; left time: 124.6713s\n",
            "\tspeed: 0.2085s/iter; left time: 101.1036s\n",
            "Epoch: 1 cost time: 48.35800218582153\n",
            "Epoch: 1, Steps: 228 | Train Loss: -42.3321227 Vali Loss: -45.8312740 \n",
            "Validation loss decreased (inf --> -45.831274).  Saving model ...\n",
            "Updating learning rate to 0.0001\n",
            "\tspeed: 0.4587s/iter; left time: 163.7427s\n",
            "\tspeed: 0.2085s/iter; left time: 53.5825s\n",
            "Epoch: 2 cost time: 47.380638122558594\n",
            "Epoch: 2, Steps: 228 | Train Loss: -47.4649359 Vali Loss: -47.9484966 \n",
            "EarlyStopping counter: 1 out of 3\n",
            "Updating learning rate to 5e-05\n",
            "\tspeed: 0.4519s/iter; left time: 58.2914s\n",
            "\tspeed: 0.2084s/iter; left time: 6.0439s\n",
            "Epoch: 3 cost time: 47.354168176651\n",
            "Epoch: 3, Steps: 228 | Train Loss: -48.0840166 Vali Loss: -48.0656268 \n",
            "EarlyStopping counter: 2 out of 3\n",
            "Updating learning rate to 2.5e-05\n"
          ]
        }
      ]
    },
    {
      "cell_type": "code",
      "source": [
        "!python3 main.py --anormly_ratio 1 --num_epochs 10 --batch_size 256 --mode test --dataset MSL --data_path ./dataset/MSL_UMAP --input_c 3 --output_c 3  --pretrained_model 20"
      ],
      "metadata": {
        "colab": {
          "base_uri": "https://localhost:8080/"
        },
        "id": "jE24M0O8WiAV",
        "outputId": "d43d40f4-6c7e-484d-eab5-4ddd58eb6596"
      },
      "execution_count": null,
      "outputs": [
        {
          "output_type": "stream",
          "name": "stdout",
          "text": [
            "------------ Options -------------\n",
            "anormly_ratio: 1.0\n",
            "batch_size: 256\n",
            "data_path: ./dataset/MSL_UMAP\n",
            "dataset: MSL\n",
            "input_c: 3\n",
            "k: 3\n",
            "lr: 0.0001\n",
            "mode: test\n",
            "model_save_path: checkpoints\n",
            "num_epochs: 10\n",
            "output_c: 3\n",
            "pretrained_model: 20\n",
            "win_size: 100\n",
            "-------------- End ----------------\n",
            "test: (73729, 3)\n",
            "train: (58317, 3)\n",
            "test: (73729, 3)\n",
            "train: (58317, 3)\n",
            "test: (73729, 3)\n",
            "train: (58317, 3)\n",
            "test: (73729, 3)\n",
            "train: (58317, 3)\n",
            "======================TEST MODE======================\n",
            "/usr/local/lib/python3.10/dist-packages/torch/nn/_reduction.py:42: UserWarning: size_average and reduce args will be deprecated, please use reduction='none' instead.\n",
            "  warnings.warn(warning.format(ret))\n",
            "Threshold : 0.000812800823477979\n",
            "pred:    (73700,)\n",
            "gt:      (73700,)\n",
            "pred:  (73700,)\n",
            "gt:    (73700,)\n",
            "Accuracy : 0.9863, Precision : 0.9171, Recall : 0.9560, F-score : 0.9361 \n"
          ]
        }
      ]
    },
    {
      "cell_type": "markdown",
      "source": [
        "##### RP 3"
      ],
      "metadata": {
        "id": "sFEbQ8uoWi0e"
      }
    },
    {
      "cell_type": "code",
      "source": [
        "!export CUDA_VISIBLE_DEVICES=0\n",
        "\n",
        "!python3 main.py --anormly_ratio 1 --num_epochs 3 --batch_size 256 --mode train --dataset MSL --data_path ./dataset/MSL_RP --input_c 3 --output_c 3"
      ],
      "metadata": {
        "colab": {
          "base_uri": "https://localhost:8080/"
        },
        "id": "_BWCLxGyWkO9",
        "outputId": "9fe4399f-e64f-46ef-d08b-65bdc422b648"
      },
      "execution_count": null,
      "outputs": [
        {
          "output_type": "stream",
          "name": "stdout",
          "text": [
            "------------ Options -------------\n",
            "anormly_ratio: 1.0\n",
            "batch_size: 256\n",
            "data_path: ./dataset/MSL_RP\n",
            "dataset: MSL\n",
            "input_c: 3\n",
            "k: 3\n",
            "lr: 0.0001\n",
            "mode: train\n",
            "model_save_path: checkpoints\n",
            "num_epochs: 3\n",
            "output_c: 3\n",
            "pretrained_model: None\n",
            "win_size: 100\n",
            "-------------- End ----------------\n",
            "test: (73729, 3)\n",
            "train: (58317, 3)\n",
            "test: (73729, 3)\n",
            "train: (58317, 3)\n",
            "test: (73729, 3)\n",
            "train: (58317, 3)\n",
            "test: (73729, 3)\n",
            "train: (58317, 3)\n",
            "======================TRAIN MODE======================\n",
            "\tspeed: 0.2128s/iter; left time: 124.5141s\n",
            "\tspeed: 0.2084s/iter; left time: 101.0643s\n",
            "Epoch: 1 cost time: 48.31926417350769\n",
            "Epoch: 1, Steps: 228 | Train Loss: -41.9754799 Vali Loss: -46.3701570 \n",
            "Validation loss decreased (inf --> -46.370157).  Saving model ...\n",
            "Updating learning rate to 0.0001\n",
            "\tspeed: 0.4600s/iter; left time: 164.2138s\n",
            "\tspeed: 0.2084s/iter; left time: 53.5702s\n",
            "Epoch: 2 cost time: 47.36394453048706\n",
            "Epoch: 2, Steps: 228 | Train Loss: -47.6078052 Vali Loss: -47.7289742 \n",
            "EarlyStopping counter: 1 out of 3\n",
            "Updating learning rate to 5e-05\n",
            "\tspeed: 0.4527s/iter; left time: 58.4030s\n",
            "\tspeed: 0.2084s/iter; left time: 6.0440s\n",
            "Epoch: 3 cost time: 47.356995582580566\n",
            "Epoch: 3, Steps: 228 | Train Loss: -47.9765154 Vali Loss: -47.8567917 \n",
            "EarlyStopping counter: 2 out of 3\n",
            "Updating learning rate to 2.5e-05\n"
          ]
        }
      ]
    },
    {
      "cell_type": "code",
      "source": [
        "!python3 main.py --anormly_ratio 1 --num_epochs 10 --batch_size 256 --mode test --dataset MSL --data_path ./dataset/MSL_RP --input_c 3 --output_c 3  --pretrained_model 20"
      ],
      "metadata": {
        "colab": {
          "base_uri": "https://localhost:8080/"
        },
        "id": "oYPgIS9BZ3mi",
        "outputId": "65910ac4-b63d-429e-ff3f-93656209be22"
      },
      "execution_count": null,
      "outputs": [
        {
          "output_type": "stream",
          "name": "stdout",
          "text": [
            "------------ Options -------------\n",
            "anormly_ratio: 1.0\n",
            "batch_size: 256\n",
            "data_path: ./dataset/MSL_RP\n",
            "dataset: MSL\n",
            "input_c: 3\n",
            "k: 3\n",
            "lr: 0.0001\n",
            "mode: test\n",
            "model_save_path: checkpoints\n",
            "num_epochs: 10\n",
            "output_c: 3\n",
            "pretrained_model: 20\n",
            "win_size: 100\n",
            "-------------- End ----------------\n",
            "test: (73729, 3)\n",
            "train: (58317, 3)\n",
            "test: (73729, 3)\n",
            "train: (58317, 3)\n",
            "test: (73729, 3)\n",
            "train: (58317, 3)\n",
            "test: (73729, 3)\n",
            "train: (58317, 3)\n",
            "======================TEST MODE======================\n",
            "/usr/local/lib/python3.10/dist-packages/torch/nn/_reduction.py:42: UserWarning: size_average and reduce args will be deprecated, please use reduction='none' instead.\n",
            "  warnings.warn(warning.format(ret))\n",
            "Threshold : 0.0007032372045796271\n",
            "pred:    (73700,)\n",
            "gt:      (73700,)\n",
            "pred:  (73700,)\n",
            "gt:    (73700,)\n",
            "Accuracy : 0.9886, Precision : 0.9180, Recall : 0.9793, F-score : 0.9477 \n"
          ]
        }
      ]
    },
    {
      "cell_type": "markdown",
      "source": [
        "##### t-SNE 3"
      ],
      "metadata": {
        "id": "M4Dvhxj-e5Pd"
      }
    },
    {
      "cell_type": "code",
      "source": [
        "!export CUDA_VISIBLE_DEVICES=0\n",
        "\n",
        "!python3 main.py --anormly_ratio 1 --num_epochs 3 --batch_size 256 --mode train --dataset MSL --data_path ./dataset/MSL_TSNE --input_c 3 --output_c 3"
      ],
      "metadata": {
        "colab": {
          "base_uri": "https://localhost:8080/"
        },
        "id": "vmkH8saZe5AJ",
        "outputId": "fd442ce0-3b60-4031-eb88-b6e2f4594c64"
      },
      "execution_count": null,
      "outputs": [
        {
          "output_type": "stream",
          "name": "stdout",
          "text": [
            "------------ Options -------------\n",
            "anormly_ratio: 1.0\n",
            "batch_size: 256\n",
            "data_path: ./dataset/MSL_TSNE\n",
            "dataset: MSL\n",
            "input_c: 3\n",
            "k: 3\n",
            "lr: 0.0001\n",
            "mode: train\n",
            "model_save_path: checkpoints\n",
            "num_epochs: 3\n",
            "output_c: 3\n",
            "pretrained_model: None\n",
            "win_size: 100\n",
            "-------------- End ----------------\n",
            "test: (73729, 3)\n",
            "train: (58317, 3)\n",
            "test: (73729, 3)\n",
            "train: (58317, 3)\n",
            "test: (73729, 3)\n",
            "train: (58317, 3)\n",
            "test: (73729, 3)\n",
            "train: (58317, 3)\n",
            "======================TRAIN MODE======================\n",
            "\tspeed: 0.2129s/iter; left time: 124.5492s\n",
            "\tspeed: 0.2083s/iter; left time: 101.0053s\n",
            "Epoch: 1 cost time: 48.31498408317566\n",
            "Epoch: 1, Steps: 228 | Train Loss: -42.4030541 Vali Loss: -46.2812274 \n",
            "Validation loss decreased (inf --> -46.281227).  Saving model ...\n",
            "Updating learning rate to 0.0001\n",
            "\tspeed: 0.4584s/iter; left time: 163.6388s\n",
            "\tspeed: 0.2084s/iter; left time: 53.5577s\n",
            "Epoch: 2 cost time: 47.36308026313782\n",
            "Epoch: 2, Steps: 228 | Train Loss: -47.1356820 Vali Loss: -47.9954779 \n",
            "EarlyStopping counter: 1 out of 3\n",
            "Updating learning rate to 5e-05\n",
            "\tspeed: 0.4514s/iter; left time: 58.2284s\n",
            "\tspeed: 0.2084s/iter; left time: 6.0423s\n",
            "Epoch: 3 cost time: 47.34277606010437\n",
            "Epoch: 3, Steps: 228 | Train Loss: -48.0942175 Vali Loss: -48.1715361 \n",
            "EarlyStopping counter: 2 out of 3\n",
            "Updating learning rate to 2.5e-05\n"
          ]
        }
      ]
    },
    {
      "cell_type": "code",
      "source": [
        "!python3 main.py --anormly_ratio 1 --num_epochs 10 --batch_size 256 --mode test --dataset MSL --data_path ./dataset/MSL_TSNE --input_c 3 --output_c 3  --pretrained_model 20"
      ],
      "metadata": {
        "colab": {
          "base_uri": "https://localhost:8080/"
        },
        "id": "mv4_Q5utaAnu",
        "outputId": "50247c23-fa4c-410b-a3a8-7ae715047ef8"
      },
      "execution_count": null,
      "outputs": [
        {
          "output_type": "stream",
          "name": "stdout",
          "text": [
            "------------ Options -------------\n",
            "anormly_ratio: 1.0\n",
            "batch_size: 256\n",
            "data_path: ./dataset/MSL_TSNE\n",
            "dataset: MSL\n",
            "input_c: 3\n",
            "k: 3\n",
            "lr: 0.0001\n",
            "mode: test\n",
            "model_save_path: checkpoints\n",
            "num_epochs: 10\n",
            "output_c: 3\n",
            "pretrained_model: 20\n",
            "win_size: 100\n",
            "-------------- End ----------------\n",
            "test: (73729, 3)\n",
            "train: (58317, 3)\n",
            "test: (73729, 3)\n",
            "train: (58317, 3)\n",
            "test: (73729, 3)\n",
            "train: (58317, 3)\n",
            "test: (73729, 3)\n",
            "train: (58317, 3)\n",
            "======================TEST MODE======================\n",
            "/usr/local/lib/python3.10/dist-packages/torch/nn/_reduction.py:42: UserWarning: size_average and reduce args will be deprecated, please use reduction='none' instead.\n",
            "  warnings.warn(warning.format(ret))\n",
            "Threshold : 0.0007030508300521883\n",
            "pred:    (73700,)\n",
            "gt:      (73700,)\n",
            "pred:  (73700,)\n",
            "gt:    (73700,)\n",
            "Accuracy : 0.9855, Precision : 0.9164, Recall : 0.9490, F-score : 0.9324 \n"
          ]
        }
      ]
    },
    {
      "cell_type": "markdown",
      "source": [
        "##### PCA 2"
      ],
      "metadata": {
        "id": "7MRp7NsiXc61"
      }
    },
    {
      "cell_type": "code",
      "source": [
        "!export CUDA_VISIBLE_DEVICES=0\n",
        "\n",
        "!python3 main.py --anormly_ratio 1 --num_epochs 3 --batch_size 256 --mode train --dataset MSL --data_path ./dataset/MSL_PCA --input_c 2 --output_c 2"
      ],
      "metadata": {
        "colab": {
          "base_uri": "https://localhost:8080/"
        },
        "outputId": "fba1bbc5-02b7-44e3-c213-f4d136b85152",
        "id": "sTUlVdAHXc62"
      },
      "execution_count": null,
      "outputs": [
        {
          "output_type": "stream",
          "name": "stdout",
          "text": [
            "------------ Options -------------\n",
            "anormly_ratio: 1.0\n",
            "batch_size: 256\n",
            "data_path: ./dataset/MSL_PCA\n",
            "dataset: MSL\n",
            "input_c: 2\n",
            "k: 3\n",
            "lr: 0.0001\n",
            "mode: train\n",
            "model_save_path: checkpoints\n",
            "num_epochs: 3\n",
            "output_c: 2\n",
            "pretrained_model: None\n",
            "win_size: 100\n",
            "-------------- End ----------------\n",
            "test: (73729, 2)\n",
            "train: (58317, 2)\n",
            "test: (73729, 2)\n",
            "train: (58317, 2)\n",
            "test: (73729, 2)\n",
            "train: (58317, 2)\n",
            "test: (73729, 2)\n",
            "train: (58317, 2)\n",
            "======================TRAIN MODE======================\n",
            "\tspeed: 0.2272s/iter; left time: 132.9064s\n",
            "\tspeed: 0.2096s/iter; left time: 101.6654s\n",
            "Epoch: 1 cost time: 49.93036866188049\n",
            "Epoch: 1, Steps: 228 | Train Loss: -42.0025675 Vali Loss: -45.1492614 \n",
            "Validation loss decreased (inf --> -45.149261).  Saving model ...\n",
            "Updating learning rate to 0.0001\n",
            "\tspeed: 0.4622s/iter; left time: 165.0117s\n",
            "\tspeed: 0.2102s/iter; left time: 54.0130s\n",
            "Epoch: 2 cost time: 47.74629759788513\n",
            "Epoch: 2, Steps: 228 | Train Loss: -46.2672077 Vali Loss: -46.3600069 \n",
            "EarlyStopping counter: 1 out of 3\n",
            "Updating learning rate to 5e-05\n",
            "\tspeed: 0.4552s/iter; left time: 58.7253s\n",
            "\tspeed: 0.2102s/iter; left time: 6.0952s\n",
            "Epoch: 3 cost time: 47.75438642501831\n",
            "Epoch: 3, Steps: 228 | Train Loss: -46.6567894 Vali Loss: -46.9032160 \n",
            "EarlyStopping counter: 2 out of 3\n",
            "Updating learning rate to 2.5e-05\n"
          ]
        }
      ]
    },
    {
      "cell_type": "code",
      "source": [
        "!python3 main.py --anormly_ratio 1 --num_epochs 10 --batch_size 256 --mode test --dataset MSL --data_path ./dataset/MSL_PCA --input_c 2 --output_c 2  --pretrained_model 20"
      ],
      "metadata": {
        "colab": {
          "base_uri": "https://localhost:8080/"
        },
        "outputId": "fa37f4ae-cbaa-46e8-a6a2-2d19eba91b19",
        "id": "CMof87HbXc63"
      },
      "execution_count": null,
      "outputs": [
        {
          "output_type": "stream",
          "name": "stdout",
          "text": [
            "------------ Options -------------\n",
            "anormly_ratio: 1.0\n",
            "batch_size: 256\n",
            "data_path: ./dataset/MSL_PCA\n",
            "dataset: MSL\n",
            "input_c: 2\n",
            "k: 3\n",
            "lr: 0.0001\n",
            "mode: test\n",
            "model_save_path: checkpoints\n",
            "num_epochs: 10\n",
            "output_c: 2\n",
            "pretrained_model: 20\n",
            "win_size: 100\n",
            "-------------- End ----------------\n",
            "test: (73729, 2)\n",
            "train: (58317, 2)\n",
            "test: (73729, 2)\n",
            "train: (58317, 2)\n",
            "test: (73729, 2)\n",
            "train: (58317, 2)\n",
            "test: (73729, 2)\n",
            "train: (58317, 2)\n",
            "======================TEST MODE======================\n",
            "/usr/local/lib/python3.10/dist-packages/torch/nn/_reduction.py:42: UserWarning: size_average and reduce args will be deprecated, please use reduction='none' instead.\n",
            "  warnings.warn(warning.format(ret))\n",
            "Threshold : 0.0006836530065628562\n",
            "pred:    (73700,)\n",
            "gt:      (73700,)\n",
            "pred:  (73700,)\n",
            "gt:    (73700,)\n",
            "Accuracy : 0.9875, Precision : 0.9180, Recall : 0.9683, F-score : 0.9425 \n"
          ]
        }
      ]
    },
    {
      "cell_type": "markdown",
      "source": [
        "##### UMAP 2"
      ],
      "metadata": {
        "id": "Kbmtjox_Xc63"
      }
    },
    {
      "cell_type": "code",
      "source": [
        "!export CUDA_VISIBLE_DEVICES=0\n",
        "\n",
        "!python3 main.py --anormly_ratio 1 --num_epochs 3 --batch_size 256 --mode train --dataset MSL --data_path ./dataset/MSL_UMAP --input_c 2 --output_c 2"
      ],
      "metadata": {
        "colab": {
          "base_uri": "https://localhost:8080/"
        },
        "outputId": "b58d9eae-0341-442a-d005-46558b793d9a",
        "id": "rLgcfxEjXc64"
      },
      "execution_count": null,
      "outputs": [
        {
          "output_type": "stream",
          "name": "stdout",
          "text": [
            "------------ Options -------------\n",
            "anormly_ratio: 1.0\n",
            "batch_size: 256\n",
            "data_path: ./dataset/MSL_UMAP\n",
            "dataset: MSL\n",
            "input_c: 2\n",
            "k: 3\n",
            "lr: 0.0001\n",
            "mode: train\n",
            "model_save_path: checkpoints\n",
            "num_epochs: 3\n",
            "output_c: 2\n",
            "pretrained_model: None\n",
            "win_size: 100\n",
            "-------------- End ----------------\n",
            "test: (73729, 2)\n",
            "train: (58317, 2)\n",
            "test: (73729, 2)\n",
            "train: (58317, 2)\n",
            "test: (73729, 2)\n",
            "train: (58317, 2)\n",
            "test: (73729, 2)\n",
            "train: (58317, 2)\n",
            "======================TRAIN MODE======================\n",
            "\tspeed: 0.2153s/iter; left time: 125.9777s\n",
            "\tspeed: 0.2104s/iter; left time: 102.0416s\n",
            "Epoch: 1 cost time: 48.83259701728821\n",
            "Epoch: 1, Steps: 228 | Train Loss: -42.5327873 Vali Loss: -46.6454498 \n",
            "Validation loss decreased (inf --> -46.645450).  Saving model ...\n",
            "Updating learning rate to 0.0001\n",
            "\tspeed: 0.4619s/iter; left time: 164.8931s\n",
            "\tspeed: 0.2106s/iter; left time: 54.1255s\n",
            "Epoch: 2 cost time: 47.839415311813354\n",
            "Epoch: 2, Steps: 228 | Train Loss: -47.4018299 Vali Loss: -47.9447585 \n",
            "EarlyStopping counter: 1 out of 3\n",
            "Updating learning rate to 5e-05\n",
            "\tspeed: 0.4551s/iter; left time: 58.7089s\n",
            "\tspeed: 0.2104s/iter; left time: 6.1004s\n",
            "Epoch: 3 cost time: 47.80812406539917\n",
            "Epoch: 3, Steps: 228 | Train Loss: -48.0363691 Vali Loss: -48.1010078 \n",
            "EarlyStopping counter: 2 out of 3\n",
            "Updating learning rate to 2.5e-05\n"
          ]
        }
      ]
    },
    {
      "cell_type": "code",
      "source": [
        "!python3 main.py --anormly_ratio 1 --num_epochs 10 --batch_size 256 --mode test --dataset MSL --data_path ./dataset/MSL_UMAP --input_c 2 --output_c 2  --pretrained_model 20"
      ],
      "metadata": {
        "colab": {
          "base_uri": "https://localhost:8080/"
        },
        "outputId": "acce10f0-944e-4062-f3f3-9b4888a1f35e",
        "id": "KlqUl4_4Xc64"
      },
      "execution_count": null,
      "outputs": [
        {
          "output_type": "stream",
          "name": "stdout",
          "text": [
            "------------ Options -------------\n",
            "anormly_ratio: 1.0\n",
            "batch_size: 256\n",
            "data_path: ./dataset/MSL_UMAP\n",
            "dataset: MSL\n",
            "input_c: 2\n",
            "k: 3\n",
            "lr: 0.0001\n",
            "mode: test\n",
            "model_save_path: checkpoints\n",
            "num_epochs: 10\n",
            "output_c: 2\n",
            "pretrained_model: 20\n",
            "win_size: 100\n",
            "-------------- End ----------------\n",
            "test: (73729, 2)\n",
            "train: (58317, 2)\n",
            "test: (73729, 2)\n",
            "train: (58317, 2)\n",
            "test: (73729, 2)\n",
            "train: (58317, 2)\n",
            "test: (73729, 2)\n",
            "train: (58317, 2)\n",
            "======================TEST MODE======================\n",
            "/usr/local/lib/python3.10/dist-packages/torch/nn/_reduction.py:42: UserWarning: size_average and reduce args will be deprecated, please use reduction='none' instead.\n",
            "  warnings.warn(warning.format(ret))\n",
            "Threshold : 0.0004986412031575626\n",
            "pred:    (73700,)\n",
            "gt:      (73700,)\n",
            "pred:  (73700,)\n",
            "gt:    (73700,)\n",
            "Accuracy : 0.9875, Precision : 0.9183, Recall : 0.9677, F-score : 0.9423 \n"
          ]
        }
      ]
    },
    {
      "cell_type": "markdown",
      "source": [
        "##### RP 2"
      ],
      "metadata": {
        "id": "feQl8hb9Xc64"
      }
    },
    {
      "cell_type": "code",
      "source": [
        "!export CUDA_VISIBLE_DEVICES=0\n",
        "\n",
        "!python3 main.py --anormly_ratio 1 --num_epochs 3 --batch_size 256 --mode train --dataset MSL --data_path ./dataset/MSL_RP --input_c 2 --output_c 2"
      ],
      "metadata": {
        "colab": {
          "base_uri": "https://localhost:8080/"
        },
        "outputId": "d97e3790-9a30-41f9-ea0f-7f5bcaf9d8b4",
        "id": "Iyc6lWoMXc64"
      },
      "execution_count": null,
      "outputs": [
        {
          "output_type": "stream",
          "name": "stdout",
          "text": [
            "------------ Options -------------\n",
            "anormly_ratio: 1.0\n",
            "batch_size: 256\n",
            "data_path: ./dataset/MSL_RP\n",
            "dataset: MSL\n",
            "input_c: 2\n",
            "k: 3\n",
            "lr: 0.0001\n",
            "mode: train\n",
            "model_save_path: checkpoints\n",
            "num_epochs: 3\n",
            "output_c: 2\n",
            "pretrained_model: None\n",
            "win_size: 100\n",
            "-------------- End ----------------\n",
            "test: (73729, 2)\n",
            "train: (58317, 2)\n",
            "test: (73729, 2)\n",
            "train: (58317, 2)\n",
            "test: (73729, 2)\n",
            "train: (58317, 2)\n",
            "test: (73729, 2)\n",
            "train: (58317, 2)\n",
            "======================TRAIN MODE======================\n",
            "\tspeed: 0.2149s/iter; left time: 125.7108s\n",
            "\tspeed: 0.2101s/iter; left time: 101.9029s\n",
            "Epoch: 1 cost time: 48.752076387405396\n",
            "Epoch: 1, Steps: 228 | Train Loss: -42.3823238 Vali Loss: -45.6661110 \n",
            "Validation loss decreased (inf --> -45.666111).  Saving model ...\n",
            "Updating learning rate to 0.0001\n",
            "\tspeed: 0.4623s/iter; left time: 165.0483s\n",
            "\tspeed: 0.2101s/iter; left time: 53.9952s\n",
            "Epoch: 2 cost time: 47.746140241622925\n",
            "Epoch: 2, Steps: 228 | Train Loss: -47.1706967 Vali Loss: -47.8215739 \n",
            "EarlyStopping counter: 1 out of 3\n",
            "Updating learning rate to 5e-05\n",
            "\tspeed: 0.4554s/iter; left time: 58.7522s\n",
            "\tspeed: 0.2103s/iter; left time: 6.0988s\n",
            "Epoch: 3 cost time: 47.78842902183533\n",
            "Epoch: 3, Steps: 228 | Train Loss: -47.9303889 Vali Loss: -47.9627598 \n",
            "EarlyStopping counter: 2 out of 3\n",
            "Updating learning rate to 2.5e-05\n"
          ]
        }
      ]
    },
    {
      "cell_type": "code",
      "source": [
        "!python3 main.py --anormly_ratio 1 --num_epochs 10 --batch_size 256 --mode test --dataset MSL --data_path ./dataset/MSL_RP --input_c 2 --output_c 2  --pretrained_model 20"
      ],
      "metadata": {
        "colab": {
          "base_uri": "https://localhost:8080/"
        },
        "outputId": "56f243d5-b865-4137-8035-4aed08091f1c",
        "id": "Lk6QIDZnXc64"
      },
      "execution_count": null,
      "outputs": [
        {
          "output_type": "stream",
          "name": "stdout",
          "text": [
            "------------ Options -------------\n",
            "anormly_ratio: 1.0\n",
            "batch_size: 256\n",
            "data_path: ./dataset/MSL_RP\n",
            "dataset: MSL\n",
            "input_c: 2\n",
            "k: 3\n",
            "lr: 0.0001\n",
            "mode: test\n",
            "model_save_path: checkpoints\n",
            "num_epochs: 10\n",
            "output_c: 2\n",
            "pretrained_model: 20\n",
            "win_size: 100\n",
            "-------------- End ----------------\n",
            "test: (73729, 2)\n",
            "train: (58317, 2)\n",
            "test: (73729, 2)\n",
            "train: (58317, 2)\n",
            "test: (73729, 2)\n",
            "train: (58317, 2)\n",
            "test: (73729, 2)\n",
            "train: (58317, 2)\n",
            "======================TEST MODE======================\n",
            "/usr/local/lib/python3.10/dist-packages/torch/nn/_reduction.py:42: UserWarning: size_average and reduce args will be deprecated, please use reduction='none' instead.\n",
            "  warnings.warn(warning.format(ret))\n",
            "Threshold : 0.001002500643953642\n",
            "pred:    (73700,)\n",
            "gt:      (73700,)\n",
            "pred:  (73700,)\n",
            "gt:    (73700,)\n",
            "Accuracy : 0.9859, Precision : 0.9210, Recall : 0.9473, F-score : 0.9340 \n"
          ]
        }
      ]
    },
    {
      "cell_type": "markdown",
      "source": [
        "##### t-SNE 2"
      ],
      "metadata": {
        "id": "fIGE06Y4Xc64"
      }
    },
    {
      "cell_type": "code",
      "source": [
        "!export CUDA_VISIBLE_DEVICES=0\n",
        "\n",
        "!python3 main.py --anormly_ratio 1 --num_epochs 3 --batch_size 256 --mode train --dataset MSL --data_path ./dataset/MSL_TSNE --input_c 2 --output_c 2"
      ],
      "metadata": {
        "colab": {
          "base_uri": "https://localhost:8080/"
        },
        "outputId": "77801e36-8229-4fb8-bc23-3f897d12da71",
        "id": "ALTCXku6Xc64"
      },
      "execution_count": null,
      "outputs": [
        {
          "output_type": "stream",
          "name": "stdout",
          "text": [
            "------------ Options -------------\n",
            "anormly_ratio: 1.0\n",
            "batch_size: 256\n",
            "data_path: ./dataset/MSL_TSNE\n",
            "dataset: MSL\n",
            "input_c: 2\n",
            "k: 3\n",
            "lr: 0.0001\n",
            "mode: train\n",
            "model_save_path: checkpoints\n",
            "num_epochs: 3\n",
            "output_c: 2\n",
            "pretrained_model: None\n",
            "win_size: 100\n",
            "-------------- End ----------------\n",
            "test: (73729, 2)\n",
            "train: (58317, 2)\n",
            "test: (73729, 2)\n",
            "train: (58317, 2)\n",
            "test: (73729, 2)\n",
            "train: (58317, 2)\n",
            "test: (73729, 2)\n",
            "train: (58317, 2)\n",
            "======================TRAIN MODE======================\n",
            "\tspeed: 0.2150s/iter; left time: 125.8012s\n",
            "\tspeed: 0.2104s/iter; left time: 102.0571s\n",
            "Epoch: 1 cost time: 48.80909872055054\n",
            "Epoch: 1, Steps: 228 | Train Loss: -42.4657920 Vali Loss: -45.7867129 \n",
            "Validation loss decreased (inf --> -45.786713).  Saving model ...\n",
            "Updating learning rate to 0.0001\n",
            "\tspeed: 0.4622s/iter; left time: 164.9984s\n",
            "\tspeed: 0.2104s/iter; left time: 54.0747s\n",
            "Epoch: 2 cost time: 47.8291974067688\n",
            "Epoch: 2, Steps: 228 | Train Loss: -47.4715171 Vali Loss: -48.0613714 \n",
            "EarlyStopping counter: 1 out of 3\n",
            "Updating learning rate to 5e-05\n",
            "\tspeed: 0.4550s/iter; left time: 58.6933s\n",
            "\tspeed: 0.2105s/iter; left time: 6.1057s\n",
            "Epoch: 3 cost time: 47.826271295547485\n",
            "Epoch: 3, Steps: 228 | Train Loss: -48.2019648 Vali Loss: -48.2596789 \n",
            "EarlyStopping counter: 2 out of 3\n",
            "Updating learning rate to 2.5e-05\n"
          ]
        }
      ]
    },
    {
      "cell_type": "code",
      "source": [
        "!python3 main.py --anormly_ratio 1 --num_epochs 10 --batch_size 256 --mode test --dataset MSL --data_path ./dataset/MSL_TSNE --input_c 2 --output_c 2  --pretrained_model 20"
      ],
      "metadata": {
        "colab": {
          "base_uri": "https://localhost:8080/"
        },
        "outputId": "f02d4664-013e-4351-9973-6fb2eab099b6",
        "id": "019fnraQXc64"
      },
      "execution_count": null,
      "outputs": [
        {
          "output_type": "stream",
          "name": "stdout",
          "text": [
            "------------ Options -------------\n",
            "anormly_ratio: 1.0\n",
            "batch_size: 256\n",
            "data_path: ./dataset/MSL_TSNE\n",
            "dataset: MSL\n",
            "input_c: 2\n",
            "k: 3\n",
            "lr: 0.0001\n",
            "mode: test\n",
            "model_save_path: checkpoints\n",
            "num_epochs: 10\n",
            "output_c: 2\n",
            "pretrained_model: 20\n",
            "win_size: 100\n",
            "-------------- End ----------------\n",
            "test: (73729, 2)\n",
            "train: (58317, 2)\n",
            "test: (73729, 2)\n",
            "train: (58317, 2)\n",
            "test: (73729, 2)\n",
            "train: (58317, 2)\n",
            "test: (73729, 2)\n",
            "train: (58317, 2)\n",
            "======================TEST MODE======================\n",
            "/usr/local/lib/python3.10/dist-packages/torch/nn/_reduction.py:42: UserWarning: size_average and reduce args will be deprecated, please use reduction='none' instead.\n",
            "  warnings.warn(warning.format(ret))\n",
            "Threshold : 0.00031527461425865874\n",
            "pred:    (73700,)\n",
            "gt:      (73700,)\n",
            "pred:  (73700,)\n",
            "gt:    (73700,)\n",
            "Accuracy : 0.9884, Precision : 0.9197, Recall : 0.9749, F-score : 0.9465 \n"
          ]
        }
      ]
    },
    {
      "cell_type": "markdown",
      "source": [
        "### SWaT"
      ],
      "metadata": {
        "id": "3yJMGva-8O5D"
      }
    },
    {
      "cell_type": "markdown",
      "source": [
        "##### Original"
      ],
      "metadata": {
        "id": "hmzRwMJk8O5D"
      }
    },
    {
      "cell_type": "code",
      "source": [
        "!export CUDA_VISIBLE_DEVICES=0\n",
        "\n",
        "!python3 main.py --anormly_ratio 0.5 --num_epochs 3   --batch_size 256  --mode train --dataset SWaT  --data_path ./dataset --input_c 51 --output_c 51"
      ],
      "metadata": {
        "colab": {
          "base_uri": "https://localhost:8080/"
        },
        "outputId": "11a05f43-465c-4c85-b62c-aed0d7ad01c2",
        "id": "AXNhcwec8O5D"
      },
      "execution_count": null,
      "outputs": [
        {
          "output_type": "stream",
          "name": "stdout",
          "text": [
            "------------ Options -------------\n",
            "anormly_ratio: 1.0\n",
            "batch_size: 256\n",
            "data_path: ./dataset\n",
            "dataset: SWaT\n",
            "input_c: 51\n",
            "k: 3\n",
            "lr: 0.0001\n",
            "mode: train\n",
            "model_save_path: checkpoints\n",
            "num_epochs: 3\n",
            "output_c: 51\n",
            "pretrained_model: None\n",
            "win_size: 100\n",
            "-------------- End ----------------\n",
            "test: (449919, 51)\n",
            "train: (495000, 51)\n",
            "test: (449919, 51)\n",
            "train: (495000, 51)\n",
            "test: (449919, 51)\n",
            "train: (495000, 51)\n",
            "test: (449919, 51)\n",
            "train: (495000, 51)\n",
            "======================TRAIN MODE======================\n",
            "\tspeed: 0.6730s/iter; left time: 3838.2464s\n",
            "\tspeed: 0.7033s/iter; left time: 3940.3364s\n",
            "\tspeed: 0.7028s/iter; left time: 3867.3414s\n",
            "\tspeed: 0.7055s/iter; left time: 3811.9143s\n",
            "\tspeed: 0.7067s/iter; left time: 3747.4799s\n",
            "\tspeed: 0.7070s/iter; left time: 3678.6497s\n",
            "\tspeed: 0.7065s/iter; left time: 3605.3487s\n",
            "\tspeed: 0.7059s/iter; left time: 3531.7130s\n",
            "\tspeed: 0.7053s/iter; left time: 3457.8930s\n",
            "\tspeed: 0.7051s/iter; left time: 3386.4066s\n",
            "\tspeed: 0.7036s/iter; left time: 3308.8069s\n",
            "\tspeed: 0.7044s/iter; left time: 3242.1704s\n",
            "\tspeed: 0.7021s/iter; left time: 3161.5059s\n",
            "\tspeed: 0.7033s/iter; left time: 3096.4432s\n",
            "\tspeed: 0.7021s/iter; left time: 3021.2857s\n",
            "\tspeed: 0.7034s/iter; left time: 2956.2911s\n",
            "\tspeed: 0.7016s/iter; left time: 2878.6215s\n",
            "\tspeed: 0.7035s/iter; left time: 2816.0542s\n",
            "\tspeed: 0.7012s/iter; left time: 2736.7023s\n",
            "Epoch: 1 cost time: 1358.9806761741638\n",
            "Epoch: 1, Steps: 1934 | Train Loss: -47.5499290 Vali Loss: -45.7575952 \n",
            "Validation loss decreased (inf --> -45.757595).  Saving model ...\n",
            "Updating learning rate to 0.0001\n",
            "\tspeed: 4.6303s/iter; left time: 17451.6395s\n",
            "\tspeed: 0.7000s/iter; left time: 2568.2461s\n",
            "\tspeed: 0.7019s/iter; left time: 2505.2249s\n",
            "\tspeed: 0.7013s/iter; left time: 2432.9651s\n",
            "\tspeed: 0.6992s/iter; left time: 2355.7399s\n",
            "\tspeed: 0.7008s/iter; left time: 2290.8272s\n",
            "\tspeed: 0.6996s/iter; left time: 2217.1224s\n",
            "\tspeed: 0.6978s/iter; left time: 2141.5148s\n",
            "\tspeed: 0.6978s/iter; left time: 2071.8049s\n",
            "\tspeed: 0.6972s/iter; left time: 2000.1558s\n",
            "\tspeed: 0.6965s/iter; left time: 1928.6776s\n",
            "\tspeed: 0.6979s/iter; left time: 1862.8206s\n",
            "\tspeed: 0.6989s/iter; left time: 1795.4830s\n",
            "\tspeed: 0.6968s/iter; left time: 1720.3254s\n",
            "\tspeed: 0.6961s/iter; left time: 1649.0876s\n",
            "\tspeed: 0.6950s/iter; left time: 1576.9742s\n",
            "\tspeed: 0.6953s/iter; left time: 1508.1279s\n",
            "\tspeed: 0.6969s/iter; left time: 1441.8366s\n",
            "\tspeed: 0.6947s/iter; left time: 1367.9272s\n",
            "Epoch: 2 cost time: 1349.3977847099304\n",
            "Epoch: 2, Steps: 1934 | Train Loss: -48.4655813 Vali Loss: -46.5706337 \n",
            "Validation loss decreased (-45.757595 --> -46.570634).  Saving model ...\n",
            "Updating learning rate to 5e-05\n",
            "\tspeed: 4.6155s/iter; left time: 8469.4961s\n",
            "\tspeed: 0.6964s/iter; left time: 1208.2413s\n",
            "\tspeed: 0.6953s/iter; left time: 1136.7895s\n",
            "\tspeed: 0.6958s/iter; left time: 1068.0185s\n",
            "\tspeed: 0.6965s/iter; left time: 999.5152s\n",
            "\tspeed: 0.6957s/iter; left time: 928.7102s\n",
            "\tspeed: 0.6968s/iter; left time: 860.5152s\n",
            "\tspeed: 0.6964s/iter; left time: 790.4206s\n",
            "\tspeed: 0.6965s/iter; left time: 720.8320s\n",
            "\tspeed: 0.6958s/iter; left time: 650.5687s\n",
            "\tspeed: 0.6960s/iter; left time: 581.1190s\n",
            "\tspeed: 0.6950s/iter; left time: 510.8210s\n",
            "\tspeed: 0.6952s/iter; left time: 441.4453s\n",
            "\tspeed: 0.6957s/iter; left time: 372.1875s\n",
            "\tspeed: 0.6946s/iter; left time: 302.1671s\n",
            "\tspeed: 0.6934s/iter; left time: 232.3000s\n",
            "\tspeed: 0.6938s/iter; left time: 163.0368s\n",
            "\tspeed: 0.6941s/iter; left time: 93.7093s\n",
            "\tspeed: 0.6930s/iter; left time: 24.2540s\n",
            "Epoch: 3 cost time: 1344.2527709007263\n",
            "Epoch: 3, Steps: 1934 | Train Loss: -48.6576974 Vali Loss: -46.7856044 \n",
            "EarlyStopping counter: 1 out of 3\n",
            "Updating learning rate to 2.5e-05\n"
          ]
        }
      ]
    },
    {
      "cell_type": "code",
      "source": [
        "!python main.py --anormly_ratio 0.1  --num_epochs 10 --batch_size 256 --mode test --dataset SWaT --data_path ./dataset  --input_c 51 --output_c 51 --pretrained_model 10"
      ],
      "metadata": {
        "colab": {
          "base_uri": "https://localhost:8080/"
        },
        "outputId": "51238782-5594-4c68-887f-c4b49a8c4f05",
        "id": "MeA-LOnJ8O5D"
      },
      "execution_count": null,
      "outputs": [
        {
          "output_type": "stream",
          "name": "stdout",
          "text": [
            "------------ Options -------------\n",
            "anormly_ratio: 1.0\n",
            "batch_size: 256\n",
            "data_path: ./dataset\n",
            "dataset: SWaT\n",
            "input_c: 51\n",
            "k: 3\n",
            "lr: 0.0001\n",
            "mode: test\n",
            "model_save_path: checkpoints\n",
            "num_epochs: 10\n",
            "output_c: 51\n",
            "pretrained_model: 20\n",
            "win_size: 100\n",
            "-------------- End ----------------\n",
            "test: (449919, 51)\n",
            "train: (495000, 51)\n",
            "test: (449919, 51)\n",
            "train: (495000, 51)\n",
            "test: (449919, 51)\n",
            "train: (495000, 51)\n",
            "test: (449919, 51)\n",
            "train: (495000, 51)\n",
            "======================TEST MODE======================\n",
            "/usr/local/lib/python3.10/dist-packages/torch/nn/_reduction.py:42: UserWarning: size_average and reduce args will be deprecated, please use reduction='none' instead.\n",
            "  warnings.warn(warning.format(ret))\n",
            "Threshold : 0.0008558971027377961\n",
            "pred:    (449900,)\n",
            "gt:      (449900,)\n",
            "pred:  (449900,)\n",
            "gt:    (449900,)\n",
            "Accuracy : 0.9841, Precision : 0.8844, Recall : 1.0000, F-score : 0.9386 \n"
          ]
        }
      ]
    },
    {
      "cell_type": "markdown",
      "source": [
        "##### PCA TO HALF 25"
      ],
      "metadata": {
        "id": "fKWY01OP8O5D"
      }
    },
    {
      "cell_type": "code",
      "source": [
        "!export CUDA_VISIBLE_DEVICES=0\n",
        "\n",
        "!python3 main.py --anormly_ratio 0.5 --num_epochs 3   --batch_size 256  --mode train --dataset SWaT  --data_path ./dataset/SWaT_PCA_25 --input_c 25 --output_c 25"
      ],
      "metadata": {
        "colab": {
          "base_uri": "https://localhost:8080/"
        },
        "outputId": "2861b04c-7aa4-4ac7-ee43-0fde5cace0cd",
        "id": "FqeOC3hY8O5D"
      },
      "execution_count": null,
      "outputs": [
        {
          "output_type": "stream",
          "name": "stdout",
          "text": [
            "------------ Options -------------\n",
            "anormly_ratio: 1.0\n",
            "batch_size: 256\n",
            "data_path: ./dataset/SWaT_PCA_25\n",
            "dataset: SWaT\n",
            "input_c: 25\n",
            "k: 3\n",
            "lr: 0.0001\n",
            "mode: train\n",
            "model_save_path: checkpoints\n",
            "num_epochs: 3\n",
            "output_c: 25\n",
            "pretrained_model: None\n",
            "win_size: 100\n",
            "-------------- End ----------------\n",
            "test: (449919, 25)\n",
            "train: (495000, 25)\n",
            "test: (449919, 25)\n",
            "train: (495000, 25)\n",
            "test: (449919, 25)\n",
            "train: (495000, 25)\n",
            "test: (449919, 25)\n",
            "train: (495000, 25)\n",
            "======================TRAIN MODE======================\n",
            "\tspeed: 0.6711s/iter; left time: 3827.4044s\n",
            "\tspeed: 0.6937s/iter; left time: 3886.8268s\n",
            "\tspeed: 0.6906s/iter; left time: 3800.3353s\n",
            "\tspeed: 0.6904s/iter; left time: 3730.0397s\n",
            "\tspeed: 0.6926s/iter; left time: 3673.0743s\n",
            "\tspeed: 0.6906s/iter; left time: 3593.2247s\n",
            "\tspeed: 0.6889s/iter; left time: 3515.5506s\n",
            "\tspeed: 0.6888s/iter; left time: 3446.0030s\n",
            "\tspeed: 0.6892s/iter; left time: 3379.0299s\n",
            "\tspeed: 0.6888s/iter; left time: 3308.0850s\n",
            "\tspeed: 0.6889s/iter; left time: 3239.6700s\n",
            "\tspeed: 0.6889s/iter; left time: 3171.0544s\n",
            "\tspeed: 0.6886s/iter; left time: 3100.7521s\n",
            "\tspeed: 0.6887s/iter; left time: 3032.2221s\n",
            "\tspeed: 0.6883s/iter; left time: 2961.8257s\n",
            "\tspeed: 0.6884s/iter; left time: 2893.4003s\n",
            "\tspeed: 0.6877s/iter; left time: 2821.4818s\n",
            "\tspeed: 0.6864s/iter; left time: 2747.6519s\n",
            "\tspeed: 0.6865s/iter; left time: 2679.5503s\n",
            "Epoch: 1 cost time: 1331.4669785499573\n",
            "Epoch: 1, Steps: 1934 | Train Loss: -47.5793390 Vali Loss: -48.2556017 \n",
            "Validation loss decreased (inf --> -48.255602).  Saving model ...\n",
            "Updating learning rate to 0.0001\n",
            "\tspeed: 4.5303s/iter; left time: 17074.6073s\n",
            "\tspeed: 0.6861s/iter; left time: 2517.4059s\n",
            "\tspeed: 0.6847s/iter; left time: 2443.8238s\n",
            "\tspeed: 0.6852s/iter; left time: 2376.9809s\n",
            "\tspeed: 0.6840s/iter; left time: 2304.3202s\n",
            "\tspeed: 0.6846s/iter; left time: 2237.8717s\n",
            "\tspeed: 0.6828s/iter; left time: 2163.7471s\n",
            "\tspeed: 0.6838s/iter; left time: 2098.4952s\n",
            "\tspeed: 0.6831s/iter; left time: 2028.0438s\n",
            "\tspeed: 0.6821s/iter; left time: 1956.9069s\n",
            "\tspeed: 0.6829s/iter; left time: 1890.9884s\n",
            "\tspeed: 0.6830s/iter; left time: 1822.8055s\n",
            "\tspeed: 0.6832s/iter; left time: 1755.1944s\n",
            "\tspeed: 0.6821s/iter; left time: 1684.1131s\n",
            "\tspeed: 0.6815s/iter; left time: 1614.5548s\n",
            "\tspeed: 0.6818s/iter; left time: 1546.9927s\n",
            "\tspeed: 0.6815s/iter; left time: 1478.0800s\n",
            "\tspeed: 0.6822s/iter; left time: 1411.4992s\n",
            "\tspeed: 0.6816s/iter; left time: 1341.9974s\n",
            "Epoch: 2 cost time: 1320.683217048645\n",
            "Epoch: 2, Steps: 1934 | Train Loss: -48.6634838 Vali Loss: -48.3634146 \n",
            "EarlyStopping counter: 1 out of 3\n",
            "Updating learning rate to 5e-05\n",
            "\tspeed: 4.5173s/iter; left time: 8289.2939s\n",
            "\tspeed: 0.6828s/iter; left time: 1184.7217s\n",
            "\tspeed: 0.6792s/iter; left time: 1110.4993s\n",
            "\tspeed: 0.6810s/iter; left time: 1045.3204s\n",
            "\tspeed: 0.6828s/iter; left time: 979.8166s\n",
            "\tspeed: 0.6804s/iter; left time: 908.3584s\n",
            "\tspeed: 0.6807s/iter; left time: 840.6980s\n",
            "\tspeed: 0.6812s/iter; left time: 773.1808s\n",
            "\tspeed: 0.6810s/iter; left time: 704.7895s\n",
            "\tspeed: 0.6799s/iter; left time: 635.7507s\n",
            "\tspeed: 0.6806s/iter; left time: 568.2768s\n",
            "\tspeed: 0.6794s/iter; left time: 499.3785s\n",
            "\tspeed: 0.6798s/iter; left time: 431.6811s\n",
            "\tspeed: 0.6789s/iter; left time: 363.1955s\n",
            "\tspeed: 0.6787s/iter; left time: 295.2163s\n",
            "\tspeed: 0.6786s/iter; left time: 227.3324s\n",
            "\tspeed: 0.6788s/iter; left time: 159.5296s\n",
            "\tspeed: 0.6789s/iter; left time: 91.6548s\n",
            "\tspeed: 0.6790s/iter; left time: 23.7638s\n",
            "Epoch: 3 cost time: 1314.7816503047943\n",
            "Epoch: 3, Steps: 1934 | Train Loss: -48.6787008 Vali Loss: -48.3747914 \n",
            "Validation loss decreased (-48.255602 --> -48.374791).  Saving model ...\n",
            "Updating learning rate to 2.5e-05\n"
          ]
        }
      ]
    },
    {
      "cell_type": "code",
      "source": [
        "!python main.py --anormly_ratio 0.1  --num_epochs 10 --batch_size 256 --mode test --dataset SWaT --data_path ./dataset/SWaT_PCA_25 --input_c 25 --output_c 25 --pretrained_model 10"
      ],
      "metadata": {
        "colab": {
          "base_uri": "https://localhost:8080/"
        },
        "outputId": "00fb82e3-ce0d-4589-829c-0c0db327d1a6",
        "id": "GCw2i8mY8O5E"
      },
      "execution_count": null,
      "outputs": [
        {
          "output_type": "stream",
          "name": "stdout",
          "text": [
            "------------ Options -------------\n",
            "anormly_ratio: 1.0\n",
            "batch_size: 256\n",
            "data_path: ./dataset/SWaT_PCA_25\n",
            "dataset: SWaT\n",
            "input_c: 25\n",
            "k: 3\n",
            "lr: 0.0001\n",
            "mode: test\n",
            "model_save_path: checkpoints\n",
            "num_epochs: 10\n",
            "output_c: 25\n",
            "pretrained_model: 20\n",
            "win_size: 100\n",
            "-------------- End ----------------\n",
            "test: (449919, 25)\n",
            "train: (495000, 25)\n",
            "test: (449919, 25)\n",
            "train: (495000, 25)\n",
            "test: (449919, 25)\n",
            "train: (495000, 25)\n",
            "test: (449919, 25)\n",
            "train: (495000, 25)\n",
            "======================TEST MODE======================\n",
            "/usr/local/lib/python3.10/dist-packages/torch/nn/_reduction.py:42: UserWarning: size_average and reduce args will be deprecated, please use reduction='none' instead.\n",
            "  warnings.warn(warning.format(ret))\n",
            "Threshold : 0.00015758589564938941\n",
            "pred:    (449900,)\n",
            "gt:      (449900,)\n",
            "pred:  (449900,)\n",
            "gt:    (449900,)\n",
            "Accuracy : 0.9898, Precision : 0.9223, Recall : 1.0000, F-score : 0.9596 \n"
          ]
        }
      ]
    },
    {
      "cell_type": "markdown",
      "source": [
        "##### UMAP TO HALF 25"
      ],
      "metadata": {
        "id": "9KeonLxh8O5E"
      }
    },
    {
      "cell_type": "code",
      "source": [
        "!export CUDA_VISIBLE_DEVICES=0\n",
        "\n",
        "!python3 main.py --anormly_ratio 0.5 --num_epochs 3   --batch_size 256  --mode train --dataset SWaT  --data_path ./dataset/SWaT_UMAP_25 --input_c 25 --output_c 25"
      ],
      "metadata": {
        "colab": {
          "base_uri": "https://localhost:8080/"
        },
        "outputId": "08006d86-4c4e-4f81-8154-f7ea1bf25dc3",
        "id": "rdmJ3vk38O5E"
      },
      "execution_count": null,
      "outputs": [
        {
          "output_type": "stream",
          "name": "stdout",
          "text": [
            "------------ Options -------------\n",
            "anormly_ratio: 0.5\n",
            "batch_size: 256\n",
            "data_path: ./dataset/SWaT_UMAP_25\n",
            "dataset: SWaT\n",
            "input_c: 25\n",
            "k: 3\n",
            "lr: 0.0001\n",
            "mode: train\n",
            "model_save_path: checkpoints\n",
            "num_epochs: 3\n",
            "output_c: 25\n",
            "pretrained_model: None\n",
            "win_size: 100\n",
            "-------------- End ----------------\n",
            "test: (449919, 25)\n",
            "train: (495000, 25)\n",
            "test: (449919, 25)\n",
            "train: (495000, 25)\n",
            "test: (449919, 25)\n",
            "train: (495000, 25)\n",
            "test: (449919, 25)\n",
            "train: (495000, 25)\n",
            "======================TRAIN MODE======================\n",
            "\tspeed: 0.6611s/iter; left time: 3770.5162s\n",
            "\tspeed: 0.7032s/iter; left time: 3940.3079s\n",
            "\tspeed: 0.6958s/iter; left time: 3828.7781s\n",
            "\tspeed: 0.6957s/iter; left time: 3759.1093s\n",
            "\tspeed: 0.6968s/iter; left time: 3695.0137s\n",
            "\tspeed: 0.6949s/iter; left time: 3615.4454s\n",
            "\tspeed: 0.6958s/iter; left time: 3550.8459s\n",
            "\tspeed: 0.6951s/iter; left time: 3477.7604s\n",
            "\tspeed: 0.6945s/iter; left time: 3405.0428s\n",
            "\tspeed: 0.6943s/iter; left time: 3334.8622s\n",
            "\tspeed: 0.6929s/iter; left time: 3258.8502s\n",
            "\tspeed: 0.6936s/iter; left time: 3192.7059s\n",
            "\tspeed: 0.6941s/iter; left time: 3125.5973s\n",
            "\tspeed: 0.6922s/iter; left time: 3047.6645s\n",
            "\tspeed: 0.6929s/iter; left time: 2981.3440s\n",
            "\tspeed: 0.6916s/iter; left time: 2906.9081s\n",
            "\tspeed: 0.6917s/iter; left time: 2838.1436s\n",
            "\tspeed: 0.6925s/iter; left time: 2772.2040s\n",
            "\tspeed: 0.6906s/iter; left time: 2695.3202s\n",
            "Epoch: 1 cost time: 1339.8784487247467\n",
            "Epoch: 1, Steps: 1934 | Train Loss: -47.8108302 Vali Loss: -48.8525387 \n",
            "Validation loss decreased (inf --> -48.852539).  Saving model ...\n",
            "Updating learning rate to 0.0001\n",
            "\tspeed: 4.4957s/iter; left time: 16944.1237s\n",
            "\tspeed: 0.6899s/iter; left time: 2531.3464s\n",
            "\tspeed: 0.6905s/iter; left time: 2464.5291s\n",
            "\tspeed: 0.6900s/iter; left time: 2393.4553s\n",
            "\tspeed: 0.6900s/iter; left time: 2324.5282s\n",
            "\tspeed: 0.6921s/iter; left time: 2262.4141s\n",
            "\tspeed: 0.6903s/iter; left time: 2187.6811s\n",
            "\tspeed: 0.6898s/iter; left time: 2116.9696s\n",
            "\tspeed: 0.6891s/iter; left time: 2045.8459s\n",
            "\tspeed: 0.6909s/iter; left time: 1982.1782s\n",
            "\tspeed: 0.6900s/iter; left time: 1910.6808s\n",
            "\tspeed: 0.6899s/iter; left time: 1841.2892s\n",
            "\tspeed: 0.6892s/iter; left time: 1770.5247s\n",
            "\tspeed: 0.6891s/iter; left time: 1701.2988s\n",
            "\tspeed: 0.6893s/iter; left time: 1632.9757s\n",
            "\tspeed: 0.6891s/iter; left time: 1563.6749s\n",
            "\tspeed: 0.6892s/iter; left time: 1494.8385s\n",
            "\tspeed: 0.6891s/iter; left time: 1425.6962s\n",
            "\tspeed: 0.6896s/iter; left time: 1357.7669s\n",
            "Epoch: 2 cost time: 1333.643863916397\n",
            "Epoch: 2, Steps: 1934 | Train Loss: -48.9989327 Vali Loss: -48.9054701 \n",
            "Validation loss decreased (-48.852539 --> -48.905470).  Saving model ...\n",
            "Updating learning rate to 5e-05\n",
            "\tspeed: 4.4849s/iter; left time: 8229.7409s\n",
            "\tspeed: 0.6894s/iter; left time: 1196.1580s\n",
            "\tspeed: 0.6892s/iter; left time: 1126.7676s\n",
            "\tspeed: 0.6892s/iter; left time: 1057.9034s\n",
            "\tspeed: 0.6892s/iter; left time: 989.0434s\n",
            "\tspeed: 0.6892s/iter; left time: 920.0271s\n",
            "\tspeed: 0.6887s/iter; left time: 850.5077s\n",
            "\tspeed: 0.6900s/iter; left time: 783.1017s\n",
            "\tspeed: 0.6881s/iter; left time: 712.2293s\n",
            "\tspeed: 0.6889s/iter; left time: 644.0941s\n",
            "\tspeed: 0.6893s/iter; left time: 575.5418s\n",
            "\tspeed: 0.6891s/iter; left time: 506.4645s\n",
            "\tspeed: 0.6891s/iter; left time: 437.5532s\n",
            "\tspeed: 0.6886s/iter; left time: 368.4126s\n",
            "\tspeed: 0.6888s/iter; left time: 299.6199s\n",
            "\tspeed: 0.6878s/iter; left time: 230.4082s\n",
            "\tspeed: 0.6888s/iter; left time: 161.8669s\n",
            "\tspeed: 0.6887s/iter; left time: 92.9681s\n",
            "\tspeed: 0.6882s/iter; left time: 24.0874s\n",
            "Epoch: 3 cost time: 1331.6122453212738\n",
            "Epoch: 3, Steps: 1934 | Train Loss: -49.0058829 Vali Loss: -48.9355235 \n",
            "Validation loss decreased (-48.905470 --> -48.935523).  Saving model ...\n",
            "Updating learning rate to 2.5e-05\n"
          ]
        }
      ]
    },
    {
      "cell_type": "code",
      "source": [
        "!python main.py --anormly_ratio 0.1  --num_epochs 10 --batch_size 256 --mode test --dataset SWaT --data_path ./dataset/SWaT_UMAP_25 --input_c 25 --output_c 25 --pretrained_model 10"
      ],
      "metadata": {
        "colab": {
          "base_uri": "https://localhost:8080/"
        },
        "outputId": "ed49e89a-a4f4-4e0d-c9e7-5b8d5133b429",
        "id": "dA03UV8d8O5E"
      },
      "execution_count": null,
      "outputs": [
        {
          "output_type": "stream",
          "name": "stdout",
          "text": [
            "------------ Options -------------\n",
            "anormly_ratio: 0.1\n",
            "batch_size: 256\n",
            "data_path: ./dataset/SWaT_UMAP_25\n",
            "dataset: SWaT\n",
            "input_c: 25\n",
            "k: 3\n",
            "lr: 0.0001\n",
            "mode: test\n",
            "model_save_path: checkpoints\n",
            "num_epochs: 10\n",
            "output_c: 25\n",
            "pretrained_model: 10\n",
            "win_size: 100\n",
            "-------------- End ----------------\n",
            "test: (449919, 25)\n",
            "train: (495000, 25)\n",
            "test: (449919, 25)\n",
            "train: (495000, 25)\n",
            "test: (449919, 25)\n",
            "train: (495000, 25)\n",
            "test: (449919, 25)\n",
            "train: (495000, 25)\n",
            "======================TEST MODE======================\n",
            "/usr/local/lib/python3.10/dist-packages/torch/nn/_reduction.py:42: UserWarning: size_average and reduce args will be deprecated, please use reduction='none' instead.\n",
            "  warnings.warn(warning.format(ret))\n",
            "Threshold : 0.0010838309596292797\n",
            "pred:    (449900,)\n",
            "gt:      (449900,)\n",
            "pred:  (449900,)\n",
            "gt:    (449900,)\n",
            "Accuracy : 0.9783, Precision : 0.8482, Recall : 1.0000, F-score : 0.9179 \n"
          ]
        }
      ]
    },
    {
      "cell_type": "markdown",
      "source": [
        "##### RP TO HALF 25"
      ],
      "metadata": {
        "id": "UpJcrizc8O5E"
      }
    },
    {
      "cell_type": "code",
      "source": [
        "!export CUDA_VISIBLE_DEVICES=0\n",
        "\n",
        "!python3 main.py --anormly_ratio 0.5 --num_epochs 3   --batch_size 256  --mode train --dataset SWaT  --data_path ./dataset/SWaT_RP_25 --input_c 25 --output_c 25"
      ],
      "metadata": {
        "colab": {
          "base_uri": "https://localhost:8080/"
        },
        "outputId": "7d8a8bc9-f0bf-4484-ba57-f49c738ddabf",
        "id": "ruyTE4OU8O5E"
      },
      "execution_count": null,
      "outputs": [
        {
          "output_type": "stream",
          "name": "stdout",
          "text": [
            "------------ Options -------------\n",
            "anormly_ratio: 1.0\n",
            "batch_size: 256\n",
            "data_path: ./dataset/SWaT_RP_25\n",
            "dataset: SWaT\n",
            "input_c: 25\n",
            "k: 3\n",
            "lr: 0.0001\n",
            "mode: train\n",
            "model_save_path: checkpoints\n",
            "num_epochs: 3\n",
            "output_c: 25\n",
            "pretrained_model: None\n",
            "win_size: 100\n",
            "-------------- End ----------------\n",
            "test: (449919, 25)\n",
            "train: (495000, 25)\n",
            "test: (449919, 25)\n",
            "train: (495000, 25)\n",
            "test: (449919, 25)\n",
            "train: (495000, 25)\n",
            "test: (449919, 25)\n",
            "train: (495000, 25)\n",
            "======================TRAIN MODE======================\n",
            "\tspeed: 0.6531s/iter; left time: 3724.4781s\n",
            "\tspeed: 0.6709s/iter; left time: 3759.2968s\n",
            "\tspeed: 0.6913s/iter; left time: 3804.4176s\n",
            "\tspeed: 0.7026s/iter; left time: 3796.3323s\n",
            "\tspeed: 0.7118s/iter; left time: 3774.4434s\n",
            "\tspeed: 0.7150s/iter; left time: 3720.3517s\n",
            "\tspeed: 0.7133s/iter; left time: 3639.8472s\n",
            "\tspeed: 0.7133s/iter; left time: 3568.7718s\n",
            "\tspeed: 0.7115s/iter; left time: 3488.6500s\n",
            "\tspeed: 0.7127s/iter; left time: 3423.0763s\n",
            "\tspeed: 0.7128s/iter; left time: 3352.5317s\n",
            "\tspeed: 0.7109s/iter; left time: 3272.4471s\n",
            "\tspeed: 0.7120s/iter; left time: 3206.2839s\n",
            "\tspeed: 0.7100s/iter; left time: 3125.9676s\n",
            "\tspeed: 0.7093s/iter; left time: 3052.2227s\n",
            "\tspeed: 0.7100s/iter; left time: 2984.0558s\n",
            "\tspeed: 0.7105s/iter; left time: 2915.3252s\n",
            "\tspeed: 0.7105s/iter; left time: 2844.2221s\n",
            "\tspeed: 0.7097s/iter; left time: 2769.8112s\n",
            "Epoch: 1 cost time: 1363.656491279602\n",
            "Epoch: 1, Steps: 1934 | Train Loss: -47.6024770 Vali Loss: -47.8709271 \n",
            "Validation loss decreased (inf --> -47.870927).  Saving model ...\n",
            "Updating learning rate to 0.0001\n",
            "\tspeed: 4.6129s/iter; left time: 17385.9998s\n",
            "\tspeed: 0.7095s/iter; left time: 2603.0404s\n",
            "\tspeed: 0.7093s/iter; left time: 2531.4806s\n",
            "\tspeed: 0.7095s/iter; left time: 2461.3311s\n",
            "\tspeed: 0.7094s/iter; left time: 2389.8745s\n",
            "\tspeed: 0.7093s/iter; left time: 2318.7308s\n",
            "\tspeed: 0.7096s/iter; left time: 2248.5835s\n",
            "\tspeed: 0.7094s/iter; left time: 2177.0940s\n",
            "\tspeed: 0.7084s/iter; left time: 2103.1115s\n",
            "\tspeed: 0.7092s/iter; left time: 2034.8159s\n",
            "\tspeed: 0.7093s/iter; left time: 1964.1836s\n",
            "\tspeed: 0.7087s/iter; left time: 1891.5056s\n",
            "\tspeed: 0.7094s/iter; left time: 1822.5093s\n",
            "\tspeed: 0.7091s/iter; left time: 1750.8349s\n",
            "\tspeed: 0.7088s/iter; left time: 1679.2304s\n",
            "\tspeed: 0.7092s/iter; left time: 1609.2748s\n",
            "\tspeed: 0.7092s/iter; left time: 1538.2799s\n",
            "\tspeed: 0.7079s/iter; left time: 1464.6372s\n",
            "\tspeed: 0.7084s/iter; left time: 1394.8130s\n",
            "Epoch: 2 cost time: 1370.7569379806519\n",
            "Epoch: 2, Steps: 1934 | Train Loss: -48.7262284 Vali Loss: -48.2120157 \n",
            "EarlyStopping counter: 1 out of 3\n",
            "Updating learning rate to 5e-05\n",
            "\tspeed: 4.6023s/iter; left time: 8445.2387s\n",
            "\tspeed: 0.7087s/iter; left time: 1229.6123s\n",
            "\tspeed: 0.7084s/iter; left time: 1158.3093s\n",
            "\tspeed: 0.7090s/iter; left time: 1088.3372s\n",
            "\tspeed: 0.7082s/iter; left time: 1016.3286s\n",
            "\tspeed: 0.7064s/iter; left time: 943.0427s\n",
            "\tspeed: 0.7085s/iter; left time: 874.9850s\n",
            "\tspeed: 0.7087s/iter; left time: 804.3209s\n",
            "\tspeed: 0.7067s/iter; left time: 731.4266s\n",
            "\tspeed: 0.7066s/iter; left time: 660.6982s\n",
            "\tspeed: 0.7047s/iter; left time: 588.4220s\n",
            "\tspeed: 0.7065s/iter; left time: 519.2552s\n",
            "\tspeed: 0.7066s/iter; left time: 448.6646s\n",
            "\tspeed: 0.7060s/iter; left time: 377.7359s\n",
            "\tspeed: 0.7050s/iter; left time: 306.6882s\n",
            "\tspeed: 0.7054s/iter; left time: 236.3065s\n",
            "\tspeed: 0.7070s/iter; left time: 166.1346s\n",
            "\tspeed: 0.7070s/iter; left time: 95.4466s\n",
            "\tspeed: 0.7048s/iter; left time: 24.6672s\n",
            "Epoch: 3 cost time: 1366.610514640808\n",
            "Epoch: 3, Steps: 1934 | Train Loss: -48.8550578 Vali Loss: -48.3458567 \n",
            "EarlyStopping counter: 2 out of 3\n",
            "Updating learning rate to 2.5e-05\n"
          ]
        }
      ]
    },
    {
      "cell_type": "code",
      "source": [
        "!python main.py --anormly_ratio 0.1  --num_epochs 10 --batch_size 256 --mode test --dataset SWaT --data_path ./dataset/SWaT_RP_25 --input_c 25 --output_c 25 --pretrained_model 10"
      ],
      "metadata": {
        "colab": {
          "base_uri": "https://localhost:8080/"
        },
        "outputId": "6a5e59a6-6086-4f9c-8d57-1fdc0434fbe1",
        "id": "L0jhrqZW8O5E"
      },
      "execution_count": null,
      "outputs": [
        {
          "output_type": "stream",
          "name": "stdout",
          "text": [
            "------------ Options -------------\n",
            "anormly_ratio: 1.0\n",
            "batch_size: 256\n",
            "data_path: ./dataset/SWaT_RP_25\n",
            "dataset: SWaT\n",
            "input_c: 25\n",
            "k: 3\n",
            "lr: 0.0001\n",
            "mode: test\n",
            "model_save_path: checkpoints\n",
            "num_epochs: 10\n",
            "output_c: 25\n",
            "pretrained_model: 20\n",
            "win_size: 100\n",
            "-------------- End ----------------\n",
            "test: (449919, 25)\n",
            "train: (495000, 25)\n",
            "test: (449919, 25)\n",
            "train: (495000, 25)\n",
            "test: (449919, 25)\n",
            "train: (495000, 25)\n",
            "test: (449919, 25)\n",
            "train: (495000, 25)\n",
            "======================TEST MODE======================\n",
            "/usr/local/lib/python3.10/dist-packages/torch/nn/_reduction.py:42: UserWarning: size_average and reduce args will be deprecated, please use reduction='none' instead.\n",
            "  warnings.warn(warning.format(ret))\n",
            "Threshold : 0.0003698479800368609\n",
            "pred:    (449900,)\n",
            "gt:      (449900,)\n",
            "pred:  (449900,)\n",
            "gt:    (449900,)\n",
            "Accuracy : 0.9848, Precision : 0.8889, Recall : 1.0000, F-score : 0.9412 \n"
          ]
        }
      ]
    },
    {
      "cell_type": "markdown",
      "source": [
        "##### t-SNE 3"
      ],
      "metadata": {
        "id": "GPXzmfKs8O5E"
      }
    },
    {
      "cell_type": "code",
      "source": [
        "!export CUDA_VISIBLE_DEVICES=0\n",
        "\n",
        "!python3 main.py --anormly_ratio 0.5 --num_epochs 3   --batch_size 256  --mode train --dataset SWaT  --data_path ./dataset/SWaT_TSNE_3 --input_c 3 --output_c 3"
      ],
      "metadata": {
        "colab": {
          "base_uri": "https://localhost:8080/"
        },
        "outputId": "2c6b467b-b1c6-4def-d75b-f7f9bb193ed2",
        "id": "YU_6uju48O5E"
      },
      "execution_count": null,
      "outputs": [
        {
          "output_type": "stream",
          "name": "stdout",
          "text": [
            "------------ Options -------------\n",
            "anormly_ratio: 0.5\n",
            "batch_size: 256\n",
            "data_path: ./dataset/SWaT_TSNE_3\n",
            "dataset: SWaT\n",
            "input_c: 3\n",
            "k: 3\n",
            "lr: 0.0001\n",
            "mode: train\n",
            "model_save_path: checkpoints\n",
            "num_epochs: 3\n",
            "output_c: 3\n",
            "pretrained_model: None\n",
            "win_size: 100\n",
            "-------------- End ----------------\n",
            "test: (449919, 3)\n",
            "train: (495000, 3)\n",
            "test: (449919, 3)\n",
            "train: (495000, 3)\n",
            "test: (449919, 3)\n",
            "train: (495000, 3)\n",
            "test: (449919, 3)\n",
            "train: (495000, 3)\n",
            "======================TRAIN MODE======================\n",
            "\tspeed: 0.7068s/iter; left time: 4030.8786s\n",
            "\tspeed: 0.6937s/iter; left time: 3886.6086s\n",
            "\tspeed: 0.6921s/iter; left time: 3808.4930s\n",
            "\tspeed: 0.6916s/iter; left time: 3736.9246s\n",
            "\tspeed: 0.6919s/iter; left time: 3669.1418s\n",
            "\tspeed: 0.6914s/iter; left time: 3597.3743s\n",
            "\tspeed: 0.6906s/iter; left time: 3524.2313s\n",
            "\tspeed: 0.6908s/iter; left time: 3456.0989s\n",
            "\tspeed: 0.6901s/iter; left time: 3383.4686s\n",
            "\tspeed: 0.6920s/iter; left time: 3323.4448s\n",
            "\tspeed: 0.6900s/iter; left time: 3245.1353s\n",
            "\tspeed: 0.6910s/iter; left time: 3180.6781s\n",
            "\tspeed: 0.6922s/iter; left time: 3116.9464s\n",
            "\tspeed: 0.6907s/iter; left time: 3041.3514s\n",
            "\tspeed: 0.6916s/iter; left time: 2976.1215s\n",
            "\tspeed: 0.6894s/iter; left time: 2897.3505s\n",
            "\tspeed: 0.6925s/iter; left time: 2841.3663s\n",
            "\tspeed: 0.6915s/iter; left time: 2768.1927s\n",
            "\tspeed: 0.6902s/iter; left time: 2693.8246s\n",
            "Epoch: 1 cost time: 1338.6090333461761\n",
            "Epoch: 1, Steps: 1934 | Train Loss: -47.7962978 Vali Loss: -48.9917474 \n",
            "Validation loss decreased (inf --> -48.991747).  Saving model ...\n",
            "Updating learning rate to 0.0001\n",
            "\tspeed: 4.4858s/iter; left time: 16906.8889s\n",
            "\tspeed: 0.6894s/iter; left time: 2529.2354s\n",
            "\tspeed: 0.6889s/iter; left time: 2458.7417s\n",
            "\tspeed: 0.6895s/iter; left time: 2391.8305s\n",
            "\tspeed: 0.6889s/iter; left time: 2320.8461s\n",
            "\tspeed: 0.6903s/iter; left time: 2256.5727s\n",
            "\tspeed: 0.6891s/iter; left time: 2183.6178s\n",
            "\tspeed: 0.6894s/iter; left time: 2115.6850s\n",
            "\tspeed: 0.6890s/iter; left time: 2045.5023s\n",
            "\tspeed: 0.6889s/iter; left time: 1976.5084s\n",
            "\tspeed: 0.6890s/iter; left time: 1907.8761s\n",
            "\tspeed: 0.6890s/iter; left time: 1838.9347s\n",
            "\tspeed: 0.6890s/iter; left time: 1770.0978s\n",
            "\tspeed: 0.6891s/iter; left time: 1701.4010s\n",
            "\tspeed: 0.6889s/iter; left time: 1632.1131s\n",
            "\tspeed: 0.6890s/iter; left time: 1563.4099s\n",
            "\tspeed: 0.6890s/iter; left time: 1494.5179s\n",
            "\tspeed: 0.6891s/iter; left time: 1425.6914s\n",
            "\tspeed: 0.6892s/iter; left time: 1356.9399s\n",
            "Epoch: 2 cost time: 1332.2168338298798\n",
            "Epoch: 2, Steps: 1934 | Train Loss: -49.0049157 Vali Loss: -49.0078804 \n",
            "EarlyStopping counter: 1 out of 3\n",
            "Updating learning rate to 5e-05\n",
            "\tspeed: 4.4805s/iter; left time: 8221.6477s\n",
            "\tspeed: 0.6892s/iter; left time: 1195.7242s\n",
            "\tspeed: 0.6892s/iter; left time: 1126.8758s\n",
            "\tspeed: 0.6895s/iter; left time: 1058.3297s\n",
            "\tspeed: 0.6891s/iter; left time: 988.8324s\n",
            "\tspeed: 0.6891s/iter; left time: 919.9015s\n",
            "\tspeed: 0.6893s/iter; left time: 851.2524s\n",
            "\tspeed: 0.6891s/iter; left time: 782.1743s\n",
            "\tspeed: 0.6892s/iter; left time: 713.3548s\n",
            "\tspeed: 0.6892s/iter; left time: 644.3680s\n",
            "\tspeed: 0.6891s/iter; left time: 575.4186s\n",
            "\tspeed: 0.6891s/iter; left time: 506.5089s\n",
            "\tspeed: 0.6892s/iter; left time: 437.6350s\n",
            "\tspeed: 0.6893s/iter; left time: 368.7493s\n",
            "\tspeed: 0.6888s/iter; left time: 299.6246s\n",
            "\tspeed: 0.6890s/iter; left time: 230.8137s\n",
            "\tspeed: 0.6885s/iter; left time: 161.7917s\n",
            "\tspeed: 0.6892s/iter; left time: 93.0463s\n",
            "\tspeed: 0.6890s/iter; left time: 24.1137s\n",
            "Epoch: 3 cost time: 1332.1205151081085\n",
            "Epoch: 3, Steps: 1934 | Train Loss: -49.0107241 Vali Loss: -49.0105692 \n",
            "EarlyStopping counter: 2 out of 3\n",
            "Updating learning rate to 2.5e-05\n"
          ]
        }
      ]
    },
    {
      "cell_type": "code",
      "source": [
        "!python main.py --anormly_ratio 0.1  --num_epochs 10 --batch_size 256 --mode test --dataset SWaT --data_path ./dataset/SWaT_TSNE_3  --input_c 3 --output_c 3 --pretrained_model 10"
      ],
      "metadata": {
        "colab": {
          "base_uri": "https://localhost:8080/"
        },
        "outputId": "5d4b1456-1f16-4ad8-909c-de4c162824fe",
        "id": "hlKuQv_08O5E"
      },
      "execution_count": null,
      "outputs": [
        {
          "output_type": "stream",
          "name": "stdout",
          "text": [
            "------------ Options -------------\n",
            "anormly_ratio: 0.1\n",
            "batch_size: 256\n",
            "data_path: ./dataset/SWaT_TSNE_3\n",
            "dataset: SWaT\n",
            "input_c: 3\n",
            "k: 3\n",
            "lr: 0.0001\n",
            "mode: test\n",
            "model_save_path: checkpoints\n",
            "num_epochs: 10\n",
            "output_c: 3\n",
            "pretrained_model: 10\n",
            "win_size: 100\n",
            "-------------- End ----------------\n",
            "test: (449919, 3)\n",
            "train: (495000, 3)\n",
            "test: (449919, 3)\n",
            "train: (495000, 3)\n",
            "test: (449919, 3)\n",
            "train: (495000, 3)\n",
            "test: (449919, 3)\n",
            "train: (495000, 3)\n",
            "======================TEST MODE======================\n",
            "/usr/local/lib/python3.10/dist-packages/torch/nn/_reduction.py:42: UserWarning: size_average and reduce args will be deprecated, please use reduction='none' instead.\n",
            "  warnings.warn(warning.format(ret))\n",
            "Threshold : 0.0005538858298678069\n",
            "pred:    (449900,)\n",
            "gt:      (449900,)\n",
            "pred:  (449900,)\n",
            "gt:    (449900,)\n",
            "Accuracy : 0.9871, Precision : 0.9843, Recall : 0.9082, F-score : 0.9447 \n"
          ]
        }
      ]
    },
    {
      "cell_type": "markdown",
      "source": [
        "##### PCA 3"
      ],
      "metadata": {
        "id": "KAE_sjGM8O5E"
      }
    },
    {
      "cell_type": "code",
      "source": [
        "!export CUDA_VISIBLE_DEVICES=0\n",
        "\n",
        "!python3 main.py --anormly_ratio 0.5 --num_epochs 3   --batch_size 256  --mode train --dataset SWaT  --data_path ./dataset/SWaT_PCA_3 --input_c 3 --output_c 3"
      ],
      "metadata": {
        "colab": {
          "base_uri": "https://localhost:8080/"
        },
        "outputId": "d5f70c86-6b11-412e-f15e-ada262614a2c",
        "id": "v647U_Ho8O5E"
      },
      "execution_count": null,
      "outputs": [
        {
          "output_type": "stream",
          "name": "stdout",
          "text": [
            "------------ Options -------------\n",
            "anormly_ratio: 0.5\n",
            "batch_size: 256\n",
            "data_path: ./dataset/SWaT_PCA_3\n",
            "dataset: SWaT\n",
            "input_c: 3\n",
            "k: 3\n",
            "lr: 0.0001\n",
            "mode: train\n",
            "model_save_path: checkpoints\n",
            "num_epochs: 3\n",
            "output_c: 3\n",
            "pretrained_model: None\n",
            "win_size: 100\n",
            "-------------- End ----------------\n",
            "test: (449919, 3)\n",
            "train: (495000, 3)\n",
            "test: (449919, 3)\n",
            "train: (495000, 3)\n",
            "test: (449919, 3)\n",
            "train: (495000, 3)\n",
            "test: (449919, 3)\n",
            "train: (495000, 3)\n",
            "======================TRAIN MODE======================\n",
            "\tspeed: 0.6581s/iter; left time: 3753.1376s\n",
            "\tspeed: 0.7008s/iter; left time: 3926.4592s\n",
            "\tspeed: 0.6956s/iter; left time: 3827.8455s\n",
            "\tspeed: 0.6946s/iter; left time: 3752.8064s\n",
            "\tspeed: 0.6958s/iter; left time: 3690.0272s\n",
            "\tspeed: 0.6938s/iter; left time: 3609.7396s\n",
            "\tspeed: 0.6945s/iter; left time: 3543.8993s\n",
            "\tspeed: 0.6947s/iter; left time: 3475.6587s\n",
            "\tspeed: 0.6934s/iter; left time: 3399.8984s\n",
            "\tspeed: 0.6936s/iter; left time: 3331.4581s\n",
            "\tspeed: 0.6947s/iter; left time: 3267.2798s\n",
            "\tspeed: 0.6932s/iter; left time: 3190.6603s\n",
            "\tspeed: 0.6935s/iter; left time: 3122.6084s\n",
            "\tspeed: 0.6936s/iter; left time: 3053.8917s\n",
            "\tspeed: 0.6928s/iter; left time: 2981.1779s\n",
            "\tspeed: 0.6911s/iter; left time: 2904.6254s\n",
            "\tspeed: 0.6921s/iter; left time: 2839.5261s\n",
            "\tspeed: 0.6915s/iter; left time: 2767.8923s\n",
            "\tspeed: 0.6922s/iter; left time: 2701.8150s\n",
            "Epoch: 1 cost time: 1338.665144443512\n",
            "Epoch: 1, Steps: 1934 | Train Loss: -47.5752038 Vali Loss: -48.4751538 \n",
            "Validation loss decreased (inf --> -48.475154).  Saving model ...\n",
            "Updating learning rate to 0.0001\n",
            "\tspeed: 4.4915s/iter; left time: 16928.5867s\n",
            "\tspeed: 0.6915s/iter; left time: 2537.1985s\n",
            "\tspeed: 0.6922s/iter; left time: 2470.4935s\n",
            "\tspeed: 0.6918s/iter; left time: 2399.7100s\n",
            "\tspeed: 0.6908s/iter; left time: 2327.3194s\n",
            "\tspeed: 0.6918s/iter; left time: 2261.3549s\n",
            "\tspeed: 0.6908s/iter; left time: 2189.2879s\n",
            "\tspeed: 0.6917s/iter; left time: 2122.9217s\n",
            "\tspeed: 0.6913s/iter; left time: 2052.4737s\n",
            "\tspeed: 0.6895s/iter; left time: 1978.1648s\n",
            "\tspeed: 0.6894s/iter; left time: 1908.9550s\n",
            "\tspeed: 0.6894s/iter; left time: 1840.0944s\n",
            "\tspeed: 0.6890s/iter; left time: 1770.1605s\n",
            "\tspeed: 0.6890s/iter; left time: 1701.0697s\n",
            "\tspeed: 0.6891s/iter; left time: 1632.3668s\n",
            "\tspeed: 0.6890s/iter; left time: 1563.2390s\n",
            "\tspeed: 0.6890s/iter; left time: 1494.5028s\n",
            "\tspeed: 0.6890s/iter; left time: 1425.5335s\n",
            "\tspeed: 0.6891s/iter; left time: 1356.8183s\n",
            "Epoch: 2 cost time: 1334.4698135852814\n",
            "Epoch: 2, Steps: 1934 | Train Loss: -48.8129907 Vali Loss: -48.7401065 \n",
            "EarlyStopping counter: 1 out of 3\n",
            "Updating learning rate to 5e-05\n",
            "\tspeed: 4.4822s/iter; left time: 8224.8302s\n",
            "\tspeed: 0.6890s/iter; left time: 1195.3961s\n",
            "\tspeed: 0.6891s/iter; left time: 1126.6492s\n",
            "\tspeed: 0.6890s/iter; left time: 1057.6445s\n",
            "\tspeed: 0.6892s/iter; left time: 988.9402s\n",
            "\tspeed: 0.6890s/iter; left time: 919.7602s\n",
            "\tspeed: 0.6891s/iter; left time: 851.0101s\n",
            "\tspeed: 0.6890s/iter; left time: 782.0253s\n",
            "\tspeed: 0.6890s/iter; left time: 713.1523s\n",
            "\tspeed: 0.6891s/iter; left time: 644.3354s\n",
            "\tspeed: 0.6891s/iter; left time: 575.4275s\n",
            "\tspeed: 0.6890s/iter; left time: 506.3871s\n",
            "\tspeed: 0.6892s/iter; left time: 437.6203s\n",
            "\tspeed: 0.6892s/iter; left time: 368.7157s\n",
            "\tspeed: 0.6893s/iter; left time: 299.8246s\n",
            "\tspeed: 0.6892s/iter; left time: 230.8662s\n",
            "\tspeed: 0.6892s/iter; left time: 161.9673s\n",
            "\tspeed: 0.6891s/iter; left time: 93.0299s\n",
            "\tspeed: 0.6889s/iter; left time: 24.1098s\n",
            "Epoch: 3 cost time: 1332.0908687114716\n",
            "Epoch: 3, Steps: 1934 | Train Loss: -49.0034527 Vali Loss: -48.7935099 \n",
            "EarlyStopping counter: 2 out of 3\n",
            "Updating learning rate to 2.5e-05\n"
          ]
        }
      ]
    },
    {
      "cell_type": "code",
      "source": [
        "!python main.py --anormly_ratio 0.1  --num_epochs 10 --batch_size 256 --mode test --dataset SWaT --data_path ./dataset/SWaT_PCA_3  --input_c 3 --output_c 3 --pretrained_model 10"
      ],
      "metadata": {
        "colab": {
          "base_uri": "https://localhost:8080/"
        },
        "outputId": "5657f5d5-98f6-4f87-99ad-b5b97c99f109",
        "id": "DmQ8CZVN8O5E"
      },
      "execution_count": null,
      "outputs": [
        {
          "output_type": "stream",
          "name": "stdout",
          "text": [
            "------------ Options -------------\n",
            "anormly_ratio: 0.1\n",
            "batch_size: 256\n",
            "data_path: ./dataset/SWaT_PCA_3\n",
            "dataset: SWaT\n",
            "input_c: 3\n",
            "k: 3\n",
            "lr: 0.0001\n",
            "mode: test\n",
            "model_save_path: checkpoints\n",
            "num_epochs: 10\n",
            "output_c: 3\n",
            "pretrained_model: 10\n",
            "win_size: 100\n",
            "-------------- End ----------------\n",
            "test: (449919, 3)\n",
            "train: (495000, 3)\n",
            "test: (449919, 3)\n",
            "train: (495000, 3)\n",
            "test: (449919, 3)\n",
            "train: (495000, 3)\n",
            "test: (449919, 3)\n",
            "train: (495000, 3)\n",
            "======================TEST MODE======================\n",
            "/usr/local/lib/python3.10/dist-packages/torch/nn/_reduction.py:42: UserWarning: size_average and reduce args will be deprecated, please use reduction='none' instead.\n",
            "  warnings.warn(warning.format(ret))\n",
            "Threshold : 0.0007177345118252586\n",
            "pred:    (449900,)\n",
            "gt:      (449900,)\n",
            "pred:  (449900,)\n",
            "gt:    (449900,)\n",
            "Accuracy : 0.9904, Precision : 0.9706, Recall : 0.9495, F-score : 0.9600 \n"
          ]
        }
      ]
    },
    {
      "cell_type": "markdown",
      "source": [
        "##### UMAP 3"
      ],
      "metadata": {
        "id": "nC4IPRMo8O5E"
      }
    },
    {
      "cell_type": "code",
      "source": [
        "!export CUDA_VISIBLE_DEVICES=0\n",
        "\n",
        "!python3 main.py --anormly_ratio 0.5 --num_epochs 3   --batch_size 256  --mode train --dataset SWaT  --data_path ./dataset/SWaT_UMAP_3 --input_c 3 --output_c 3"
      ],
      "metadata": {
        "colab": {
          "base_uri": "https://localhost:8080/"
        },
        "outputId": "cff5e4a8-97fc-4909-cca5-332f00edacec",
        "id": "ggyXP1ym8O5E"
      },
      "execution_count": null,
      "outputs": [
        {
          "output_type": "stream",
          "name": "stdout",
          "text": [
            "------------ Options -------------\n",
            "anormly_ratio: 0.5\n",
            "batch_size: 256\n",
            "data_path: ./dataset/SWaT_UMAP_3\n",
            "dataset: SWaT\n",
            "input_c: 3\n",
            "k: 3\n",
            "lr: 0.0001\n",
            "mode: train\n",
            "model_save_path: checkpoints\n",
            "num_epochs: 3\n",
            "output_c: 3\n",
            "pretrained_model: None\n",
            "win_size: 100\n",
            "-------------- End ----------------\n",
            "test: (449919, 3)\n",
            "train: (495000, 3)\n",
            "test: (449919, 3)\n",
            "train: (495000, 3)\n",
            "test: (449919, 3)\n",
            "train: (495000, 3)\n",
            "test: (449919, 3)\n",
            "train: (495000, 3)\n",
            "======================TRAIN MODE======================\n",
            "\tspeed: 0.6904s/iter; left time: 3937.1571s\n",
            "\tspeed: 0.6993s/iter; left time: 3918.0916s\n",
            "\tspeed: 0.7016s/iter; left time: 3860.9747s\n",
            "\tspeed: 0.7007s/iter; left time: 3786.0668s\n",
            "\tspeed: 0.6999s/iter; left time: 3711.5440s\n",
            "\tspeed: 0.6990s/iter; left time: 3636.8340s\n",
            "\tspeed: 0.6981s/iter; left time: 3562.3963s\n",
            "\tspeed: 0.6967s/iter; left time: 3485.6149s\n",
            "\tspeed: 0.6964s/iter; left time: 3414.4282s\n",
            "\tspeed: 0.6963s/iter; left time: 3344.3271s\n",
            "\tspeed: 0.6973s/iter; left time: 3279.5426s\n",
            "\tspeed: 0.6959s/iter; left time: 3203.0099s\n",
            "\tspeed: 0.6958s/iter; left time: 3133.0581s\n",
            "\tspeed: 0.6954s/iter; left time: 3061.8805s\n",
            "\tspeed: 0.6934s/iter; left time: 2983.8226s\n",
            "\tspeed: 0.6922s/iter; left time: 2909.3276s\n",
            "\tspeed: 0.6901s/iter; left time: 2831.3201s\n",
            "\tspeed: 0.6892s/iter; left time: 2758.6788s\n",
            "\tspeed: 0.6888s/iter; left time: 2688.4513s\n",
            "Epoch: 1 cost time: 1345.221304178238\n",
            "Epoch: 1, Steps: 1934 | Train Loss: -47.6147376 Vali Loss: -48.9433338 \n",
            "Validation loss decreased (inf --> -48.943334).  Saving model ...\n",
            "Updating learning rate to 0.0001\n",
            "\tspeed: 4.5789s/iter; left time: 17257.7483s\n",
            "\tspeed: 0.6873s/iter; left time: 2521.8126s\n",
            "\tspeed: 0.6874s/iter; left time: 2453.1574s\n",
            "\tspeed: 0.6856s/iter; left time: 2378.2733s\n",
            "\tspeed: 0.6854s/iter; left time: 2308.9800s\n",
            "\tspeed: 0.6864s/iter; left time: 2243.7653s\n",
            "\tspeed: 0.6845s/iter; left time: 2169.1101s\n",
            "\tspeed: 0.6838s/iter; left time: 2098.5229s\n",
            "\tspeed: 0.6849s/iter; left time: 2033.4561s\n",
            "\tspeed: 0.6836s/iter; left time: 1961.1361s\n",
            "\tspeed: 0.6838s/iter; left time: 1893.3486s\n",
            "\tspeed: 0.6817s/iter; left time: 1819.3925s\n",
            "\tspeed: 0.6841s/iter; left time: 1757.4060s\n",
            "\tspeed: 0.6813s/iter; left time: 1682.1475s\n",
            "\tspeed: 0.6819s/iter; left time: 1615.3643s\n",
            "\tspeed: 0.6814s/iter; left time: 1546.1998s\n",
            "\tspeed: 0.6811s/iter; left time: 1477.2638s\n",
            "\tspeed: 0.6804s/iter; left time: 1407.6783s\n",
            "\tspeed: 0.6804s/iter; left time: 1339.6576s\n",
            "Epoch: 2 cost time: 1321.796490430832\n",
            "Epoch: 2, Steps: 1934 | Train Loss: -48.9836494 Vali Loss: -48.9829577 \n",
            "EarlyStopping counter: 1 out of 3\n",
            "Updating learning rate to 5e-05\n",
            "\tspeed: 4.5549s/iter; left time: 8358.2251s\n",
            "\tspeed: 0.6811s/iter; left time: 1181.6573s\n",
            "\tspeed: 0.6798s/iter; left time: 1111.5398s\n",
            "\tspeed: 0.6796s/iter; left time: 1043.1338s\n",
            "\tspeed: 0.6798s/iter; left time: 975.4505s\n",
            "\tspeed: 0.6799s/iter; left time: 907.6514s\n",
            "\tspeed: 0.6793s/iter; left time: 838.9582s\n",
            "\tspeed: 0.6806s/iter; left time: 772.5359s\n",
            "\tspeed: 0.6794s/iter; left time: 703.2120s\n",
            "\tspeed: 0.6793s/iter; left time: 635.1294s\n",
            "\tspeed: 0.6794s/iter; left time: 567.2835s\n",
            "\tspeed: 0.6790s/iter; left time: 499.0566s\n",
            "\tspeed: 0.6793s/iter; left time: 431.3279s\n",
            "\tspeed: 0.6791s/iter; left time: 363.2941s\n",
            "\tspeed: 0.6791s/iter; left time: 295.4134s\n",
            "\tspeed: 0.6792s/iter; left time: 227.5395s\n",
            "\tspeed: 0.6791s/iter; left time: 159.5937s\n",
            "\tspeed: 0.6788s/iter; left time: 91.6320s\n",
            "\tspeed: 0.6786s/iter; left time: 23.7521s\n",
            "Epoch: 3 cost time: 1313.6143548488617\n",
            "Epoch: 3, Steps: 1934 | Train Loss: -49.0001187 Vali Loss: -49.0009986 \n",
            "EarlyStopping counter: 2 out of 3\n",
            "Updating learning rate to 2.5e-05\n"
          ]
        }
      ]
    },
    {
      "cell_type": "code",
      "source": [
        "!python main.py --anormly_ratio 0.1  --num_epochs 10 --batch_size 256 --mode test --dataset SWaT --data_path ./dataset/SWaT_UMAP_3  --input_c 3 --output_c 3 --pretrained_model 10"
      ],
      "metadata": {
        "colab": {
          "base_uri": "https://localhost:8080/"
        },
        "outputId": "6d343a57-d516-45ee-dc76-011200b4329a",
        "id": "o33JvL4v8O5E"
      },
      "execution_count": null,
      "outputs": [
        {
          "output_type": "stream",
          "name": "stdout",
          "text": [
            "------------ Options -------------\n",
            "anormly_ratio: 0.1\n",
            "batch_size: 256\n",
            "data_path: ./dataset/SWaT_UMAP_3\n",
            "dataset: SWaT\n",
            "input_c: 3\n",
            "k: 3\n",
            "lr: 0.0001\n",
            "mode: test\n",
            "model_save_path: checkpoints\n",
            "num_epochs: 10\n",
            "output_c: 3\n",
            "pretrained_model: 10\n",
            "win_size: 100\n",
            "-------------- End ----------------\n",
            "test: (449919, 3)\n",
            "train: (495000, 3)\n",
            "test: (449919, 3)\n",
            "train: (495000, 3)\n",
            "test: (449919, 3)\n",
            "train: (495000, 3)\n",
            "test: (449919, 3)\n",
            "train: (495000, 3)\n",
            "======================TEST MODE======================\n",
            "/usr/local/lib/python3.10/dist-packages/torch/nn/_reduction.py:42: UserWarning: size_average and reduce args will be deprecated, please use reduction='none' instead.\n",
            "  warnings.warn(warning.format(ret))\n",
            "Threshold : 0.002303787526208946\n",
            "pred:    (449900,)\n",
            "gt:      (449900,)\n",
            "pred:  (449900,)\n",
            "gt:    (449900,)\n",
            "Accuracy : 0.9884, Precision : 0.9807, Recall : 0.9229, F-score : 0.9509 \n"
          ]
        }
      ]
    },
    {
      "cell_type": "markdown",
      "source": [
        "##### RP 3"
      ],
      "metadata": {
        "id": "Sxrszrr18O5E"
      }
    },
    {
      "cell_type": "code",
      "source": [
        "!export CUDA_VISIBLE_DEVICES=0\n",
        "\n",
        "!python3 main.py --anormly_ratio 0.5 --num_epochs 3   --batch_size 256  --mode train --dataset SWaT  --data_path ./dataset/SWaT_RP_3 --input_c 3 --output_c 3"
      ],
      "metadata": {
        "colab": {
          "base_uri": "https://localhost:8080/"
        },
        "outputId": "f7c5c439-3238-4169-e2f8-c8caa2cf412f",
        "id": "idcmDGIk8O5E"
      },
      "execution_count": null,
      "outputs": [
        {
          "output_type": "stream",
          "name": "stdout",
          "text": [
            "------------ Options -------------\n",
            "anormly_ratio: 0.5\n",
            "batch_size: 256\n",
            "data_path: ./dataset/SWaT_RP_3\n",
            "dataset: SWaT\n",
            "input_c: 3\n",
            "k: 3\n",
            "lr: 0.0001\n",
            "mode: train\n",
            "model_save_path: checkpoints\n",
            "num_epochs: 3\n",
            "output_c: 3\n",
            "pretrained_model: None\n",
            "win_size: 100\n",
            "-------------- End ----------------\n",
            "test: (449919, 3)\n",
            "train: (495000, 3)\n",
            "test: (449919, 3)\n",
            "train: (495000, 3)\n",
            "test: (449919, 3)\n",
            "train: (495000, 3)\n",
            "test: (449919, 3)\n",
            "train: (495000, 3)\n",
            "======================TRAIN MODE======================\n",
            "\tspeed: 0.6614s/iter; left time: 3772.0552s\n",
            "\tspeed: 0.7011s/iter; left time: 3928.2642s\n",
            "\tspeed: 0.6959s/iter; left time: 3829.3049s\n",
            "\tspeed: 0.6925s/iter; left time: 3741.7955s\n",
            "\tspeed: 0.6951s/iter; left time: 3685.9387s\n",
            "\tspeed: 0.6936s/iter; left time: 3608.7799s\n",
            "\tspeed: 0.6937s/iter; left time: 3540.1340s\n",
            "\tspeed: 0.6946s/iter; left time: 3474.8347s\n",
            "\tspeed: 0.6932s/iter; left time: 3398.8673s\n",
            "\tspeed: 0.6940s/iter; left time: 3333.4889s\n",
            "\tspeed: 0.6928s/iter; left time: 3258.0791s\n",
            "\tspeed: 0.6925s/iter; left time: 3187.7375s\n",
            "\tspeed: 0.6932s/iter; left time: 3121.3397s\n",
            "\tspeed: 0.6903s/iter; left time: 3039.2314s\n",
            "\tspeed: 0.6893s/iter; left time: 2966.1799s\n",
            "\tspeed: 0.6897s/iter; left time: 2898.9819s\n",
            "\tspeed: 0.6921s/iter; left time: 2839.6228s\n",
            "\tspeed: 0.6914s/iter; left time: 2767.5745s\n",
            "\tspeed: 0.6893s/iter; left time: 2690.1776s\n",
            "Epoch: 1 cost time: 1337.14364695549\n",
            "Epoch: 1, Steps: 1934 | Train Loss: -47.5795794 Vali Loss: -48.5148897 \n",
            "Validation loss decreased (inf --> -48.514890).  Saving model ...\n",
            "Updating learning rate to 0.0001\n",
            "\tspeed: 4.4887s/iter; left time: 16917.8680s\n",
            "\tspeed: 0.6898s/iter; left time: 2530.7208s\n",
            "\tspeed: 0.6890s/iter; left time: 2458.9221s\n",
            "\tspeed: 0.6893s/iter; left time: 2391.2780s\n",
            "\tspeed: 0.6892s/iter; left time: 2321.9611s\n",
            "\tspeed: 0.6891s/iter; left time: 2252.7345s\n",
            "\tspeed: 0.6891s/iter; left time: 2183.7300s\n",
            "\tspeed: 0.6889s/iter; left time: 2114.1254s\n",
            "\tspeed: 0.6891s/iter; left time: 2045.8905s\n",
            "\tspeed: 0.6880s/iter; left time: 1973.9620s\n",
            "\tspeed: 0.6880s/iter; left time: 1905.0112s\n",
            "\tspeed: 0.6882s/iter; left time: 1836.7952s\n",
            "\tspeed: 0.6863s/iter; left time: 1763.1716s\n",
            "\tspeed: 0.6884s/iter; left time: 1699.7511s\n",
            "\tspeed: 0.6869s/iter; left time: 1627.1718s\n",
            "\tspeed: 0.6867s/iter; left time: 1558.1517s\n",
            "\tspeed: 0.6856s/iter; left time: 1487.0880s\n",
            "\tspeed: 0.6873s/iter; left time: 1422.0718s\n",
            "\tspeed: 0.6845s/iter; left time: 1347.8307s\n",
            "Epoch: 2 cost time: 1330.109369277954\n",
            "Epoch: 2, Steps: 1934 | Train Loss: -48.8449416 Vali Loss: -48.7444265 \n",
            "EarlyStopping counter: 1 out of 3\n",
            "Updating learning rate to 5e-05\n",
            "\tspeed: 4.4755s/iter; left time: 8212.6019s\n",
            "\tspeed: 0.6856s/iter; left time: 1189.4954s\n",
            "\tspeed: 0.6845s/iter; left time: 1119.1877s\n",
            "\tspeed: 0.6857s/iter; left time: 1052.5481s\n",
            "\tspeed: 0.6865s/iter; left time: 985.0853s\n",
            "\tspeed: 0.6853s/iter; left time: 914.9416s\n",
            "\tspeed: 0.6873s/iter; left time: 848.7662s\n",
            "\tspeed: 0.6856s/iter; left time: 778.1332s\n",
            "\tspeed: 0.6846s/iter; left time: 708.5220s\n",
            "\tspeed: 0.6840s/iter; left time: 639.4987s\n",
            "\tspeed: 0.6853s/iter; left time: 572.2647s\n",
            "\tspeed: 0.6847s/iter; left time: 503.2543s\n",
            "\tspeed: 0.6849s/iter; left time: 434.8979s\n",
            "\tspeed: 0.6831s/iter; left time: 365.4807s\n",
            "\tspeed: 0.6835s/iter; left time: 297.3116s\n",
            "\tspeed: 0.6822s/iter; left time: 228.5300s\n",
            "\tspeed: 0.6821s/iter; left time: 160.3037s\n",
            "\tspeed: 0.6817s/iter; left time: 92.0317s\n",
            "\tspeed: 0.6819s/iter; left time: 23.8654s\n",
            "Epoch: 3 cost time: 1322.9546222686768\n",
            "Epoch: 3, Steps: 1934 | Train Loss: -48.9615722 Vali Loss: -48.8706891 \n",
            "EarlyStopping counter: 2 out of 3\n",
            "Updating learning rate to 2.5e-05\n"
          ]
        }
      ]
    },
    {
      "cell_type": "code",
      "source": [
        "!python main.py --anormly_ratio 0.1  --num_epochs 10 --batch_size 256 --mode test --dataset SWaT --data_path ./dataset/SWaT_RP_3  --input_c 3 --output_c 3 --pretrained_model 10"
      ],
      "metadata": {
        "colab": {
          "base_uri": "https://localhost:8080/"
        },
        "outputId": "fdfa68cd-6623-480d-cba3-e512daeb9c37",
        "id": "hXb_juAM8O5E"
      },
      "execution_count": null,
      "outputs": [
        {
          "output_type": "stream",
          "name": "stdout",
          "text": [
            "------------ Options -------------\n",
            "anormly_ratio: 0.1\n",
            "batch_size: 256\n",
            "data_path: ./dataset/SWaT_RP_3\n",
            "dataset: SWaT\n",
            "input_c: 3\n",
            "k: 3\n",
            "lr: 0.0001\n",
            "mode: test\n",
            "model_save_path: checkpoints\n",
            "num_epochs: 10\n",
            "output_c: 3\n",
            "pretrained_model: 10\n",
            "win_size: 100\n",
            "-------------- End ----------------\n",
            "test: (449919, 3)\n",
            "train: (495000, 3)\n",
            "test: (449919, 3)\n",
            "train: (495000, 3)\n",
            "test: (449919, 3)\n",
            "train: (495000, 3)\n",
            "test: (449919, 3)\n",
            "train: (495000, 3)\n",
            "======================TEST MODE======================\n",
            "/usr/local/lib/python3.10/dist-packages/torch/nn/_reduction.py:42: UserWarning: size_average and reduce args will be deprecated, please use reduction='none' instead.\n",
            "  warnings.warn(warning.format(ret))\n",
            "Threshold : 0.0027728170009797166\n",
            "pred:    (449900,)\n",
            "gt:      (449900,)\n",
            "pred:  (449900,)\n",
            "gt:    (449900,)\n",
            "Accuracy : 0.9821, Precision : 0.9891, Recall : 0.8619, F-score : 0.9212 \n"
          ]
        }
      ]
    },
    {
      "cell_type": "markdown",
      "source": [
        "##### t-SNE 2"
      ],
      "metadata": {
        "id": "yv2QTMYy8O5E"
      }
    },
    {
      "cell_type": "code",
      "source": [
        "!export CUDA_VISIBLE_DEVICES=0\n",
        "\n",
        "!python3 main.py --anormly_ratio 0.5 --num_epochs 3   --batch_size 256  --mode train --dataset SWaT  --data_path ./dataset/SWaT_TSNE_2 --input_c 2 --output_c 2"
      ],
      "metadata": {
        "colab": {
          "base_uri": "https://localhost:8080/"
        },
        "outputId": "12451011-0a33-4311-a27b-73256ec064fc",
        "id": "TTocjlVU8O5E"
      },
      "execution_count": null,
      "outputs": [
        {
          "output_type": "stream",
          "name": "stdout",
          "text": [
            "------------ Options -------------\n",
            "anormly_ratio: 0.5\n",
            "batch_size: 256\n",
            "data_path: ./dataset/SWaT_TSNE_2\n",
            "dataset: SWaT\n",
            "input_c: 2\n",
            "k: 3\n",
            "lr: 0.0001\n",
            "mode: train\n",
            "model_save_path: checkpoints\n",
            "num_epochs: 3\n",
            "output_c: 2\n",
            "pretrained_model: None\n",
            "win_size: 100\n",
            "-------------- End ----------------\n",
            "test: (449919, 2)\n",
            "train: (495000, 2)\n",
            "test: (449919, 2)\n",
            "train: (495000, 2)\n",
            "test: (449919, 2)\n",
            "train: (495000, 2)\n",
            "test: (449919, 2)\n",
            "train: (495000, 2)\n",
            "======================TRAIN MODE======================\n",
            "\tspeed: 0.7057s/iter; left time: 4024.6627s\n",
            "\tspeed: 0.6909s/iter; left time: 3871.0341s\n",
            "\tspeed: 0.6923s/iter; left time: 3809.8111s\n",
            "\tspeed: 0.6925s/iter; left time: 3741.3240s\n",
            "\tspeed: 0.6914s/iter; left time: 3666.4478s\n",
            "\tspeed: 0.6922s/iter; left time: 3601.6398s\n",
            "\tspeed: 0.6897s/iter; left time: 3519.7661s\n",
            "\tspeed: 0.6921s/iter; left time: 3462.6035s\n",
            "\tspeed: 0.6901s/iter; left time: 3383.7196s\n",
            "\tspeed: 0.6919s/iter; left time: 3323.1165s\n",
            "\tspeed: 0.6896s/iter; left time: 3243.0993s\n",
            "\tspeed: 0.6931s/iter; left time: 3190.1826s\n",
            "\tspeed: 0.6895s/iter; left time: 3105.0013s\n",
            "\tspeed: 0.6896s/iter; left time: 3036.3912s\n",
            "\tspeed: 0.6906s/iter; left time: 2971.4797s\n",
            "\tspeed: 0.6894s/iter; left time: 2897.6240s\n",
            "\tspeed: 0.6901s/iter; left time: 2831.5112s\n",
            "\tspeed: 0.6905s/iter; left time: 2764.2168s\n",
            "\tspeed: 0.6892s/iter; left time: 2689.9913s\n",
            "Epoch: 1 cost time: 1337.627347946167\n",
            "Epoch: 1, Steps: 1934 | Train Loss: -47.7487175 Vali Loss: -48.9698276 \n",
            "Validation loss decreased (inf --> -48.969828).  Saving model ...\n",
            "Updating learning rate to 0.0001\n",
            "\tspeed: 4.4857s/iter; left time: 16906.4231s\n",
            "\tspeed: 0.6900s/iter; left time: 2531.7688s\n",
            "\tspeed: 0.6895s/iter; left time: 2460.8203s\n",
            "\tspeed: 0.6899s/iter; left time: 2393.1192s\n",
            "\tspeed: 0.6894s/iter; left time: 2322.5649s\n",
            "\tspeed: 0.6912s/iter; left time: 2259.4794s\n",
            "\tspeed: 0.6902s/iter; left time: 2187.2153s\n",
            "\tspeed: 0.6890s/iter; left time: 2114.5953s\n",
            "\tspeed: 0.6891s/iter; left time: 2045.8843s\n",
            "\tspeed: 0.6889s/iter; left time: 1976.5693s\n",
            "\tspeed: 0.6892s/iter; left time: 1908.2848s\n",
            "\tspeed: 0.6891s/iter; left time: 1839.1300s\n",
            "\tspeed: 0.6890s/iter; left time: 1770.1659s\n",
            "\tspeed: 0.6891s/iter; left time: 1701.2863s\n",
            "\tspeed: 0.6889s/iter; left time: 1631.9256s\n",
            "\tspeed: 0.6890s/iter; left time: 1563.4003s\n",
            "\tspeed: 0.6890s/iter; left time: 1494.3806s\n",
            "\tspeed: 0.6891s/iter; left time: 1425.8014s\n",
            "\tspeed: 0.6890s/iter; left time: 1356.5674s\n",
            "Epoch: 2 cost time: 1332.6159694194794\n",
            "Epoch: 2, Steps: 1934 | Train Loss: -48.9885709 Vali Loss: -48.9934521 \n",
            "EarlyStopping counter: 1 out of 3\n",
            "Updating learning rate to 5e-05\n",
            "\tspeed: 4.4802s/iter; left time: 8221.2326s\n",
            "\tspeed: 0.6891s/iter; left time: 1195.6660s\n",
            "\tspeed: 0.6892s/iter; left time: 1126.8040s\n",
            "\tspeed: 0.6890s/iter; left time: 1057.6276s\n",
            "\tspeed: 0.6891s/iter; left time: 988.8890s\n",
            "\tspeed: 0.6889s/iter; left time: 919.7453s\n",
            "\tspeed: 0.6891s/iter; left time: 851.0412s\n",
            "\tspeed: 0.6890s/iter; left time: 782.0260s\n",
            "\tspeed: 0.6890s/iter; left time: 713.0860s\n",
            "\tspeed: 0.6891s/iter; left time: 644.2752s\n",
            "\tspeed: 0.6891s/iter; left time: 575.4342s\n",
            "\tspeed: 0.6890s/iter; left time: 506.4506s\n",
            "\tspeed: 0.6892s/iter; left time: 437.6397s\n",
            "\tspeed: 0.6890s/iter; left time: 368.6090s\n",
            "\tspeed: 0.6891s/iter; left time: 299.7757s\n",
            "\tspeed: 0.6891s/iter; left time: 230.8339s\n",
            "\tspeed: 0.6889s/iter; left time: 161.9025s\n",
            "\tspeed: 0.6891s/iter; left time: 93.0321s\n",
            "\tspeed: 0.6886s/iter; left time: 24.1012s\n",
            "Epoch: 3 cost time: 1332.068160533905\n",
            "Epoch: 3, Steps: 1934 | Train Loss: -48.9993221 Vali Loss: -48.9986377 \n",
            "EarlyStopping counter: 2 out of 3\n",
            "Updating learning rate to 2.5e-05\n"
          ]
        }
      ]
    },
    {
      "cell_type": "code",
      "source": [
        "!python main.py --anormly_ratio 0.1  --num_epochs 10 --batch_size 256 --mode test --dataset SWaT --data_path ./dataset/SWaT_TSNE_2  --input_c 2 --output_c 2 --pretrained_model 10"
      ],
      "metadata": {
        "colab": {
          "base_uri": "https://localhost:8080/"
        },
        "outputId": "b2a4aeca-2b9a-425a-d205-6acb4b83169c",
        "id": "DaD8Np708O5E"
      },
      "execution_count": null,
      "outputs": [
        {
          "output_type": "stream",
          "name": "stdout",
          "text": [
            "------------ Options -------------\n",
            "anormly_ratio: 0.1\n",
            "batch_size: 256\n",
            "data_path: ./dataset/SWaT_TSNE_2\n",
            "dataset: SWaT\n",
            "input_c: 2\n",
            "k: 3\n",
            "lr: 0.0001\n",
            "mode: test\n",
            "model_save_path: checkpoints\n",
            "num_epochs: 10\n",
            "output_c: 2\n",
            "pretrained_model: 10\n",
            "win_size: 100\n",
            "-------------- End ----------------\n",
            "test: (449919, 2)\n",
            "train: (495000, 2)\n",
            "test: (449919, 2)\n",
            "train: (495000, 2)\n",
            "test: (449919, 2)\n",
            "train: (495000, 2)\n",
            "test: (449919, 2)\n",
            "train: (495000, 2)\n",
            "======================TEST MODE======================\n",
            "/usr/local/lib/python3.10/dist-packages/torch/nn/_reduction.py:42: UserWarning: size_average and reduce args will be deprecated, please use reduction='none' instead.\n",
            "  warnings.warn(warning.format(ret))\n",
            "Threshold : 0.0006287815687828812\n",
            "pred:    (449900,)\n",
            "gt:      (449900,)\n",
            "pred:  (449900,)\n",
            "gt:    (449900,)\n",
            "Accuracy : 0.9891, Precision : 0.9854, Recall : 0.9237, F-score : 0.9536 \n"
          ]
        }
      ]
    },
    {
      "cell_type": "markdown",
      "source": [
        "##### PCA 2"
      ],
      "metadata": {
        "id": "02KDZnZ68O5E"
      }
    },
    {
      "cell_type": "code",
      "source": [
        "!export CUDA_VISIBLE_DEVICES=0\n",
        "\n",
        "!python3 main.py --anormly_ratio 0.5 --num_epochs 3   --batch_size 256  --mode train --dataset SWaT  --data_path ./dataset/SWaT_PCA_2 --input_c 2 --output_c 2"
      ],
      "metadata": {
        "colab": {
          "base_uri": "https://localhost:8080/"
        },
        "outputId": "3607d9d2-2f92-4299-c3e0-5a656e54ef55",
        "id": "_WdHGxcS8O5E"
      },
      "execution_count": null,
      "outputs": [
        {
          "output_type": "stream",
          "name": "stdout",
          "text": [
            "------------ Options -------------\n",
            "anormly_ratio: 0.5\n",
            "batch_size: 256\n",
            "data_path: ./dataset/SWaT_PCA_2\n",
            "dataset: SWaT\n",
            "input_c: 2\n",
            "k: 3\n",
            "lr: 0.0001\n",
            "mode: train\n",
            "model_save_path: checkpoints\n",
            "num_epochs: 3\n",
            "output_c: 2\n",
            "pretrained_model: None\n",
            "win_size: 100\n",
            "-------------- End ----------------\n",
            "test: (449919, 2)\n",
            "train: (495000, 2)\n",
            "test: (449919, 2)\n",
            "train: (495000, 2)\n",
            "test: (449919, 2)\n",
            "train: (495000, 2)\n",
            "test: (449919, 2)\n",
            "train: (495000, 2)\n",
            "======================TRAIN MODE======================\n",
            "\tspeed: 0.6891s/iter; left time: 3930.0636s\n",
            "\tspeed: 0.6932s/iter; left time: 3884.2371s\n",
            "\tspeed: 0.6954s/iter; left time: 3826.7304s\n",
            "\tspeed: 0.6922s/iter; left time: 3740.2079s\n",
            "\tspeed: 0.6939s/iter; left time: 3679.8632s\n",
            "\tspeed: 0.6907s/iter; left time: 3593.8419s\n",
            "\tspeed: 0.6898s/iter; left time: 3519.8372s\n",
            "\tspeed: 0.6929s/iter; left time: 3466.5305s\n",
            "\tspeed: 0.6901s/iter; left time: 3383.5343s\n",
            "\tspeed: 0.6898s/iter; left time: 3313.1081s\n",
            "\tspeed: 0.6898s/iter; left time: 3244.1610s\n",
            "\tspeed: 0.6895s/iter; left time: 3173.6952s\n",
            "\tspeed: 0.6896s/iter; left time: 3105.1602s\n",
            "\tspeed: 0.6890s/iter; left time: 3033.4809s\n",
            "\tspeed: 0.6892s/iter; left time: 2965.6123s\n",
            "\tspeed: 0.6891s/iter; left time: 2896.2112s\n",
            "\tspeed: 0.6890s/iter; left time: 2826.8850s\n",
            "\tspeed: 0.6888s/iter; left time: 2757.2346s\n",
            "\tspeed: 0.6890s/iter; left time: 2689.2383s\n",
            "Epoch: 1 cost time: 1335.5947580337524\n",
            "Epoch: 1, Steps: 1934 | Train Loss: -47.1560209 Vali Loss: -46.4582865 \n",
            "Validation loss decreased (inf --> -46.458287).  Saving model ...\n",
            "Updating learning rate to 0.0001\n",
            "\tspeed: 4.4864s/iter; left time: 16909.1920s\n",
            "\tspeed: 0.6891s/iter; left time: 2528.4098s\n",
            "\tspeed: 0.6885s/iter; left time: 2457.1989s\n",
            "\tspeed: 0.6875s/iter; left time: 2384.8375s\n",
            "\tspeed: 0.6894s/iter; left time: 2322.5907s\n",
            "\tspeed: 0.6886s/iter; left time: 2250.9037s\n",
            "\tspeed: 0.6881s/iter; left time: 2180.6556s\n",
            "\tspeed: 0.6887s/iter; left time: 2113.5057s\n",
            "\tspeed: 0.6877s/iter; left time: 2041.8481s\n",
            "\tspeed: 0.6888s/iter; left time: 1976.2495s\n",
            "\tspeed: 0.6887s/iter; left time: 1907.1289s\n",
            "\tspeed: 0.6882s/iter; left time: 1836.7854s\n",
            "\tspeed: 0.6878s/iter; left time: 1766.8419s\n",
            "\tspeed: 0.6888s/iter; left time: 1700.6689s\n",
            "\tspeed: 0.6882s/iter; left time: 1630.4486s\n",
            "\tspeed: 0.6876s/iter; left time: 1560.1659s\n",
            "\tspeed: 0.6882s/iter; left time: 1492.6885s\n",
            "\tspeed: 0.6874s/iter; left time: 1422.2187s\n",
            "\tspeed: 0.6875s/iter; left time: 1353.7487s\n",
            "Epoch: 2 cost time: 1330.589994430542\n",
            "Epoch: 2, Steps: 1934 | Train Loss: -48.3785400 Vali Loss: -45.3935385 \n",
            "EarlyStopping counter: 1 out of 3\n",
            "Updating learning rate to 5e-05\n",
            "\tspeed: 4.4804s/iter; left time: 8221.5062s\n",
            "\tspeed: 0.6878s/iter; left time: 1193.3701s\n",
            "\tspeed: 0.6878s/iter; left time: 1124.5864s\n",
            "\tspeed: 0.6881s/iter; left time: 1056.2109s\n",
            "\tspeed: 0.6878s/iter; left time: 986.9272s\n",
            "\tspeed: 0.6868s/iter; left time: 916.8413s\n",
            "\tspeed: 0.6868s/iter; left time: 848.1630s\n",
            "\tspeed: 0.6872s/iter; left time: 779.9918s\n",
            "\tspeed: 0.6875s/iter; left time: 711.5803s\n",
            "\tspeed: 0.6872s/iter; left time: 642.5145s\n",
            "\tspeed: 0.6871s/iter; left time: 573.7097s\n",
            "\tspeed: 0.6872s/iter; left time: 505.1126s\n",
            "\tspeed: 0.6870s/iter; left time: 436.2600s\n",
            "\tspeed: 0.6868s/iter; left time: 367.4306s\n",
            "\tspeed: 0.6864s/iter; left time: 298.5689s\n",
            "\tspeed: 0.6864s/iter; left time: 229.9606s\n",
            "\tspeed: 0.6865s/iter; left time: 161.3392s\n",
            "\tspeed: 0.6870s/iter; left time: 92.7402s\n",
            "\tspeed: 0.6873s/iter; left time: 24.0559s\n",
            "Epoch: 3 cost time: 1328.4440243244171\n",
            "Epoch: 3, Steps: 1934 | Train Loss: -48.6292250 Vali Loss: -48.4071010 \n",
            "Validation loss decreased (-46.458287 --> -48.407101).  Saving model ...\n",
            "Updating learning rate to 2.5e-05\n"
          ]
        }
      ]
    },
    {
      "cell_type": "code",
      "source": [
        "!python main.py --anormly_ratio 0.1  --num_epochs 10 --batch_size 256 --mode test --dataset SWaT --data_path ./dataset/SWaT_PCA_2  --input_c 2 --output_c 2 --pretrained_model 10"
      ],
      "metadata": {
        "colab": {
          "base_uri": "https://localhost:8080/"
        },
        "outputId": "c5cb8fb2-0441-4e11-8696-6e9c1629634a",
        "id": "3lwsdWHG8O5E"
      },
      "execution_count": null,
      "outputs": [
        {
          "output_type": "stream",
          "name": "stdout",
          "text": [
            "------------ Options -------------\n",
            "anormly_ratio: 0.1\n",
            "batch_size: 256\n",
            "data_path: ./dataset/SWaT_PCA_2\n",
            "dataset: SWaT\n",
            "input_c: 2\n",
            "k: 3\n",
            "lr: 0.0001\n",
            "mode: test\n",
            "model_save_path: checkpoints\n",
            "num_epochs: 10\n",
            "output_c: 2\n",
            "pretrained_model: 10\n",
            "win_size: 100\n",
            "-------------- End ----------------\n",
            "test: (449919, 2)\n",
            "train: (495000, 2)\n",
            "test: (449919, 2)\n",
            "train: (495000, 2)\n",
            "test: (449919, 2)\n",
            "train: (495000, 2)\n",
            "test: (449919, 2)\n",
            "train: (495000, 2)\n",
            "======================TEST MODE======================\n",
            "/usr/local/lib/python3.10/dist-packages/torch/nn/_reduction.py:42: UserWarning: size_average and reduce args will be deprecated, please use reduction='none' instead.\n",
            "  warnings.warn(warning.format(ret))\n",
            "Threshold : 0.00027093003358459513\n",
            "pred:    (449900,)\n",
            "gt:      (449900,)\n",
            "pred:  (449900,)\n",
            "gt:    (449900,)\n",
            "Accuracy : 0.9900, Precision : 0.9492, Recall : 0.9696, F-score : 0.9593 \n"
          ]
        }
      ]
    },
    {
      "cell_type": "markdown",
      "source": [
        "##### UMAP 2"
      ],
      "metadata": {
        "id": "g-1dPOuN8O5E"
      }
    },
    {
      "cell_type": "code",
      "source": [
        "!export CUDA_VISIBLE_DEVICES=0\n",
        "\n",
        "!python3 main.py --anormly_ratio 0.5 --num_epochs 3   --batch_size 256  --mode train --dataset SWaT  --data_path ./dataset/SWaT_UMAP_2 --input_c 2 --output_c 2"
      ],
      "metadata": {
        "colab": {
          "base_uri": "https://localhost:8080/"
        },
        "outputId": "c3a95bd3-218b-44fc-b24b-edeb285479ce",
        "id": "zz19fXEv8O5E"
      },
      "execution_count": null,
      "outputs": [
        {
          "output_type": "stream",
          "name": "stdout",
          "text": [
            "------------ Options -------------\n",
            "anormly_ratio: 0.5\n",
            "batch_size: 256\n",
            "data_path: ./dataset/SWaT_UMAP_2\n",
            "dataset: SWaT\n",
            "input_c: 2\n",
            "k: 3\n",
            "lr: 0.0001\n",
            "mode: train\n",
            "model_save_path: checkpoints\n",
            "num_epochs: 3\n",
            "output_c: 2\n",
            "pretrained_model: None\n",
            "win_size: 100\n",
            "-------------- End ----------------\n",
            "test: (449919, 2)\n",
            "train: (495000, 2)\n",
            "test: (449919, 2)\n",
            "train: (495000, 2)\n",
            "test: (449919, 2)\n",
            "train: (495000, 2)\n",
            "test: (449919, 2)\n",
            "train: (495000, 2)\n",
            "======================TRAIN MODE======================\n",
            "\tspeed: 0.7059s/iter; left time: 4025.5382s\n",
            "\tspeed: 0.6911s/iter; left time: 3872.4034s\n",
            "\tspeed: 0.6926s/iter; left time: 3811.3130s\n",
            "\tspeed: 0.6922s/iter; left time: 3740.0062s\n",
            "\tspeed: 0.6907s/iter; left time: 3662.5215s\n",
            "\tspeed: 0.6910s/iter; left time: 3595.4737s\n",
            "\tspeed: 0.6899s/iter; left time: 3520.5998s\n",
            "\tspeed: 0.6903s/iter; left time: 3453.3796s\n",
            "\tspeed: 0.6898s/iter; left time: 3382.1479s\n",
            "\tspeed: 0.6909s/iter; left time: 3318.2645s\n",
            "\tspeed: 0.6919s/iter; left time: 3253.9144s\n",
            "\tspeed: 0.6909s/iter; left time: 3180.4027s\n",
            "\tspeed: 0.6913s/iter; left time: 3112.7899s\n",
            "\tspeed: 0.6902s/iter; left time: 3039.0820s\n",
            "\tspeed: 0.6900s/iter; left time: 2969.0251s\n",
            "\tspeed: 0.6907s/iter; left time: 2903.0949s\n",
            "\tspeed: 0.6913s/iter; left time: 2836.4597s\n",
            "\tspeed: 0.6901s/iter; left time: 2762.5333s\n",
            "\tspeed: 0.6906s/iter; left time: 2695.2648s\n",
            "Epoch: 1 cost time: 1337.8078951835632\n",
            "Epoch: 1, Steps: 1934 | Train Loss: -47.5768037 Vali Loss: -48.9509413 \n",
            "Validation loss decreased (inf --> -48.950941).  Saving model ...\n",
            "Updating learning rate to 0.0001\n",
            "\tspeed: 4.4877s/iter; left time: 16914.2034s\n",
            "\tspeed: 0.6904s/iter; left time: 2533.2332s\n",
            "\tspeed: 0.6894s/iter; left time: 2460.4295s\n",
            "\tspeed: 0.6896s/iter; left time: 2392.1637s\n",
            "\tspeed: 0.6906s/iter; left time: 2326.6517s\n",
            "\tspeed: 0.6901s/iter; left time: 2256.0424s\n",
            "\tspeed: 0.6900s/iter; left time: 2186.7030s\n",
            "\tspeed: 0.6902s/iter; left time: 2118.3450s\n",
            "\tspeed: 0.6900s/iter; left time: 2048.6603s\n",
            "\tspeed: 0.6892s/iter; left time: 1977.4016s\n",
            "\tspeed: 0.6887s/iter; left time: 1907.0652s\n",
            "\tspeed: 0.6892s/iter; left time: 1839.3497s\n",
            "\tspeed: 0.6895s/iter; left time: 1771.3599s\n",
            "\tspeed: 0.6890s/iter; left time: 1701.1594s\n",
            "\tspeed: 0.6894s/iter; left time: 1633.2592s\n",
            "\tspeed: 0.6898s/iter; left time: 1565.2611s\n",
            "\tspeed: 0.6891s/iter; left time: 1494.6027s\n",
            "\tspeed: 0.6876s/iter; left time: 1422.6489s\n",
            "\tspeed: 0.6887s/iter; left time: 1355.9883s\n",
            "Epoch: 2 cost time: 1332.8550136089325\n",
            "Epoch: 2, Steps: 1934 | Train Loss: -48.9811552 Vali Loss: -48.9953560 \n",
            "EarlyStopping counter: 1 out of 3\n",
            "Updating learning rate to 5e-05\n",
            "\tspeed: 4.4806s/iter; left time: 8221.8941s\n",
            "\tspeed: 0.6891s/iter; left time: 1195.6507s\n",
            "\tspeed: 0.6896s/iter; left time: 1127.4672s\n",
            "\tspeed: 0.6893s/iter; left time: 1058.1520s\n",
            "\tspeed: 0.6894s/iter; left time: 989.2656s\n",
            "\tspeed: 0.6895s/iter; left time: 920.5395s\n",
            "\tspeed: 0.6901s/iter; left time: 852.2143s\n",
            "\tspeed: 0.6897s/iter; left time: 782.7797s\n",
            "\tspeed: 0.6888s/iter; left time: 712.9351s\n",
            "\tspeed: 0.6895s/iter; left time: 644.6993s\n",
            "\tspeed: 0.6891s/iter; left time: 575.4296s\n",
            "\tspeed: 0.6885s/iter; left time: 506.0295s\n",
            "\tspeed: 0.6886s/iter; left time: 437.2452s\n",
            "\tspeed: 0.6884s/iter; left time: 368.2832s\n",
            "\tspeed: 0.6886s/iter; left time: 299.5361s\n",
            "\tspeed: 0.6878s/iter; left time: 230.4098s\n",
            "\tspeed: 0.6872s/iter; left time: 161.5011s\n",
            "\tspeed: 0.6877s/iter; left time: 92.8443s\n",
            "\tspeed: 0.6877s/iter; left time: 24.0690s\n",
            "Epoch: 3 cost time: 1331.66983127594\n",
            "Epoch: 3, Steps: 1934 | Train Loss: -48.9989819 Vali Loss: -49.0010236 \n",
            "EarlyStopping counter: 2 out of 3\n",
            "Updating learning rate to 2.5e-05\n"
          ]
        }
      ]
    },
    {
      "cell_type": "code",
      "source": [
        "!python main.py --anormly_ratio 0.1  --num_epochs 10 --batch_size 256 --mode test --dataset SWaT --data_path ./dataset/SWaT_UMAP_2  --input_c 2 --output_c 2 --pretrained_model 10"
      ],
      "metadata": {
        "colab": {
          "base_uri": "https://localhost:8080/"
        },
        "outputId": "a7a53150-e553-495f-b9bd-fe3e2ebe30f2",
        "id": "My_k7_Hf8O5F"
      },
      "execution_count": null,
      "outputs": [
        {
          "output_type": "stream",
          "name": "stdout",
          "text": [
            "------------ Options -------------\n",
            "anormly_ratio: 0.1\n",
            "batch_size: 256\n",
            "data_path: ./dataset/SWaT_UMAP_2\n",
            "dataset: SWaT\n",
            "input_c: 2\n",
            "k: 3\n",
            "lr: 0.0001\n",
            "mode: test\n",
            "model_save_path: checkpoints\n",
            "num_epochs: 10\n",
            "output_c: 2\n",
            "pretrained_model: 10\n",
            "win_size: 100\n",
            "-------------- End ----------------\n",
            "test: (449919, 2)\n",
            "train: (495000, 2)\n",
            "test: (449919, 2)\n",
            "train: (495000, 2)\n",
            "test: (449919, 2)\n",
            "train: (495000, 2)\n",
            "test: (449919, 2)\n",
            "train: (495000, 2)\n",
            "======================TEST MODE======================\n",
            "/usr/local/lib/python3.10/dist-packages/torch/nn/_reduction.py:42: UserWarning: size_average and reduce args will be deprecated, please use reduction='none' instead.\n",
            "  warnings.warn(warning.format(ret))\n",
            "Threshold : 0.0009672144129290348\n",
            "pred:    (449900,)\n",
            "gt:      (449900,)\n",
            "pred:  (449900,)\n",
            "gt:    (449900,)\n",
            "Accuracy : 0.9851, Precision : 0.9890, Recall : 0.8871, F-score : 0.9352 \n"
          ]
        }
      ]
    },
    {
      "cell_type": "markdown",
      "source": [
        "##### RP 2"
      ],
      "metadata": {
        "id": "jTFPu1NI8O5F"
      }
    },
    {
      "cell_type": "code",
      "source": [
        "!export CUDA_VISIBLE_DEVICES=0\n",
        "\n",
        "!python3 main.py --anormly_ratio 0.5 --num_epochs 3   --batch_size 256  --mode train --dataset SWaT  --data_path ./dataset/SWaT_RP_2 --input_c 2 --output_c 2"
      ],
      "metadata": {
        "colab": {
          "base_uri": "https://localhost:8080/"
        },
        "outputId": "6e8bf5a4-977a-4d31-a751-f848edbd57df",
        "id": "NzMhMcMh8O5F"
      },
      "execution_count": null,
      "outputs": [
        {
          "output_type": "stream",
          "name": "stdout",
          "text": [
            "------------ Options -------------\n",
            "anormly_ratio: 0.5\n",
            "batch_size: 256\n",
            "data_path: ./dataset/SWaT_RP_2\n",
            "dataset: SWaT\n",
            "input_c: 2\n",
            "k: 3\n",
            "lr: 0.0001\n",
            "mode: train\n",
            "model_save_path: checkpoints\n",
            "num_epochs: 3\n",
            "output_c: 2\n",
            "pretrained_model: None\n",
            "win_size: 100\n",
            "-------------- End ----------------\n",
            "test: (449919, 2)\n",
            "train: (495000, 2)\n",
            "test: (449919, 2)\n",
            "train: (495000, 2)\n",
            "test: (449919, 2)\n",
            "train: (495000, 2)\n",
            "test: (449919, 2)\n",
            "train: (495000, 2)\n",
            "======================TRAIN MODE======================\n",
            "\tspeed: 0.7069s/iter; left time: 4031.3370s\n",
            "\tspeed: 0.6934s/iter; left time: 3884.8598s\n",
            "\tspeed: 0.6934s/iter; left time: 3815.5056s\n",
            "\tspeed: 0.6932s/iter; left time: 3745.6218s\n",
            "\tspeed: 0.6931s/iter; left time: 3675.4149s\n",
            "\tspeed: 0.6934s/iter; left time: 3607.8928s\n",
            "\tspeed: 0.6936s/iter; left time: 3539.6087s\n",
            "\tspeed: 0.6932s/iter; left time: 3468.1643s\n",
            "\tspeed: 0.6922s/iter; left time: 3393.8956s\n",
            "\tspeed: 0.6917s/iter; left time: 3322.1006s\n",
            "\tspeed: 0.6912s/iter; left time: 3250.8643s\n",
            "\tspeed: 0.6911s/iter; left time: 3181.1057s\n",
            "\tspeed: 0.6911s/iter; left time: 3111.9984s\n",
            "\tspeed: 0.6915s/iter; left time: 3044.6843s\n",
            "\tspeed: 0.6909s/iter; left time: 2972.7429s\n",
            "\tspeed: 0.6909s/iter; left time: 2904.0222s\n",
            "\tspeed: 0.6913s/iter; left time: 2836.4164s\n",
            "\tspeed: 0.6900s/iter; left time: 2761.9914s\n",
            "\tspeed: 0.6910s/iter; left time: 2697.0343s\n",
            "Epoch: 1 cost time: 1339.9053037166595\n",
            "Epoch: 1, Steps: 1934 | Train Loss: -47.4926598 Vali Loss: -48.3396276 \n",
            "Validation loss decreased (inf --> -48.339628).  Saving model ...\n",
            "Updating learning rate to 0.0001\n",
            "\tspeed: 4.4873s/iter; left time: 16912.6851s\n",
            "\tspeed: 0.6902s/iter; left time: 2532.2237s\n",
            "\tspeed: 0.6896s/iter; left time: 2461.0245s\n",
            "\tspeed: 0.6897s/iter; left time: 2392.4109s\n",
            "\tspeed: 0.6892s/iter; left time: 2321.8787s\n",
            "\tspeed: 0.6885s/iter; left time: 2250.6934s\n",
            "\tspeed: 0.6879s/iter; left time: 2179.8294s\n",
            "\tspeed: 0.6884s/iter; left time: 2112.7211s\n",
            "\tspeed: 0.6880s/iter; left time: 2042.6984s\n",
            "\tspeed: 0.6879s/iter; left time: 1973.4931s\n",
            "\tspeed: 0.6881s/iter; left time: 1905.4065s\n",
            "\tspeed: 0.6874s/iter; left time: 1834.6497s\n",
            "\tspeed: 0.6878s/iter; left time: 1766.8463s\n",
            "\tspeed: 0.6864s/iter; left time: 1694.6416s\n",
            "\tspeed: 0.6866s/iter; left time: 1626.5296s\n",
            "\tspeed: 0.6858s/iter; left time: 1556.0413s\n",
            "\tspeed: 0.6868s/iter; left time: 1489.5782s\n",
            "\tspeed: 0.6861s/iter; left time: 1419.4742s\n",
            "\tspeed: 0.6855s/iter; left time: 1349.8041s\n",
            "Epoch: 2 cost time: 1329.6802899837494\n",
            "Epoch: 2, Steps: 1934 | Train Loss: -48.6241636 Vali Loss: -48.7656769 \n",
            "EarlyStopping counter: 1 out of 3\n",
            "Updating learning rate to 5e-05\n",
            "\tspeed: 4.4785s/iter; left time: 8217.9849s\n",
            "\tspeed: 0.6863s/iter; left time: 1190.7193s\n",
            "\tspeed: 0.6865s/iter; left time: 1122.3480s\n",
            "\tspeed: 0.6863s/iter; left time: 1053.4126s\n",
            "\tspeed: 0.6862s/iter; left time: 984.6316s\n",
            "\tspeed: 0.6848s/iter; left time: 914.1613s\n",
            "\tspeed: 0.6859s/iter; left time: 847.1128s\n",
            "\tspeed: 0.6860s/iter; left time: 778.5848s\n",
            "\tspeed: 0.6853s/iter; left time: 709.3167s\n",
            "\tspeed: 0.6855s/iter; left time: 640.9514s\n",
            "\tspeed: 0.6852s/iter; left time: 572.1042s\n",
            "\tspeed: 0.6851s/iter; left time: 503.5242s\n",
            "\tspeed: 0.6843s/iter; left time: 434.5599s\n",
            "\tspeed: 0.6856s/iter; left time: 366.7793s\n",
            "\tspeed: 0.6836s/iter; left time: 297.3777s\n",
            "\tspeed: 0.6855s/iter; left time: 229.6460s\n",
            "\tspeed: 0.6834s/iter; left time: 160.6106s\n",
            "\tspeed: 0.6846s/iter; left time: 92.4166s\n",
            "\tspeed: 0.6832s/iter; left time: 23.9117s\n",
            "Epoch: 3 cost time: 1324.601054906845\n",
            "Epoch: 3, Steps: 1934 | Train Loss: -48.9340398 Vali Loss: -48.9005524 \n",
            "EarlyStopping counter: 2 out of 3\n",
            "Updating learning rate to 2.5e-05\n"
          ]
        }
      ]
    },
    {
      "cell_type": "code",
      "source": [
        "!python main.py --anormly_ratio 0.1  --num_epochs 10 --batch_size 256 --mode test --dataset SWaT --data_path ./dataset/SWaT_RP_2  --input_c 2 --output_c 2 --pretrained_model 10"
      ],
      "metadata": {
        "id": "rJQVVm9V8O5F",
        "colab": {
          "base_uri": "https://localhost:8080/"
        },
        "outputId": "04bc9c05-a1ed-482b-cf89-8a3e1303c109"
      },
      "execution_count": null,
      "outputs": [
        {
          "output_type": "stream",
          "name": "stdout",
          "text": [
            "------------ Options -------------\n",
            "anormly_ratio: 0.1\n",
            "batch_size: 256\n",
            "data_path: ./dataset/SWaT_RP_2\n",
            "dataset: SWaT\n",
            "input_c: 2\n",
            "k: 3\n",
            "lr: 0.0001\n",
            "mode: test\n",
            "model_save_path: checkpoints\n",
            "num_epochs: 10\n",
            "output_c: 2\n",
            "pretrained_model: 10\n",
            "win_size: 100\n",
            "-------------- End ----------------\n",
            "test: (449919, 2)\n",
            "train: (495000, 2)\n",
            "test: (449919, 2)\n",
            "train: (495000, 2)\n",
            "test: (449919, 2)\n",
            "train: (495000, 2)\n",
            "test: (449919, 2)\n",
            "train: (495000, 2)\n",
            "======================TEST MODE======================\n",
            "/usr/local/lib/python3.10/dist-packages/torch/nn/_reduction.py:42: UserWarning: size_average and reduce args will be deprecated, please use reduction='none' instead.\n",
            "  warnings.warn(warning.format(ret))\n",
            "Threshold : 0.0018818449741229981\n",
            "pred:    (449900,)\n",
            "gt:      (449900,)\n",
            "pred:  (449900,)\n",
            "gt:    (449900,)\n",
            "Accuracy : 0.9848, Precision : 0.9876, Recall : 0.8862, F-score : 0.9341 \n"
          ]
        }
      ]
    }
  ]
}