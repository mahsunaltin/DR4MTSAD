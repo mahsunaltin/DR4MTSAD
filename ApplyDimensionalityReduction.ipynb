{
 "cells": [
  {
   "cell_type": "code",
   "execution_count": null,
   "metadata": {},
   "outputs": [],
   "source": [
    "import pandas as pd\n",
    "import os\n",
    "import pickle\n",
    "import numpy as np\n",
    "from sklearn.decomposition import PCA\n",
    "from sklearn.manifold import TSNE\n",
    "from sklearn.random_projection import GaussianRandomProjection\n",
    "from umap import UMAP\n",
    "from sklearn.preprocessing import StandardScaler\n",
    "\n",
    "def apply_dimensionality_reduction(pkl_folder, n_components=2):\n",
    "    \"\"\"\n",
    "    Apply Random Projections, UMAP, PCA, and t-SNE to each .pkl file in the specified folder.\n",
    "    :param pkl_folder: Folder containing .pkl files.\n",
    "    :param n_components: Number of dimensions to project to for each method.\n",
    "    \"\"\"\n",
    "    for file in os.listdir(pkl_folder):\n",
    "        # Skip the label file\n",
    "        if 'label' in file:\n",
    "            continue\n",
    "        # Load the data\n",
    "        if file.endswith('.pkl'):\n",
    "            file_path = os.path.join(pkl_folder, file)\n",
    "            data = pd.read_pickle(file_path)\n",
    "            data = np.array([[float(x.replace(',', '.')) if isinstance(x, str) else x for x in row] for row in data])\n",
    "\n",
    "            # Standardizing the data before applying transformations\n",
    "            scaler = StandardScaler()\n",
    "            scaled_data = scaler.fit_transform(data)\n",
    "\n",
    "            # Apply each dimensionality reduction technique\n",
    "            techniques = {\n",
    "                \"rp\": GaussianRandomProjection(n_components=n_components),\n",
    "                \"umap\": UMAP(n_components=n_components),\n",
    "                \"pca\": PCA(n_components=n_components),\n",
    "                # Apply t-SNE with a maximum of 3 components\n",
    "                \"tsne\": TSNE(n_components=min(n_components, 3))\n",
    "            }\n",
    "\n",
    "            for technique_name, technique in techniques.items():\n",
    "                save_filename = f\"{n_components}_components_{technique_name}_{file}\"\n",
    "                save_file_path = os.path.join(pkl_folder, technique_name, str(n_components), save_filename)\n",
    "\n",
    "                # Create the directory if it doesn't exist\n",
    "                if not os.path.exists(os.path.dirname(save_file_path)):\n",
    "                    os.makedirs(os.path.dirname(save_file_path))\n",
    "\n",
    "                transformed_data = technique.fit_transform(scaled_data)\n",
    "\n",
    "                # Save the data in raw array format as a .pkl file\n",
    "                with open(save_file_path, 'wb') as f:\n",
    "                    pickle.dump(transformed_data, f)\n",
    "\n",
    "                print(f\"Applied {technique_name.upper()} to {file} and saved as {save_filename} in {pkl_folder}/{technique_name}/{n_components} folder.\")"
   ]
  },
  {
   "cell_type": "code",
   "execution_count": null,
   "metadata": {},
   "outputs": [],
   "source": [
    "### Apply dimensionality reduction to all .pkl files in the specified folder ###\n",
    "\n",
    "# Set the number of components to project to n_components\n",
    "n_components = 8\n",
    "# Replace 'path_to_your_pkl_folder' with the path to the folder containing your .pkl files\n",
    "path_to_your_pkl_folder = './data/MSL/'\n",
    "apply_dimensionality_reduction(pkl_folder=path_to_your_pkl_folder, n_components=n_components)"
   ]
  }
 ],
 "metadata": {
  "kernelspec": {
   "display_name": "Python 3",
   "language": "python",
   "name": "python3"
  },
  "language_info": {
   "codemirror_mode": {
    "name": "ipython",
    "version": 3
   },
   "file_extension": ".py",
   "mimetype": "text/x-python",
   "name": "python",
   "nbconvert_exporter": "python",
   "pygments_lexer": "ipython3",
   "version": "3.9.6"
  }
 },
 "nbformat": 4,
 "nbformat_minor": 2
}
